{
 "cells": [
  {
   "cell_type": "markdown",
   "metadata": {},
   "source": [
    "# Algorithms in Machine Learning\n",
    "## Student: Javier CUADRADO ANÍBARRO\n",
    "\n",
    "The present notebook can be also found in https://github.com/J-Cuadrado/AML_Evaluation"
   ]
  },
  {
   "cell_type": "markdown",
   "metadata": {},
   "source": [
    "# Prerequisites\n",
    "\n",
    "Please run the following line of code if the packages are not already installed in your computer, or if you are running this notebook on Google Colab."
   ]
  },
  {
   "cell_type": "code",
   "execution_count": 1,
   "metadata": {},
   "outputs": [],
   "source": [
    "# !pip install numpy sklearn torch torchvision matplotlib seaborn tqdm"
   ]
  },
  {
   "cell_type": "markdown",
   "metadata": {},
   "source": [
    "<div class=\"alert alert-block alert-warning\"><b>Advice:</b> \n",
    "    \n",
    "Due to the amount of time stochastic algorithms can take, as well of the time involved in training a neural network, we suggest completely launching the notebook since the beginning, and gradually explore its content while the code is running..</div>"
   ]
  },
  {
   "cell_type": "markdown",
   "metadata": {},
   "source": [
    "# Introduction\n",
    "\n",
    "The aim of this notebook is to present the possible advantages of multidimensional genetic programming for multiclass classification, comparing it to other most common classification methods such as neural networks. The source article for this notebook can be found in the following link:\n",
    "\n",
    "https://www.sciencedirect.com/science/article/pii/S2210650217309136\n",
    "\n",
    "The main goal of this article is to present a method for feature selection and construction, which ara key componenst to classification problems in machine learning. Notably, we want to exploit the intrinsic characteristics of genetic programming, which implicitly performs feature selection and construction over the data, while also making fewer _a priori_ assumptions on the data. Let us quote the article to clarify this point in a more rigorous way:\n",
    "\n",
    "_\"A well known learning method that implicitly conducts feature selection and construction is genetic programming (GP), which has been proposed for classification. GP incorporates feature selection and construction by optimizing a population of programs constructed from a set of instructions that operate on the dataset features to produce a model. Compared to traditional ML approaches such as logistic regression and decision tree classification, GP makes fewer a priori assumptions about the data [...]\"_\n",
    "\n",
    "So, in short, we want to exploit the fact that GP algorithms can find hidden interactions among the data, to best summarize it and help the classification.\n",
    "\n",
    "We will begin by presenting the data we will use to perform the classifications, and then show the advantages and disadvantages of such an approach. Next, we will compare our simple implementation with the more advanced solutions proposed in the article. Finally, we will explore some potential applications of the algorithm presented in the paper."
   ]
  },
  {
   "cell_type": "markdown",
   "metadata": {},
   "source": [
    "# Data generation"
   ]
  },
  {
   "cell_type": "markdown",
   "metadata": {},
   "source": [
    "We are going to begin by creating the data with which we will work. Our data will consist of a set of $\\mathbb{R}^4$ points obtained the following way:\n",
    "\n",
    "$$\\left\\{\\begin{array}{ll} x_1 \\cdot x_3 - x_2 \\cdot x_4 & = A \\\\ x_1 \\cdot x_4 - x_2 \\cdot x_3 & = B\\end{array}\\right.$$\n",
    "\n",
    "Of course, the generation of the poins will be noisy, so the relationship between the values will not exactly add A or B, but something in between."
   ]
  },
  {
   "cell_type": "code",
   "execution_count": 2,
   "metadata": {},
   "outputs": [],
   "source": [
    "import numpy as np"
   ]
  },
  {
   "cell_type": "code",
   "execution_count": 3,
   "metadata": {},
   "outputs": [],
   "source": [
    "def generate_point(A,B,attenuation=10):\n",
    "    \"\"\"\n",
    "    Variables: \n",
    "    A, B: real numbers\n",
    "    attenuation: dividing factor used when adding noise from a N(0,1) distribution\n",
    "    \n",
    "    Output:\n",
    "    [x1, x2, x3, x4]: numpy ndarray of real values\n",
    "    \n",
    "    Definition:\n",
    "    This function generates a point [x1, x2, x3, x4] so that:\n",
    "    x1, x2 are randomly drawn from a uniform distribution [-5, 5]\n",
    "    x3, x4 satisfy the conditions:\n",
    "        x1*x3 - x2*x4 = A\n",
    "        x1*x4 - x2*x3 = B\n",
    "    Finally, a random noise is added to each one of the four values. The noise is drawn\n",
    "    from a N(0,1) distribution, and divided by the attenuation factor (effectively\n",
    "    modifying the standard deviation)    \n",
    "    \"\"\"\n",
    "    \n",
    "    x1 = np.random.uniform(-5,5)\n",
    "    x2 = np.random.uniform(-5,5)\n",
    "    x3 = (x1*A+x2*B)/(x1**2+x2**2)\n",
    "    x4 = (x1*B-x2*A)/(x1**2+x2**2)\n",
    "    x = [x1, x2, x3, x4] + np.random.randn(1,4)/attenuation\n",
    "    x = np.float32(x)\n",
    "    return x[0,:]"
   ]
  },
  {
   "cell_type": "code",
   "execution_count": 4,
   "metadata": {},
   "outputs": [],
   "source": [
    "def decode(x):\n",
    "    \"\"\"\n",
    "    The sole goal of this function is to verify the correct behavior of the data generation function    \n",
    "    \"\"\"\n",
    "    A = x[0]*x[2]-x[1]*x[3]\n",
    "    B = x[0]*x[3]+x[1]*x[2]\n",
    "    return [A, B]"
   ]
  },
  {
   "cell_type": "code",
   "execution_count": 5,
   "metadata": {},
   "outputs": [
    {
     "name": "stdout",
     "output_type": "stream",
     "text": [
      "Test point: [ 0.76028126  0.9490855   5.765609   -0.37805218]\n"
     ]
    }
   ],
   "source": [
    "# We generate a test point:\n",
    "x_test = generate_point(5,5)\n",
    "print(f\"Test point: {x_test}\")"
   ]
  },
  {
   "cell_type": "code",
   "execution_count": 6,
   "metadata": {},
   "outputs": [
    {
     "name": "stdout",
     "output_type": "stream",
     "text": [
      "Decoded point: [4.742288, 5.1846294]\n"
     ]
    }
   ],
   "source": [
    "# We verify that the decoded point is similar to (5,5)\n",
    "print(f\"Decoded point: {decode(x_test)}\")"
   ]
  },
  {
   "cell_type": "markdown",
   "metadata": {},
   "source": [
    "Once the functions to generate the data have been defined, we proceed to create three shuffled datasets: training (400 points), validation ( 200 points) and test (100 points). We will generate four clusters in each of the datasets: one with points centered around (0,0), another one of points generated around (0,5), a third one of points generated around (5,0), and a final one of points centered around (5,5)."
   ]
  },
  {
   "cell_type": "code",
   "execution_count": 7,
   "metadata": {},
   "outputs": [],
   "source": [
    "from sklearn.utils import shuffle\n",
    "\n",
    "def generate_data(points_per_cat):\n",
    "    \"\"\"\n",
    "    Input:\n",
    "    points_per_cat: integer, number of points in each cluster of the dataset\n",
    "   \n",
    "    Output:\n",
    "    X: dataset\n",
    "    y: labels\n",
    "    \"\"\"\n",
    "    X = np.zeros((4*points_per_cat,4))\n",
    "    y = np.zeros((4*points_per_cat,1))\n",
    "\n",
    "    for i in range(points_per_cat):\n",
    "        X[i,:] = generate_point(0,0)\n",
    "        y[i,:] = 0\n",
    "    \n",
    "    for i in range(points_per_cat, 2*points_per_cat):\n",
    "        X[i,:] = generate_point(0,5)\n",
    "        y[i,:] = 1\n",
    "\n",
    "    for i in range(2*points_per_cat, 3*points_per_cat):    \n",
    "        X[i,:] = generate_point(5,0)\n",
    "        y[i,:] = 2\n",
    "\n",
    "    for i in range(3*points_per_cat, 4*points_per_cat):\n",
    "        X[i,:] = generate_point(5,5)\n",
    "        y[i,:] = 3\n",
    "    \n",
    "    X, y = shuffle(X, y)\n",
    "    \n",
    "    return X, y\n",
    "\n",
    "# Training set\n",
    "X, y = generate_data(100)\n",
    "# Validation set\n",
    "Xval, yval = generate_data(50)\n",
    "# Test set\n",
    "Xtest, ytest = generate_data(25)"
   ]
  },
  {
   "cell_type": "markdown",
   "metadata": {},
   "source": [
    "Let us take a closer look on some of the data (fist ten points of the suffled training dataset)"
   ]
  },
  {
   "cell_type": "code",
   "execution_count": 8,
   "metadata": {},
   "outputs": [
    {
     "name": "stdout",
     "output_type": "stream",
     "text": [
      "Point #0: Values [-0.49593532 -2.26538801 -1.87913263 -0.58427697], Label 1.0\n",
      "Point #1: Values [-1.47253633  3.89653206 -0.4279336  -0.92480159], Label 2.0\n",
      "Point #2: Values [3.64160395 0.10334127 1.29061282 1.1977613 ], Label 3.0\n",
      "Point #3: Values [4.78051567 1.84801495 0.60152858 0.88286597], Label 1.0\n",
      "Point #4: Values [1.40424967 0.52826703 4.34289312 2.28075385], Label 3.0\n",
      "Point #5: Values [-4.74999666e+00  2.65555292e-01 -1.00839412e+00 -3.31999292e-03], Label 2.0\n",
      "Point #6: Values [-0.28829813  3.33859038  0.01084983  0.03876285], Label 0.0\n",
      "Point #7: Values [3.76382208 0.95562071 0.30729774 1.17207432], Label 1.0\n",
      "Point #8: Values [-0.78158349 -3.70033884 -1.56201923  1.10074151], Label 3.0\n",
      "Point #9: Values [-1.49903357  1.65310097  1.40301836 -1.59041488], Label 1.0\n"
     ]
    }
   ],
   "source": [
    "for i in range(10):\n",
    "    print(f\"Point #{i}: Values {X[i,:]}, Label {y[i][0]}\")"
   ]
  },
  {
   "cell_type": "markdown",
   "metadata": {},
   "source": [
    "<div class=\"alert alert-block alert-danger\"> <b>Obs.-</b> It is clear that no conclusions can be extracted at first glance from the dataset as far as the predicted labels: a performing algorithm is needed to classify these data.</div>\n"
   ]
  },
  {
   "cell_type": "markdown",
   "metadata": {},
   "source": [
    "## Data to tensor\n",
    "\n",
    "Our first impulse is to run the data through a neural network to see if we can classify it. To build the neural networks, we will be using Pytorch. In order to work with Pytorch, we need to convert our numpy arrays into pytorch tensors."
   ]
  },
  {
   "cell_type": "code",
   "execution_count": 9,
   "metadata": {},
   "outputs": [],
   "source": [
    "import torch\n",
    "import torchvision\n",
    "\n",
    "%matplotlib inline\n",
    "import matplotlib.pyplot as plt"
   ]
  },
  {
   "cell_type": "code",
   "execution_count": 10,
   "metadata": {},
   "outputs": [],
   "source": [
    "def data_to_tensor(X,y):\n",
    "    \"\"\"\n",
    "    Inputs:\n",
    "    X, y: numpy arrays\n",
    "    \n",
    "    Output:\n",
    "    X_tensor, y_tensor: pytorch tensors containing the same information as the input arrays\n",
    "    \"\"\"\n",
    "    \n",
    "    X_tensor = torch.from_numpy(X).float()\n",
    "    y_tensor = torch.from_numpy(y).long()\n",
    "    \n",
    "    return X_tensor, y_tensor\n",
    "\n",
    "X_tensor, y_tensor = data_to_tensor(X,y)\n",
    "Xval_tensor, yval_tensor = data_to_tensor(Xval, yval)\n",
    "Xtest_tensor, ytest_tensor = data_to_tensor(Xtest, ytest)\n"
   ]
  },
  {
   "cell_type": "markdown",
   "metadata": {},
   "source": [
    "# Neural network on raw data"
   ]
  },
  {
   "cell_type": "markdown",
   "metadata": {},
   "source": [
    "## Architecture \n",
    "\n",
    "We proceed now to the classification of the generated data with our neural network. We have defined a 3-hidden-layer architecture, each of the hidden layers with 10 neurons and a ReLU activation.\n",
    "\n",
    "- Since the interactions beween the data are fairly simple, we have decided to limit our neural network to a rather small architecture, in an effort to try to avoid overfitting of the values.\n",
    "- Several activations were tested during the development of this code, and notable efforts were dedicated towards making the algorithm work with sigmoid functions. However, ReLU activation has proven to be the most performing activation  to meet our goals, so it has been chosen as our activation i the hidden layers.\n",
    "- Poits are classed according to the output neuron which yields the higher value among the possible four categories."
   ]
  },
  {
   "cell_type": "code",
   "execution_count": 11,
   "metadata": {},
   "outputs": [],
   "source": [
    "from torch import nn\n",
    "import torch.nn.functional as F\n",
    "\n",
    "class SimpleNet(nn.Module):\n",
    "    def __init__(self, input_neurons = 4):\n",
    "        super(SimpleNet, self).__init__()\n",
    "        self.input_neurons = input_neurons\n",
    "        self.fc1 = nn.Linear(self.input_neurons, 10)\n",
    "        self.fc2 = nn.Linear(10, 10)\n",
    "        self.fc3 = nn.Linear(10, 10)\n",
    "        self.fc4 = nn.Linear(10, 4)\n",
    "\n",
    "    def forward(self, x):\n",
    "        x = x.view(-1, self.input_neurons)\n",
    "        x = self.fc1(x)\n",
    "        x = F.relu(x)\n",
    "        x = self.fc2(x)\n",
    "        x = F.relu(x)\n",
    "        x = self.fc3(x)\n",
    "        x = F.relu(x)\n",
    "        x = self.fc4(x)\n",
    "        return x\n",
    "    \n",
    "net = SimpleNet()"
   ]
  },
  {
   "cell_type": "markdown",
   "metadata": {},
   "source": [
    "## Training\n",
    "\n",
    "For the training of the NN, we will use a batch size of 20 both for the training and the validation sets. Furthermore, a maximum of 50 epochs will be allowed, with an ealy stopping patience of 5 epochs."
   ]
  },
  {
   "cell_type": "code",
   "execution_count": 12,
   "metadata": {},
   "outputs": [],
   "source": [
    "class EarlyStopping:\n",
    "    \n",
    "    def __init__(self, patience=5, delta=0):\n",
    "        self.patience = patience\n",
    "        self.counter = 0\n",
    "        self.best_score = None\n",
    "        self.delta = delta\n",
    "        self.early_stop = False\n",
    "\n",
    "    def step(self, val_loss):\n",
    "        score = -val_loss\n",
    "        if self.best_score is None:\n",
    "            self.best_score = score\n",
    "        elif score < self.best_score + self.delta:\n",
    "            self.counter += 1\n",
    "            print('EarlyStopping counter: %d / %d' % (self.counter, self.patience))\n",
    "            if self.counter >= self.patience:\n",
    "                self.early_stop = True\n",
    "        else:\n",
    "            self.best_score = score\n",
    "            self.counter = 0"
   ]
  },
  {
   "cell_type": "code",
   "execution_count": 13,
   "metadata": {},
   "outputs": [],
   "source": [
    "def validation(net, Xval_tensor, yval_tensor):\n",
    "    valid_loss = 0\n",
    "    with torch.no_grad():\n",
    "        for data in validloader:\n",
    "            inputs = Xval_tensor[data, :]\n",
    "            labels = yval_tensor[data, :].resize(20)\n",
    "            outputs = net(inputs)\n",
    "            loss = criterion(outputs, labels)\n",
    "            valid_loss += loss.item()\n",
    "    return valid_loss\n",
    "\n",
    "def train(net,X_tensor, y_tensor, X_validation, y_validation, earlystopping=True):\n",
    "#     optimizer = torch.optim.SGD(net.parameters(), lr=0.1, momentum=0.9)\n",
    "    optimizer = torch.optim.Adam(net.parameters())\n",
    "    train_history = []\n",
    "    valid_history = []\n",
    "    estop = EarlyStopping(patience=5)\n",
    "    for epoch in range(50):\n",
    "        train_loss = 0.0\n",
    "        for i, data in enumerate(trainloader, 0):\n",
    "            # get the inputs; data is a list of [inputs, labels]\n",
    "            inputs = X_tensor[data, :]\n",
    "            labels = y_tensor[data, :].resize(20)\n",
    "            # zero the parameter gradients\n",
    "            optimizer.zero_grad()\n",
    "            # forward + backward + optimize\n",
    "            outputs = net(inputs)\n",
    "            loss = criterion(outputs, labels)\n",
    "            loss.backward()\n",
    "            optimizer.step()\n",
    "            train_loss += loss.item()\n",
    "        valid_loss = validation(net, X_validation, y_validation)\n",
    "        train_history.append(train_loss)\n",
    "        valid_history.append(valid_loss)\n",
    "        print('Epoch %02d: train loss %0.5f, validation loss %0.5f' % (epoch, train_loss, valid_loss))\n",
    "        estop.step(valid_loss)\n",
    "        if earlystopping and estop.early_stop:\n",
    "            break\n",
    "    return train_history, valid_history"
   ]
  },
  {
   "cell_type": "code",
   "execution_count": 14,
   "metadata": {},
   "outputs": [],
   "source": [
    "def plot_train_val(train, valid):\n",
    "    \"\"\"\n",
    "    \"\"\"\n",
    "    fig, ax1 = plt.subplots()\n",
    "    color = 'tab:red'\n",
    "    ax1.set_ylabel('Training', color=color)\n",
    "    ax1.plot(train, color=color)\n",
    "    ax2 = ax1.twinx()\n",
    "    color = 'tab:blue'\n",
    "    ax2.set_ylabel('Validation', color=color)\n",
    "    ax2.plot(valid, color=color)\n",
    "    fig.tight_layout()"
   ]
  },
  {
   "cell_type": "code",
   "execution_count": 15,
   "metadata": {},
   "outputs": [
    {
     "name": "stderr",
     "output_type": "stream",
     "text": [
      "C:\\Users\\javie\\anaconda3\\lib\\site-packages\\torch\\tensor.py:447: UserWarning: non-inplace resize is deprecated\n",
      "  warnings.warn(\"non-inplace resize is deprecated\")\n"
     ]
    },
    {
     "name": "stdout",
     "output_type": "stream",
     "text": [
      "Epoch 00: train loss 28.02162, validation loss 13.92228\n",
      "Epoch 01: train loss 27.81889, validation loss 13.84698\n",
      "Epoch 02: train loss 27.65173, validation loss 13.78374\n",
      "Epoch 03: train loss 27.49412, validation loss 13.72161\n",
      "Epoch 04: train loss 27.32790, validation loss 13.65145\n",
      "Epoch 05: train loss 27.15480, validation loss 13.57427\n",
      "Epoch 06: train loss 26.93687, validation loss 13.50013\n",
      "Epoch 07: train loss 26.71555, validation loss 13.39953\n",
      "Epoch 08: train loss 26.41959, validation loss 13.27559\n",
      "Epoch 09: train loss 26.10356, validation loss 13.12600\n",
      "Epoch 10: train loss 25.73686, validation loss 12.96104\n",
      "Epoch 11: train loss 25.30886, validation loss 12.79033\n",
      "Epoch 12: train loss 24.88594, validation loss 12.58519\n",
      "Epoch 13: train loss 24.42577, validation loss 12.40041\n",
      "Epoch 14: train loss 23.95077, validation loss 12.20674\n",
      "Epoch 15: train loss 23.46574, validation loss 11.98302\n",
      "Epoch 16: train loss 22.97279, validation loss 11.79444\n",
      "Epoch 17: train loss 22.45473, validation loss 11.58341\n",
      "Epoch 18: train loss 21.96346, validation loss 11.36812\n",
      "Epoch 19: train loss 21.51042, validation loss 11.16140\n",
      "Epoch 20: train loss 21.01435, validation loss 11.01010\n",
      "Epoch 21: train loss 20.53726, validation loss 10.79297\n",
      "Epoch 22: train loss 20.05068, validation loss 10.58315\n",
      "Epoch 23: train loss 19.57396, validation loss 10.40920\n",
      "Epoch 24: train loss 19.01275, validation loss 10.23956\n",
      "Epoch 25: train loss 18.53468, validation loss 10.04038\n",
      "Epoch 26: train loss 18.06053, validation loss 9.88280\n",
      "Epoch 27: train loss 17.64347, validation loss 9.71349\n",
      "Epoch 28: train loss 17.13283, validation loss 9.54501\n",
      "Epoch 29: train loss 16.68478, validation loss 9.40697\n",
      "Epoch 30: train loss 16.12955, validation loss 9.24030\n",
      "Epoch 31: train loss 15.70337, validation loss 9.10106\n",
      "Epoch 32: train loss 15.24550, validation loss 8.95730\n",
      "Epoch 33: train loss 14.83478, validation loss 8.84533\n",
      "Epoch 34: train loss 14.44526, validation loss 8.67270\n",
      "Epoch 35: train loss 13.93248, validation loss 8.56135\n",
      "Epoch 36: train loss 13.58263, validation loss 8.43304\n",
      "Epoch 37: train loss 13.20158, validation loss 8.35196\n",
      "Epoch 38: train loss 12.82453, validation loss 8.22414\n",
      "Epoch 39: train loss 12.48313, validation loss 8.11875\n",
      "Epoch 40: train loss 12.21396, validation loss 8.04006\n",
      "Epoch 41: train loss 11.86689, validation loss 7.92495\n",
      "Epoch 42: train loss 11.49693, validation loss 7.86565\n",
      "Epoch 43: train loss 11.21987, validation loss 7.72002\n",
      "Epoch 44: train loss 10.99185, validation loss 7.65330\n",
      "Epoch 45: train loss 10.65277, validation loss 7.54732\n",
      "Epoch 46: train loss 10.44168, validation loss 7.48898\n",
      "Epoch 47: train loss 10.18497, validation loss 7.35617\n",
      "Epoch 48: train loss 9.92658, validation loss 7.30022\n",
      "Epoch 49: train loss 9.65718, validation loss 7.19522\n"
     ]
    },
    {
     "data": {
      "image/png": "[encoded data removed]",
      "text/plain": [
       "<Figure size 432x288 with 2 Axes>"
      ]
     },
     "metadata": {
      "needs_background": "light"
     },
     "output_type": "display_data"
    }
   ],
   "source": [
    "trainloader = torch.utils.data.DataLoader(range(400), batch_size=20, shuffle=True, num_workers=2)\n",
    "validloader = torch.utils.data.DataLoader(range(200), batch_size=20, shuffle=True, num_workers=2)\n",
    "criterion = nn.CrossEntropyLoss()\n",
    "net = SimpleNet()\n",
    "train_history, valid_history = train(net, X_tensor, y_tensor, Xval_tensor, yval_tensor)\n",
    "plot_train_val(train_history, valid_history)"
   ]
  },
  {
   "cell_type": "code",
   "execution_count": 16,
   "metadata": {},
   "outputs": [
    {
     "name": "stdout",
     "output_type": "stream",
     "text": [
      "Confusion matrix\n"
     ]
    },
    {
     "data": {
      "text/plain": [
       "<matplotlib.axes._subplots.AxesSubplot at 0x20c358a0280>"
      ]
     },
     "execution_count": 16,
     "metadata": {},
     "output_type": "execute_result"
    },
    {
     "data": {
      "image/png": "[encoded data removed]",
      "text/plain": [
       "<Figure size 432x288 with 2 Axes>"
      ]
     },
     "metadata": {
      "needs_background": "light"
     },
     "output_type": "display_data"
    }
   ],
   "source": [
    "from sklearn.metrics import confusion_matrix\n",
    "import seaborn as sns\n",
    "\n",
    "y_pred = []\n",
    "outputs = net(Xtest_tensor)\n",
    "for i in range(100):\n",
    "    y_pred.append(np.argmax(outputs[i,:].detach().numpy()))\n",
    "\n",
    "print(\"Confusion matrix\")\n",
    "cf_matrix = confusion_matrix(ytest, y_pred)\n",
    "sns.heatmap(cf_matrix, annot=True)"
   ]
  },
  {
   "cell_type": "markdown",
   "metadata": {},
   "source": [
    "We can see that our NN is reasonably accurate. The discrepancies between the true data and the predicted values come from the noise introduced in data generation (lower noise yields higher accuracies), as well as the low number of epochs. However, a longer training may lead to overfitting, since the neural network may simply end up by learning the noise as a value, a detrimental feature for our intended goal."
   ]
  },
  {
   "cell_type": "markdown",
   "metadata": {},
   "source": [
    "# Neural network on transformed data\n",
    "\n",
    "We proceed now to perform the same analysis on the decoded dataset"
   ]
  },
  {
   "cell_type": "code",
   "execution_count": 17,
   "metadata": {},
   "outputs": [],
   "source": [
    "X_decoded = torch.zeros([400, 2], dtype=torch.float)\n",
    "for i in range(400):\n",
    "    X_decoded[i,:] = torch.FloatTensor(decode(X_tensor[i,:]))\n",
    "    \n",
    "Xval_decoded = torch.zeros([200, 2], dtype=torch.float)\n",
    "for i in range(200):\n",
    "    Xval_decoded[i,:] = torch.FloatTensor(decode(Xval_tensor[i,:]))\n",
    "    \n",
    "Xtest_decoded = torch.zeros([100, 2], dtype=torch.float)\n",
    "for i in range(100):\n",
    "    Xtest_decoded[i,:] = torch.FloatTensor(decode(Xtest_tensor[i,:]))"
   ]
  },
  {
   "cell_type": "code",
   "execution_count": 18,
   "metadata": {},
   "outputs": [
    {
     "name": "stderr",
     "output_type": "stream",
     "text": [
      "C:\\Users\\javie\\anaconda3\\lib\\site-packages\\torch\\tensor.py:447: UserWarning: non-inplace resize is deprecated\n",
      "  warnings.warn(\"non-inplace resize is deprecated\")\n"
     ]
    },
    {
     "name": "stdout",
     "output_type": "stream",
     "text": [
      "Epoch 00: train loss 28.58169, validation loss 13.97417\n",
      "Epoch 01: train loss 27.45688, validation loss 13.36809\n",
      "Epoch 02: train loss 26.15980, validation loss 12.61766\n",
      "Epoch 03: train loss 24.38707, validation loss 11.51508\n",
      "Epoch 04: train loss 21.73256, validation loss 9.87780\n",
      "Epoch 05: train loss 18.05457, validation loss 7.82263\n",
      "Epoch 06: train loss 13.80671, validation loss 5.68808\n",
      "Epoch 07: train loss 9.83596, validation loss 3.92342\n",
      "Epoch 08: train loss 6.75925, validation loss 2.65723\n",
      "Epoch 09: train loss 4.57862, validation loss 1.77512\n",
      "Epoch 10: train loss 3.09749, validation loss 1.21046\n",
      "Epoch 11: train loss 2.16325, validation loss 0.86114\n",
      "Epoch 12: train loss 1.59393, validation loss 0.64026\n",
      "Epoch 13: train loss 1.22606, validation loss 0.50605\n",
      "Epoch 14: train loss 0.99009, validation loss 0.41654\n",
      "Epoch 15: train loss 0.82499, validation loss 0.34647\n",
      "Epoch 16: train loss 0.71363, validation loss 0.30821\n",
      "Epoch 17: train loss 0.63958, validation loss 0.27000\n",
      "Epoch 18: train loss 0.56505, validation loss 0.23867\n",
      "Epoch 19: train loss 0.52440, validation loss 0.21542\n",
      "Epoch 20: train loss 0.49404, validation loss 0.20677\n",
      "Epoch 21: train loss 0.45279, validation loss 0.18368\n",
      "Epoch 22: train loss 0.42744, validation loss 0.17440\n",
      "Epoch 23: train loss 0.40832, validation loss 0.16274\n",
      "Epoch 24: train loss 0.39364, validation loss 0.15293\n",
      "Epoch 25: train loss 0.38426, validation loss 0.15321\n",
      "EarlyStopping counter: 1 / 5\n",
      "Epoch 26: train loss 0.36426, validation loss 0.14408\n",
      "Epoch 27: train loss 0.34897, validation loss 0.13035\n",
      "Epoch 28: train loss 0.35116, validation loss 0.13733\n",
      "EarlyStopping counter: 1 / 5\n",
      "Epoch 29: train loss 0.33050, validation loss 0.12479\n",
      "Epoch 30: train loss 0.32354, validation loss 0.11625\n",
      "Epoch 31: train loss 0.31550, validation loss 0.11516\n",
      "Epoch 32: train loss 0.30915, validation loss 0.11516\n",
      "EarlyStopping counter: 1 / 5\n",
      "Epoch 33: train loss 0.31008, validation loss 0.11416\n",
      "Epoch 34: train loss 0.30200, validation loss 0.10679\n",
      "Epoch 35: train loss 0.30461, validation loss 0.10824\n",
      "EarlyStopping counter: 1 / 5\n",
      "Epoch 36: train loss 0.29078, validation loss 0.09981\n",
      "Epoch 37: train loss 0.29978, validation loss 0.11130\n",
      "EarlyStopping counter: 1 / 5\n",
      "Epoch 38: train loss 0.28898, validation loss 0.09323\n",
      "Epoch 39: train loss 0.28481, validation loss 0.09414\n",
      "EarlyStopping counter: 1 / 5\n",
      "Epoch 40: train loss 0.27761, validation loss 0.09101\n",
      "Epoch 41: train loss 0.27757, validation loss 0.09087\n",
      "Epoch 42: train loss 0.28630, validation loss 0.10618\n",
      "EarlyStopping counter: 1 / 5\n",
      "Epoch 43: train loss 0.29298, validation loss 0.08485\n",
      "Epoch 44: train loss 0.26423, validation loss 0.08724\n",
      "EarlyStopping counter: 1 / 5\n",
      "Epoch 45: train loss 0.27736, validation loss 0.09100\n",
      "EarlyStopping counter: 2 / 5\n",
      "Epoch 46: train loss 0.26456, validation loss 0.08198\n",
      "Epoch 47: train loss 0.27370, validation loss 0.07971\n",
      "Epoch 48: train loss 0.25633, validation loss 0.08439\n",
      "EarlyStopping counter: 1 / 5\n",
      "Epoch 49: train loss 0.27328, validation loss 0.09016\n",
      "EarlyStopping counter: 2 / 5\n"
     ]
    },
    {
     "data": {
      "image/png": "[encoded data removed]",
      "text/plain": [
       "<Figure size 432x288 with 2 Axes>"
      ]
     },
     "metadata": {
      "needs_background": "light"
     },
     "output_type": "display_data"
    }
   ],
   "source": [
    "trainloader = torch.utils.data.DataLoader(range(400), batch_size=20, shuffle=True, num_workers=2)\n",
    "validloader = torch.utils.data.DataLoader(range(200), batch_size=20, shuffle=True, num_workers=2)\n",
    "criterion = nn.CrossEntropyLoss()\n",
    "net = SimpleNet(input_neurons = 2)\n",
    "train_history, valid_history = train(net, X_decoded, y_tensor, Xval_decoded, yval_tensor)\n",
    "plot_train_val(train_history, valid_history)"
   ]
  },
  {
   "cell_type": "code",
   "execution_count": 19,
   "metadata": {},
   "outputs": [
    {
     "name": "stdout",
     "output_type": "stream",
     "text": [
      "Confusion matrix\n"
     ]
    },
    {
     "data": {
      "text/plain": [
       "<matplotlib.axes._subplots.AxesSubplot at 0x20c35b1fbe0>"
      ]
     },
     "execution_count": 19,
     "metadata": {},
     "output_type": "execute_result"
    },
    {
     "data": {
      "image/png": "[encoded data removed]",
      "text/plain": [
       "<Figure size 432x288 with 2 Axes>"
      ]
     },
     "metadata": {
      "needs_background": "light"
     },
     "output_type": "display_data"
    }
   ],
   "source": [
    "y_pred = []\n",
    "outputs = net(Xtest_decoded)\n",
    "for i in range(100):\n",
    "    y_pred.append(np.argmax(outputs[i,:].detach().numpy()))\n",
    "\n",
    "print(\"Confusion matrix\")\n",
    "cf_matrix = confusion_matrix(ytest, y_pred)\n",
    "sns.heatmap(cf_matrix, annot=True)"
   ]
  },
  {
   "cell_type": "markdown",
   "metadata": {},
   "source": [
    "As expected, the decoded dataset perfoms better than the raw one, being able to mitigate the noise influence on the classification. However, we have cheated on this analysis, since we knew the decoding algorithm prior to making the data classification. In real life, the data decoding may not be known, so we should be able to find a way to learn it."
   ]
  },
  {
   "cell_type": "markdown",
   "metadata": {},
   "source": [
    "# Genetic Programming"
   ]
  },
  {
   "cell_type": "code",
   "execution_count": 20,
   "metadata": {},
   "outputs": [
    {
     "name": "stdout",
     "output_type": "stream",
     "text": [
      "[2, 4, '/', 4, 4, 0, '-', 3]\n"
     ]
    }
   ],
   "source": [
    "import random\n",
    "\n",
    "x = np.array([[1, 2, 3, 4, 5], [1, 2, 3, 4, 5]])\n",
    "data_len = x.shape[1]\n",
    "\n",
    "def program_generator(data_len):\n",
    "    program_len = random.randint(2,20)\n",
    "    \n",
    "    program = []\n",
    "    \n",
    "    \n",
    "    values = [i for i in range(data_len)]\n",
    "    \n",
    "    program.append(random.choice(values))\n",
    "    program.append(random.choice(values))\n",
    "\n",
    "    values.append('+')\n",
    "    values.append('-')\n",
    "    values.append('*')\n",
    "    values.append('/')\n",
    "    \n",
    "    for i in range(2,program_len):\n",
    "        program.append(random.choice(values))\n",
    "    \n",
    "    return program\n",
    "\n",
    "program = program_generator(data_len)\n",
    "print(program)   \n",
    "\n"
   ]
  },
  {
   "cell_type": "markdown",
   "metadata": {},
   "source": [
    "program = $[0, 2, '*', 1, 3, '*', '-', 0, 3, '*', 1, 2, '*', '+']$"
   ]
  },
  {
   "cell_type": "code",
   "execution_count": 21,
   "metadata": {},
   "outputs": [],
   "source": [
    "def program_reader(program, x):\n",
    "    output = []\n",
    "    for ele in program:\n",
    "        if type(ele) == int:\n",
    "            output.append(x[:,ele])\n",
    "        else:\n",
    "            try:\n",
    "                b = output.pop()\n",
    "                a = output.pop()\n",
    "                if ele == '+':\n",
    "                    output.append(a+b)\n",
    "                elif ele == '-':\n",
    "                    output.append(a-b)\n",
    "                elif ele == '*':\n",
    "                    output.append(a*b)\n",
    "                elif ele == '/' and b != 0:\n",
    "                    output.append(a/b)\n",
    "                else:\n",
    "                    raise\n",
    "            except:\n",
    "                output = 'Error'\n",
    "                break\n",
    "           \n",
    "    if output == 'Error':\n",
    "        outmat = 'Error'\n",
    "    else:\n",
    "        newdim = len(output)\n",
    "    \n",
    "        outmat = np.zeros((x.shape[0],newdim))\n",
    "        for ele in range(newdim):\n",
    "            outmat[:,ele] = output[ele]\n",
    "        \n",
    "    return outmat "
   ]
  },
  {
   "cell_type": "code",
   "execution_count": null,
   "metadata": {},
   "outputs": [],
   "source": []
  },
  {
   "cell_type": "code",
   "execution_count": null,
   "metadata": {},
   "outputs": [],
   "source": []
  },
  {
   "cell_type": "code",
   "execution_count": 22,
   "metadata": {},
   "outputs": [],
   "source": [
    "population_size = 50\n",
    "population = []\n",
    "errors = []\n",
    "\n",
    "x = np.array([[1, 2, 3, 4, 5], [1, 2, 3, 4, 5]])\n",
    "\n",
    "for i in range(population_size):\n",
    "    population.append(program_generator(data_len))"
   ]
  },
  {
   "cell_type": "code",
   "execution_count": 23,
   "metadata": {},
   "outputs": [],
   "source": [
    "output = []\n",
    "for i in range(population_size):\n",
    "    output.append(program_reader(population[i], x))\n",
    "    if type(output[-1]) == str:\n",
    "        errors.append(i)\n",
    "\n",
    "errors.reverse()        \n",
    "\n",
    "for err in errors:\n",
    "    output.pop(err)\n",
    "    population.pop(err)"
   ]
  },
  {
   "cell_type": "code",
   "execution_count": 24,
   "metadata": {},
   "outputs": [
    {
     "data": {
      "text/plain": [
       "[[2, 0, 4],\n",
       " [2, 0, 3, 0, '*', '+', 2, '-', 3],\n",
       " [3, 1, 4, '+', 1, 0, 3, '*', '-', 2, 1],\n",
       " [2, 3, '*'],\n",
       " [0, 2],\n",
       " [0, 4, 1],\n",
       " [4, 0, 0, 2, '-', 1, '+', 3],\n",
       " [0, 0],\n",
       " [3, 3, 0, 2, 4, 3, '+', 3, '-', 1],\n",
       " [3, 2, 2, 3, 3, 0, 0, 3, 3, '-', '-'],\n",
       " [2, 4, 0, 0, 3],\n",
       " [1, 2, '+'],\n",
       " [2, 3],\n",
       " [0, 3, 0, 0, 1, '+', 4],\n",
       " [2, 2, '-'],\n",
       " [3, 2, 0, 0, 3, 2, 1, 1, '*', 4, '*'],\n",
       " [4, 2, 1, '-', 2, 0, '*', 0, 0, 0, 3, 4],\n",
       " [0, 1, 0, 3, '+', 2, 0, 4, '+']]"
      ]
     },
     "execution_count": 24,
     "metadata": {},
     "output_type": "execute_result"
    }
   ],
   "source": [
    "population"
   ]
  },
  {
   "cell_type": "code",
   "execution_count": 25,
   "metadata": {},
   "outputs": [
    {
     "name": "stderr",
     "output_type": "stream",
     "text": [
      " 16%|████████████▉                                                                  | 819/5000 [02:36<13:21,  5.22it/s]"
     ]
    },
    {
     "name": "stdout",
     "output_type": "stream",
     "text": [
      "Reached max. number of stall generations\n",
      "[2, 0, '*', 3, 3, 1, 0, '-', '*', 1, 3, 1, '+', 2, '*', 2]\n"
     ]
    },
    {
     "name": "stderr",
     "output_type": "stream",
     "text": [
      "\n"
     ]
    }
   ],
   "source": [
    "from sklearn.neighbors import NearestCentroid\n",
    "from tqdm import tqdm\n",
    "\n",
    "max_generations = 5000\n",
    "population_size = 500\n",
    "population = []\n",
    "y = y.reshape((400,))\n",
    "\n",
    "stall = 0\n",
    "max_stall = 500\n",
    "last_best = []\n",
    "\n",
    "for gen in tqdm(range(max_generations)):\n",
    "    \n",
    "    while len(population) > 0.5*population_size:\n",
    "        population.pop()\n",
    "    \n",
    "    for ind in range(len(population), population_size):\n",
    "        population.append(program_generator(X.shape[1]))\n",
    "        \n",
    "    output = []\n",
    "    errors = []\n",
    "    for i in range(population_size):\n",
    "        output.append(program_reader(population[i], X))\n",
    "        if type(output[-1]) == str:\n",
    "            errors.append(i)\n",
    "\n",
    "    errors.reverse()        \n",
    "\n",
    "    for err in errors:\n",
    "        output.pop(err)\n",
    "        population.pop(err)\n",
    "        \n",
    "    score = []\n",
    "    for i in range(len(output)):\n",
    "        clf = NearestCentroid()\n",
    "        clf.fit(output[i], y)\n",
    "#         y_pred = clf.predict(output[i])\n",
    "        score.append(clf.score(output[i],y))\n",
    "    \n",
    "    keys = sorted(range(len(score)), key=lambda k: score[k])\n",
    "    keys.reverse()\n",
    "    \n",
    "    population_ordered = []\n",
    "    for k in keys:\n",
    "        population_ordered.append(population[k])\n",
    "    population = population_ordered\n",
    "    \n",
    "    if population[0] == last_best:\n",
    "        stall += 1 \n",
    "        if stall == max_stall:\n",
    "            print(\"Reached max. number of stall generations\")\n",
    "            break\n",
    "    else:\n",
    "        last_best = population[0]\n",
    "        stall = 0\n",
    "    \n",
    "print(population[0])"
   ]
  },
  {
   "cell_type": "code",
   "execution_count": 26,
   "metadata": {},
   "outputs": [
    {
     "name": "stdout",
     "output_type": "stream",
     "text": [
      "Confusion matrix\n"
     ]
    },
    {
     "data": {
      "text/plain": [
       "<matplotlib.axes._subplots.AxesSubplot at 0x20c35ade160>"
      ]
     },
     "execution_count": 26,
     "metadata": {},
     "output_type": "execute_result"
    },
    {
     "data": {
      "image/png": "[encoded data removed]",
      "text/plain": [
       "<Figure size 432x288 with 2 Axes>"
      ]
     },
     "metadata": {
      "needs_background": "light"
     },
     "output_type": "display_data"
    }
   ],
   "source": [
    "program = population[0]\n",
    "X_trans = program_reader(program, X)\n",
    "clf = NearestCentroid()\n",
    "clf.fit(X_trans, y)\n",
    "y_pred = clf.predict(X_trans)\n",
    "print(\"Confusion matrix\")\n",
    "cf_matrix = confusion_matrix(y, y_pred)\n",
    "sns.heatmap(cf_matrix, annot=True)"
   ]
  },
  {
   "cell_type": "code",
   "execution_count": 27,
   "metadata": {},
   "outputs": [
    {
     "name": "stdout",
     "output_type": "stream",
     "text": [
      "Confusion matrix\n"
     ]
    },
    {
     "data": {
      "text/plain": [
       "<matplotlib.axes._subplots.AxesSubplot at 0x20c35d9d130>"
      ]
     },
     "execution_count": 27,
     "metadata": {},
     "output_type": "execute_result"
    },
    {
     "data": {
      "image/png": "[encoded data removed]",
      "text/plain": [
       "<Figure size 432x288 with 2 Axes>"
      ]
     },
     "metadata": {
      "needs_background": "light"
     },
     "output_type": "display_data"
    }
   ],
   "source": [
    "Xtest_trans = program_reader(program, Xtest)\n",
    "ytest = ytest.reshape((100,))\n",
    "ytest_pred = clf.predict(Xtest_trans)\n",
    "print(\"Confusion matrix\")\n",
    "cf_matrix = confusion_matrix(ytest, ytest_pred)\n",
    "sns.heatmap(cf_matrix, annot=True)"
   ]
  },
  {
   "cell_type": "markdown",
   "metadata": {},
   "source": [
    "Seeing these results, we may think that this classifier is worse than our neural network, but we must bear in mind that the NN was developped on the converted data. In order to compare the efficacity of the GA, we will run the transformed data over a NN, and see its performance."
   ]
  },
  {
   "cell_type": "code",
   "execution_count": 28,
   "metadata": {},
   "outputs": [],
   "source": [
    "transformation = population[0]"
   ]
  },
  {
   "cell_type": "code",
   "execution_count": 29,
   "metadata": {},
   "outputs": [],
   "source": [
    "X_decoded2 = X_trans\n",
    "Xval_decoded2 = program_reader(transformation, Xval)\n",
    "Xtest_decoded2 = program_reader(transformation, Xtest)"
   ]
  },
  {
   "cell_type": "code",
   "execution_count": 30,
   "metadata": {},
   "outputs": [],
   "source": [
    "X_decoded2_tensor, _ = data_to_tensor(X_decoded2,y)\n",
    "Xval_decoded2_tensor, _ = data_to_tensor(Xval_decoded2, yval)\n",
    "Xtest_decoded2_tensor, _ = data_to_tensor(Xtest_decoded2, ytest)"
   ]
  },
  {
   "cell_type": "code",
   "execution_count": 31,
   "metadata": {},
   "outputs": [
    {
     "name": "stderr",
     "output_type": "stream",
     "text": [
      "C:\\Users\\javie\\anaconda3\\lib\\site-packages\\torch\\tensor.py:447: UserWarning: non-inplace resize is deprecated\n",
      "  warnings.warn(\"non-inplace resize is deprecated\")\n"
     ]
    },
    {
     "name": "stdout",
     "output_type": "stream",
     "text": [
      "Epoch 00: train loss 27.80393, validation loss 13.80192\n",
      "Epoch 01: train loss 27.38956, validation loss 13.61105\n",
      "Epoch 02: train loss 26.99187, validation loss 13.37485\n",
      "Epoch 03: train loss 26.41528, validation loss 13.04593\n",
      "Epoch 04: train loss 25.67638, validation loss 12.59918\n",
      "Epoch 05: train loss 24.82003, validation loss 12.14346\n",
      "Epoch 06: train loss 23.96524, validation loss 11.71334\n",
      "Epoch 07: train loss 23.24997, validation loss 11.31393\n",
      "Epoch 08: train loss 22.58366, validation loss 10.99001\n",
      "Epoch 09: train loss 21.97510, validation loss 10.63140\n",
      "Epoch 10: train loss 21.33922, validation loss 10.31182\n",
      "Epoch 11: train loss 20.67721, validation loss 9.97402\n",
      "Epoch 12: train loss 20.03001, validation loss 9.65738\n",
      "Epoch 13: train loss 19.27139, validation loss 9.26160\n",
      "Epoch 14: train loss 18.50778, validation loss 8.83982\n",
      "Epoch 15: train loss 17.64280, validation loss 8.46278\n",
      "Epoch 16: train loss 16.75967, validation loss 8.04742\n",
      "Epoch 17: train loss 15.82801, validation loss 7.64614\n",
      "Epoch 18: train loss 14.96171, validation loss 7.22666\n",
      "Epoch 19: train loss 14.20087, validation loss 6.84538\n",
      "Epoch 20: train loss 13.47564, validation loss 6.51310\n",
      "Epoch 21: train loss 12.82844, validation loss 6.25285\n",
      "Epoch 22: train loss 12.17546, validation loss 6.00488\n",
      "Epoch 23: train loss 11.60192, validation loss 5.75129\n",
      "Epoch 24: train loss 11.12405, validation loss 5.48853\n",
      "Epoch 25: train loss 10.51404, validation loss 5.35129\n",
      "Epoch 26: train loss 10.07213, validation loss 5.06479\n",
      "Epoch 27: train loss 9.57354, validation loss 4.97219\n",
      "Epoch 28: train loss 9.13457, validation loss 4.72385\n",
      "Epoch 29: train loss 8.73884, validation loss 4.55669\n",
      "Epoch 30: train loss 8.37125, validation loss 4.40073\n",
      "Epoch 31: train loss 8.00194, validation loss 4.25804\n",
      "Epoch 32: train loss 7.71177, validation loss 4.09967\n",
      "Epoch 33: train loss 7.35836, validation loss 3.94911\n",
      "Epoch 34: train loss 7.05747, validation loss 3.80635\n",
      "Epoch 35: train loss 6.78551, validation loss 3.69554\n",
      "Epoch 36: train loss 6.54887, validation loss 3.60297\n",
      "Epoch 37: train loss 6.31701, validation loss 3.56187\n",
      "Epoch 38: train loss 6.09591, validation loss 3.50279\n",
      "Epoch 39: train loss 5.92168, validation loss 3.47199\n",
      "Epoch 40: train loss 5.76681, validation loss 3.37673\n",
      "Epoch 41: train loss 5.55576, validation loss 3.42713\n",
      "EarlyStopping counter: 1 / 5\n",
      "Epoch 42: train loss 5.43555, validation loss 3.25385\n",
      "Epoch 43: train loss 5.30162, validation loss 3.33377\n",
      "EarlyStopping counter: 1 / 5\n",
      "Epoch 44: train loss 5.13982, validation loss 3.21109\n",
      "Epoch 45: train loss 5.04029, validation loss 3.22232\n",
      "EarlyStopping counter: 1 / 5\n",
      "Epoch 46: train loss 4.93014, validation loss 3.16932\n",
      "Epoch 47: train loss 4.79438, validation loss 3.14196\n",
      "Epoch 48: train loss 4.76006, validation loss 3.10787\n",
      "Epoch 49: train loss 4.64443, validation loss 3.07827\n"
     ]
    },
    {
     "data": {
      "image/png": "[encoded data removed]",
      "text/plain": [
       "<Figure size 432x288 with 2 Axes>"
      ]
     },
     "metadata": {
      "needs_background": "light"
     },
     "output_type": "display_data"
    }
   ],
   "source": [
    "trainloader = torch.utils.data.DataLoader(range(400), batch_size=20, shuffle=True, num_workers=2)\n",
    "validloader = torch.utils.data.DataLoader(range(200), batch_size=20, shuffle=True, num_workers=2)\n",
    "criterion = nn.CrossEntropyLoss()\n",
    "net = SimpleNet(input_neurons = X_decoded2.shape[1])\n",
    "train_history, valid_history = train(net, X_decoded2_tensor, y_tensor, Xval_decoded2_tensor, yval_tensor)\n",
    "plot_train_val(train_history, valid_history)"
   ]
  },
  {
   "cell_type": "code",
   "execution_count": 32,
   "metadata": {},
   "outputs": [
    {
     "name": "stdout",
     "output_type": "stream",
     "text": [
      "Confusion matrix\n"
     ]
    },
    {
     "data": {
      "text/plain": [
       "<matplotlib.axes._subplots.AxesSubplot at 0x20c35ee2370>"
      ]
     },
     "execution_count": 32,
     "metadata": {},
     "output_type": "execute_result"
    },
    {
     "data": {
      "image/png": "[encoded data removed]",
      "text/plain": [
       "<Figure size 432x288 with 2 Axes>"
      ]
     },
     "metadata": {
      "needs_background": "light"
     },
     "output_type": "display_data"
    }
   ],
   "source": [
    "y_pred = []\n",
    "outputs = net(Xtest_decoded2_tensor)\n",
    "for i in range(100):\n",
    "    y_pred.append(np.argmax(outputs[i,:].detach().numpy()))\n",
    "\n",
    "print(\"Confusion matrix\")\n",
    "cf_matrix = confusion_matrix(ytest, y_pred)\n",
    "sns.heatmap(cf_matrix, annot=True)"
   ]
  },
  {
   "cell_type": "markdown",
   "metadata": {},
   "source": [
    "We can easily see that we have improved the accuracy over the first NN classification"
   ]
  },
  {
   "cell_type": "code",
   "execution_count": 33,
   "metadata": {},
   "outputs": [],
   "source": [
    "# from sklearn.neural_network import MLPClassifier\n",
    "\n",
    "# y_onehot_array = y_onehot.numpy()\n",
    "# y_onehot_array\n",
    "\n",
    "# myNN = MLPClassifier(hidden_layer_sizes=(8,16,8))\n",
    "# myNN.fit(X, y_onehot_array)"
   ]
  },
  {
   "cell_type": "code",
   "execution_count": 34,
   "metadata": {},
   "outputs": [],
   "source": [
    "# trainloader = torch.utils.data.DataLoader(range(200), batch_size=20, shuffle=True, num_workers=2)\n",
    "# criterion = nn.CrossEntropyLoss()\n",
    "# optimizer = torch.optim.SGD(net.parameters(), lr=0.001, momentum=0.9)\n",
    "# train_loss = 0.0\n",
    "# for i, data in enumerate(trainloader, 0):\n",
    "#     # get the inputs; data is a list of [inputs, labels]\n",
    "#     inputs = X_tensor[data, :]\n",
    "#     print(inputs)\n",
    "#     labels = y_tensor[data, :].resize(20)\n",
    "#     print(labels)\n",
    "#     # zero the parameter gradients\n",
    "#     optimizer.zero_grad()\n",
    "#     # forward + backward + optimize\n",
    "#     outputs = net(inputs)\n",
    "#     print(outputs)\n",
    "#     loss = criterion(outputs, labels)\n",
    "#     print(loss)\n",
    "#     print(type(loss))\n",
    "#     loss.backward()\n",
    "#     optimizer.step()\n",
    "#     train_loss += loss.item()"
   ]
  }
 ],
 "metadata": {
  "kernelspec": {
   "display_name": "Python 3",
   "language": "python",
   "name": "python3"
  },
  "language_info": {
   "codemirror_mode": {
    "name": "ipython",
    "version": 3
   },
   "file_extension": ".py",
   "mimetype": "text/x-python",
   "name": "python",
   "nbconvert_exporter": "python",
   "pygments_lexer": "ipython3",
   "version": "3.8.3"
  }
 },
 "nbformat": 4,
 "nbformat_minor": 4
}
