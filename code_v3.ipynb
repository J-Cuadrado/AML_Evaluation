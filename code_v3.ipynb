{
 "cells": [
  {
   "cell_type": "markdown",
   "metadata": {},
   "source": [
    "# Algorithms in Machine Learning\n",
    "## Student: Javier CUADRADO ANÍBARRO"
   ]
  },
  {
   "cell_type": "markdown",
   "metadata": {},
   "source": [
    "# Introduction\n",
    "\n",
    "The aim of this notebook is to present the possible advantages of multidimensional genetic programming for multiclass classification, comparing it to other most common classification methods such as neural networks. The source article for this notebook can be found in the following link:\n",
    "\n",
    "https://www.sciencedirect.com/science/article/pii/S2210650217309136"
   ]
  },
  {
   "cell_type": "markdown",
   "metadata": {},
   "source": [
    "# Data generation"
   ]
  },
  {
   "cell_type": "markdown",
   "metadata": {},
   "source": [
    "We are going to begin by creating the data with which we will work. Our data will consist of a set of $\\mathbb{R}^4$ points obtained the following way:\n",
    "\n",
    "$$\\left\\{\\begin{array}{ll} x_1 \\cdot x_3 - x_2 \\cdot x_4 & = A \\\\ x_1 \\cdot x_4 - x_2 \\cdot x_3 & = B\\end{array}\\right.$$\n",
    "\n",
    "Of course, the generation of the poins will be noisy, so the relationship between the values will not exactly add A or B, but something in between."
   ]
  },
  {
   "cell_type": "code",
   "execution_count": 1,
   "metadata": {},
   "outputs": [],
   "source": [
    "import numpy as np"
   ]
  },
  {
   "cell_type": "code",
   "execution_count": 2,
   "metadata": {},
   "outputs": [],
   "source": [
    "def generate_point(A,B,attenuation=10):\n",
    "    x1 = np.random.uniform(-5,5)\n",
    "    x2 = np.random.uniform(-5,5)\n",
    "    x3 = (x1*A+x2*B)/(x1**2+x2**2)\n",
    "    x4 = (x1*B-x2*A)/(x1**2+x2**2)\n",
    "    x = [x1, x2, x3, x4] + np.random.randn(1,4)/attenuation\n",
    "    x = np.float32(x)\n",
    "    return x[0,:]"
   ]
  },
  {
   "cell_type": "code",
   "execution_count": 3,
   "metadata": {},
   "outputs": [],
   "source": [
    "def decode(x):\n",
    "    A = x[0]*x[2]-x[1]*x[3]\n",
    "    B = x[0]*x[3]+x[1]*x[2]\n",
    "    return [A, B]"
   ]
  },
  {
   "cell_type": "code",
   "execution_count": 4,
   "metadata": {},
   "outputs": [
    {
     "name": "stdout",
     "output_type": "stream",
     "text": [
      "[4.4814806  0.7419539  1.2988604  0.86106163]\n"
     ]
    }
   ],
   "source": [
    "x_test = generate_point(5,5)\n",
    "print(x_test)"
   ]
  },
  {
   "cell_type": "code",
   "execution_count": 5,
   "metadata": {},
   "outputs": [
    {
     "data": {
      "text/plain": [
       "[5.18195, 4.8225255]"
      ]
     },
     "execution_count": 5,
     "metadata": {},
     "output_type": "execute_result"
    }
   ],
   "source": [
    "decode(x_test)"
   ]
  },
  {
   "cell_type": "code",
   "execution_count": 6,
   "metadata": {},
   "outputs": [],
   "source": [
    "from sklearn.utils import shuffle\n",
    "\n",
    "def generate_data(points_per_cat):\n",
    "    X = np.zeros((4*points_per_cat,4))\n",
    "    y = np.zeros((4*points_per_cat,1))\n",
    "\n",
    "    for i in range(points_per_cat):\n",
    "        X[i,:] = generate_point(0,0)\n",
    "        y[i,:] = 0\n",
    "    \n",
    "    for i in range(points_per_cat, 2*points_per_cat):\n",
    "        X[i,:] = generate_point(0,5)\n",
    "        y[i,:] = 1\n",
    "\n",
    "    for i in range(2*points_per_cat, 3*points_per_cat):    \n",
    "        X[i,:] = generate_point(5,0)\n",
    "        y[i,:] = 2\n",
    "\n",
    "    for i in range(3*points_per_cat, 4*points_per_cat):\n",
    "        X[i,:] = generate_point(5,5)\n",
    "        y[i,:] = 3\n",
    "    \n",
    "    X, y = shuffle(X, y)\n",
    "    \n",
    "    return X, y\n",
    "\n",
    "X, y = generate_data(100)\n",
    "Xval, yval = generate_data(50)\n",
    "Xtest, ytest = generate_data(25)"
   ]
  },
  {
   "cell_type": "markdown",
   "metadata": {},
   "source": [
    "## Data to tensor\n",
    "\n",
    "In order to work with pytorch, we convert our numpy arrays into pytorch tensors."
   ]
  },
  {
   "cell_type": "code",
   "execution_count": 7,
   "metadata": {},
   "outputs": [],
   "source": [
    "import torch\n",
    "import torchvision\n",
    "\n",
    "%matplotlib inline\n",
    "import matplotlib.pyplot as plt"
   ]
  },
  {
   "cell_type": "code",
   "execution_count": 8,
   "metadata": {},
   "outputs": [],
   "source": [
    "def data_to_tensor(X,y):\n",
    "    X_tensor = torch.from_numpy(X).float()\n",
    "    y_tensor = torch.from_numpy(y).long()\n",
    "    \n",
    "    return X_tensor, y_tensor\n",
    "\n",
    "X_tensor, y_tensor = data_to_tensor(X,y)\n",
    "Xval_tensor, yval_tensor = data_to_tensor(Xval, yval)\n",
    "Xtest_tensor, ytest_tensor = data_to_tensor(Xtest, ytest)\n"
   ]
  },
  {
   "cell_type": "markdown",
   "metadata": {},
   "source": [
    "# Neural network on raw data"
   ]
  },
  {
   "cell_type": "markdown",
   "metadata": {},
   "source": [
    "## Architecture \n",
    "\n",
    "We proceed now to the classification of the generated data with our neural network. We have defined a 3-hidden-layer architecture, each of the hidden layers with 10 neurons and a ReLU activation"
   ]
  },
  {
   "cell_type": "code",
   "execution_count": 9,
   "metadata": {},
   "outputs": [],
   "source": [
    "from torch import nn\n",
    "import torch.nn.functional as F\n",
    "\n",
    "class SimpleNet(nn.Module):\n",
    "    def __init__(self):\n",
    "        super(SimpleNet, self).__init__()\n",
    "        self.fc1 = nn.Linear(4, 10)\n",
    "        self.fc2 = nn.Linear(10, 10)\n",
    "        self.fc3 = nn.Linear(10, 10)\n",
    "        self.fc4 = nn.Linear(10, 4)\n",
    "\n",
    "    def forward(self, x):\n",
    "        x = x.view(-1, 4)\n",
    "        x = self.fc1(x)\n",
    "        x = F.relu(x)\n",
    "        x = self.fc2(x)\n",
    "        x = F.relu(x)\n",
    "        x = self.fc3(x)\n",
    "        x = F.relu(x)\n",
    "        x = self.fc4(x)\n",
    "        return x\n",
    "    \n",
    "net = SimpleNet()"
   ]
  },
  {
   "cell_type": "markdown",
   "metadata": {},
   "source": [
    "## Training\n",
    "\n",
    "For the training of the NN, we will use a batch size of 20 both for the training and the validation sets. Furthermore, a maximum of 50 epochs will be allowed, with an ealy stopping patience of 5 epochs."
   ]
  },
  {
   "cell_type": "code",
   "execution_count": 10,
   "metadata": {},
   "outputs": [],
   "source": [
    "class EarlyStopping:\n",
    "    \n",
    "    def __init__(self, patience=5, delta=0):\n",
    "        self.patience = patience\n",
    "        self.counter = 0\n",
    "        self.best_score = None\n",
    "        self.delta = delta\n",
    "        self.early_stop = False\n",
    "\n",
    "    def step(self, val_loss):\n",
    "        score = -val_loss\n",
    "        if self.best_score is None:\n",
    "            self.best_score = score\n",
    "        elif score < self.best_score + self.delta:\n",
    "            self.counter += 1\n",
    "            print('EarlyStopping counter: %d / %d' % (self.counter, self.patience))\n",
    "            if self.counter >= self.patience:\n",
    "                self.early_stop = True\n",
    "        else:\n",
    "            self.best_score = score\n",
    "            self.counter = 0"
   ]
  },
  {
   "cell_type": "code",
   "execution_count": 11,
   "metadata": {},
   "outputs": [],
   "source": [
    "def validation(net):\n",
    "    valid_loss = 0\n",
    "    with torch.no_grad():\n",
    "        for data in validloader:\n",
    "            inputs = Xval_tensor[data, :]\n",
    "            labels = yval_tensor[data, :].resize(20)\n",
    "            outputs = net(inputs)\n",
    "            loss = criterion(outputs, labels)\n",
    "            valid_loss += loss.item()\n",
    "    return valid_loss\n",
    "\n",
    "def train(net, earlystopping=True):\n",
    "#     optimizer = torch.optim.SGD(net.parameters(), lr=0.1, momentum=0.9)\n",
    "    optimizer = torch.optim.Adam(net.parameters())\n",
    "    train_history = []\n",
    "    valid_history = []\n",
    "    estop = EarlyStopping(patience=5)\n",
    "    for epoch in range(50):\n",
    "        train_loss = 0.0\n",
    "        for i, data in enumerate(trainloader, 0):\n",
    "            # get the inputs; data is a list of [inputs, labels]\n",
    "            inputs = X_tensor[data, :]\n",
    "            labels = y_tensor[data, :].resize(20)\n",
    "            # zero the parameter gradients\n",
    "            optimizer.zero_grad()\n",
    "            # forward + backward + optimize\n",
    "            outputs = net(inputs)\n",
    "            loss = criterion(outputs, labels)\n",
    "            loss.backward()\n",
    "            optimizer.step()\n",
    "            train_loss += loss.item()\n",
    "        valid_loss = validation(net)\n",
    "        train_history.append(train_loss)\n",
    "        valid_history.append(valid_loss)\n",
    "        print('Epoch %02d: train loss %0.5f, validation loss %0.5f' % (epoch, train_loss, valid_loss))\n",
    "        estop.step(valid_loss)\n",
    "        if earlystopping and estop.early_stop:\n",
    "            break\n",
    "    return train_history, valid_history"
   ]
  },
  {
   "cell_type": "code",
   "execution_count": 12,
   "metadata": {},
   "outputs": [],
   "source": [
    "def plot_train_val(train, valid):\n",
    "    fig, ax1 = plt.subplots()\n",
    "    color = 'tab:red'\n",
    "    ax1.set_ylabel('Training', color=color)\n",
    "    ax1.plot(train, color=color)\n",
    "    ax2 = ax1.twinx()\n",
    "    color = 'tab:blue'\n",
    "    ax2.set_ylabel('Validation', color=color)\n",
    "    ax2.plot(valid, color=color)\n",
    "    fig.tight_layout()"
   ]
  },
  {
   "cell_type": "code",
   "execution_count": 13,
   "metadata": {},
   "outputs": [
    {
     "name": "stderr",
     "output_type": "stream",
     "text": [
      "C:\\Users\\javie\\anaconda3\\lib\\site-packages\\torch\\tensor.py:447: UserWarning: non-inplace resize is deprecated\n",
      "  warnings.warn(\"non-inplace resize is deprecated\")\n"
     ]
    },
    {
     "name": "stdout",
     "output_type": "stream",
     "text": [
      "Epoch 00: train loss 27.65754, validation loss 13.88265\n",
      "Epoch 01: train loss 27.46878, validation loss 13.80498\n",
      "Epoch 02: train loss 27.22289, validation loss 13.71244\n",
      "Epoch 03: train loss 26.94583, validation loss 13.61395\n",
      "Epoch 04: train loss 26.66012, validation loss 13.51189\n",
      "Epoch 05: train loss 26.35101, validation loss 13.38679\n",
      "Epoch 06: train loss 25.99729, validation loss 13.24989\n",
      "Epoch 07: train loss 25.61580, validation loss 13.09592\n",
      "Epoch 08: train loss 25.22340, validation loss 12.95465\n",
      "Epoch 09: train loss 24.84440, validation loss 12.80684\n",
      "Epoch 10: train loss 24.44014, validation loss 12.65766\n",
      "Epoch 11: train loss 24.04533, validation loss 12.52474\n",
      "Epoch 12: train loss 23.69120, validation loss 12.40845\n",
      "Epoch 13: train loss 23.28639, validation loss 12.25419\n",
      "Epoch 14: train loss 22.88201, validation loss 12.10183\n",
      "Epoch 15: train loss 22.44733, validation loss 11.94624\n",
      "Epoch 16: train loss 22.05369, validation loss 11.78633\n",
      "Epoch 17: train loss 21.64304, validation loss 11.61278\n",
      "Epoch 18: train loss 21.19849, validation loss 11.43832\n",
      "Epoch 19: train loss 20.71947, validation loss 11.23310\n",
      "Epoch 20: train loss 20.28170, validation loss 11.04827\n",
      "Epoch 21: train loss 19.81231, validation loss 10.84394\n",
      "Epoch 22: train loss 19.48669, validation loss 10.65702\n",
      "Epoch 23: train loss 18.98985, validation loss 10.43198\n",
      "Epoch 24: train loss 18.64717, validation loss 10.24460\n",
      "Epoch 25: train loss 18.14516, validation loss 10.06626\n",
      "Epoch 26: train loss 17.75188, validation loss 9.85436\n",
      "Epoch 27: train loss 17.34307, validation loss 9.65496\n",
      "Epoch 28: train loss 16.96996, validation loss 9.44219\n",
      "Epoch 29: train loss 16.53116, validation loss 9.22063\n",
      "Epoch 30: train loss 16.06720, validation loss 9.00181\n",
      "Epoch 31: train loss 15.64806, validation loss 8.77032\n",
      "Epoch 32: train loss 15.20517, validation loss 8.55386\n",
      "Epoch 33: train loss 14.79253, validation loss 8.34701\n",
      "Epoch 34: train loss 14.38114, validation loss 8.13528\n",
      "Epoch 35: train loss 13.92353, validation loss 7.88304\n",
      "Epoch 36: train loss 13.52095, validation loss 7.66523\n",
      "Epoch 37: train loss 13.12585, validation loss 7.43780\n",
      "Epoch 38: train loss 12.75563, validation loss 7.20753\n",
      "Epoch 39: train loss 12.37171, validation loss 6.99072\n",
      "Epoch 40: train loss 11.91655, validation loss 6.77439\n",
      "Epoch 41: train loss 11.57587, validation loss 6.52285\n",
      "Epoch 42: train loss 11.12086, validation loss 6.28045\n",
      "Epoch 43: train loss 10.69676, validation loss 6.03623\n",
      "Epoch 44: train loss 10.35428, validation loss 5.78483\n",
      "Epoch 45: train loss 9.95907, validation loss 5.54334\n",
      "Epoch 46: train loss 9.57644, validation loss 5.31441\n",
      "Epoch 47: train loss 9.16562, validation loss 5.08191\n",
      "Epoch 48: train loss 8.78476, validation loss 4.85943\n",
      "Epoch 49: train loss 8.42493, validation loss 4.65990\n"
     ]
    },
    {
     "data": {
      "image/png": "[encoded data removed]",
      "text/plain": [
       "<Figure size 432x288 with 2 Axes>"
      ]
     },
     "metadata": {
      "needs_background": "light"
     },
     "output_type": "display_data"
    }
   ],
   "source": [
    "trainloader = torch.utils.data.DataLoader(range(400), batch_size=20, shuffle=True, num_workers=2)\n",
    "validloader = torch.utils.data.DataLoader(range(200), batch_size=20, shuffle=True, num_workers=2)\n",
    "criterion = nn.CrossEntropyLoss()\n",
    "net = SimpleNet()\n",
    "train_history, valid_history = train(net)\n",
    "plot_train_val(train_history, valid_history)"
   ]
  },
  {
   "cell_type": "code",
   "execution_count": 14,
   "metadata": {},
   "outputs": [
    {
     "name": "stdout",
     "output_type": "stream",
     "text": [
      "Confusion matrix\n"
     ]
    },
    {
     "data": {
      "text/plain": [
       "<matplotlib.axes._subplots.AxesSubplot at 0x2b09b7873d0>"
      ]
     },
     "execution_count": 14,
     "metadata": {},
     "output_type": "execute_result"
    },
    {
     "data": {
      "image/png": "[encoded data removed]",
      "text/plain": [
       "<Figure size 432x288 with 2 Axes>"
      ]
     },
     "metadata": {
      "needs_background": "light"
     },
     "output_type": "display_data"
    }
   ],
   "source": [
    "from sklearn.metrics import confusion_matrix\n",
    "import seaborn as sns\n",
    "\n",
    "y_pred = []\n",
    "outputs = net(Xtest_tensor)\n",
    "for i in range(100):\n",
    "    y_pred.append(np.argmax(outputs[i,:].detach().numpy()))\n",
    "\n",
    "print(\"Confusion matrix\")\n",
    "cf_matrix = confusion_matrix(ytest, y_pred)\n",
    "sns.heatmap(cf_matrix, annot=True)"
   ]
  },
  {
   "cell_type": "markdown",
   "metadata": {},
   "source": [
    "We can see that our NN is reasonably accurate. The discrepancies between the true data and the predicted values come from the noise introduced in data generation (lower noise yields higher accuracies), as well as the low number of epochs. However, a longer training may lead to overfitting, since the neural network may simply end up by learning the noise as a value, a detrimental feature for our intended goal."
   ]
  },
  {
   "cell_type": "markdown",
   "metadata": {},
   "source": [
    "# Neural network on transformed data\n",
    "\n",
    "We proceed now to perform the same analysis on the decoded dataset"
   ]
  },
  {
   "cell_type": "code",
   "execution_count": 15,
   "metadata": {},
   "outputs": [],
   "source": [
    "X_decoded = torch.zeros([400, 2], dtype=torch.float)\n",
    "for i in range(400):\n",
    "    X_decoded[i,:] = torch.FloatTensor(decode(X_tensor[i,:]))\n",
    "    \n",
    "Xval_decoded = torch.zeros([200, 2], dtype=torch.float)\n",
    "for i in range(200):\n",
    "    Xval_decoded[i,:] = torch.FloatTensor(decode(Xval_tensor[i,:]))\n",
    "    \n",
    "Xtest_decoded = torch.zeros([100, 2], dtype=torch.float)\n",
    "for i in range(100):\n",
    "    Xtest_decoded[i,:] = torch.FloatTensor(decode(Xtest_tensor[i,:]))"
   ]
  },
  {
   "cell_type": "code",
   "execution_count": 16,
   "metadata": {},
   "outputs": [],
   "source": [
    "class SimpleNet_2in(nn.Module):\n",
    "    def __init__(self):\n",
    "        super(SimpleNet_2in, self).__init__()\n",
    "        self.fc1 = nn.Linear(2, 10)\n",
    "        self.fc2 = nn.Linear(10, 10)\n",
    "        self.fc3 = nn.Linear(10, 10)\n",
    "        self.fc4 = nn.Linear(10, 4)\n",
    "\n",
    "    def forward(self, x):\n",
    "        x = x.view(-1, 2)\n",
    "        x = self.fc1(x)\n",
    "        x = F.relu(x)\n",
    "        x = self.fc2(x)\n",
    "        x = F.relu(x)\n",
    "        x = self.fc3(x)\n",
    "        x = F.relu(x)\n",
    "        x = self.fc4(x)\n",
    "        return x"
   ]
  },
  {
   "cell_type": "code",
   "execution_count": 17,
   "metadata": {},
   "outputs": [],
   "source": [
    "def validation(net):\n",
    "    valid_loss = 0\n",
    "    with torch.no_grad():\n",
    "        for data in validloader:\n",
    "            inputs = Xval_decoded[data, :]\n",
    "            labels = yval_tensor[data, :].resize(20)\n",
    "            outputs = net(inputs)\n",
    "            loss = criterion(outputs, labels)\n",
    "            valid_loss += loss.item()\n",
    "    return valid_loss"
   ]
  },
  {
   "cell_type": "code",
   "execution_count": 18,
   "metadata": {},
   "outputs": [],
   "source": [
    "def train(net, earlystopping=True):\n",
    "#     optimizer = torch.optim.SGD(net.parameters(), lr=0.1, momentum=0.9)\n",
    "    optimizer = torch.optim.Adam(net.parameters())\n",
    "    train_history = []\n",
    "    valid_history = []\n",
    "    estop = EarlyStopping(patience=5)\n",
    "    for epoch in range(50):\n",
    "        train_loss = 0.0\n",
    "        for i, data in enumerate(trainloader, 0):\n",
    "            # get the inputs; data is a list of [inputs, labels]\n",
    "            inputs = X_decoded[data, :]\n",
    "            labels = y_tensor[data, :].resize(20)\n",
    "            # zero the parameter gradients\n",
    "            optimizer.zero_grad()\n",
    "            # forward + backward + optimize\n",
    "            outputs = net(inputs)\n",
    "            loss = criterion(outputs, labels)\n",
    "            loss.backward()\n",
    "            optimizer.step()\n",
    "            train_loss += loss.item()\n",
    "        valid_loss = validation(net)\n",
    "        train_history.append(train_loss)\n",
    "        valid_history.append(valid_loss)\n",
    "        print('Epoch %02d: train loss %0.5f, validation loss %0.5f' % (epoch, train_loss, valid_loss))\n",
    "        estop.step(valid_loss)\n",
    "        if earlystopping and estop.early_stop:\n",
    "            break\n",
    "    return train_history, valid_history"
   ]
  },
  {
   "cell_type": "code",
   "execution_count": 19,
   "metadata": {},
   "outputs": [
    {
     "name": "stderr",
     "output_type": "stream",
     "text": [
      "C:\\Users\\javie\\anaconda3\\lib\\site-packages\\torch\\tensor.py:447: UserWarning: non-inplace resize is deprecated\n",
      "  warnings.warn(\"non-inplace resize is deprecated\")\n"
     ]
    },
    {
     "name": "stdout",
     "output_type": "stream",
     "text": [
      "Epoch 00: train loss 28.27576, validation loss 14.00728\n",
      "Epoch 01: train loss 27.93608, validation loss 13.93753\n",
      "Epoch 02: train loss 27.76765, validation loss 13.75890\n",
      "Epoch 03: train loss 27.10311, validation loss 13.33702\n",
      "Epoch 04: train loss 26.25315, validation loss 12.87733\n",
      "Epoch 05: train loss 25.28855, validation loss 12.37173\n",
      "Epoch 06: train loss 24.14850, validation loss 11.70723\n",
      "Epoch 07: train loss 22.82898, validation loss 11.07001\n",
      "Epoch 08: train loss 21.56621, validation loss 10.42090\n",
      "Epoch 09: train loss 19.63205, validation loss 9.05104\n",
      "Epoch 10: train loss 16.72589, validation loss 7.56519\n",
      "Epoch 11: train loss 13.90128, validation loss 6.29147\n",
      "Epoch 12: train loss 11.61715, validation loss 5.28577\n",
      "Epoch 13: train loss 9.82565, validation loss 4.47552\n",
      "Epoch 14: train loss 8.29172, validation loss 3.78131\n",
      "Epoch 15: train loss 6.97174, validation loss 3.13467\n",
      "Epoch 16: train loss 5.77250, validation loss 2.59723\n",
      "Epoch 17: train loss 4.77471, validation loss 2.14823\n",
      "Epoch 18: train loss 3.96149, validation loss 1.76467\n",
      "Epoch 19: train loss 3.26326, validation loss 1.46182\n",
      "Epoch 20: train loss 2.70050, validation loss 1.21768\n",
      "Epoch 21: train loss 2.24787, validation loss 1.01217\n",
      "Epoch 22: train loss 1.86789, validation loss 0.84267\n",
      "Epoch 23: train loss 1.55646, validation loss 0.70308\n",
      "Epoch 24: train loss 1.30134, validation loss 0.58733\n",
      "Epoch 25: train loss 1.09116, validation loss 0.49178\n",
      "Epoch 26: train loss 0.91909, validation loss 0.41446\n",
      "Epoch 27: train loss 0.77565, validation loss 0.35350\n",
      "Epoch 28: train loss 0.66289, validation loss 0.30070\n",
      "Epoch 29: train loss 0.56607, validation loss 0.25846\n",
      "Epoch 30: train loss 0.48784, validation loss 0.22311\n",
      "Epoch 31: train loss 0.41957, validation loss 0.18965\n",
      "Epoch 32: train loss 0.34706, validation loss 0.15127\n",
      "Epoch 33: train loss 0.27358, validation loss 0.11916\n",
      "Epoch 34: train loss 0.21617, validation loss 0.09484\n",
      "Epoch 35: train loss 0.17396, validation loss 0.07667\n",
      "Epoch 36: train loss 0.14229, validation loss 0.06343\n",
      "Epoch 37: train loss 0.11879, validation loss 0.05336\n",
      "Epoch 38: train loss 0.10072, validation loss 0.04568\n",
      "Epoch 39: train loss 0.08678, validation loss 0.03951\n",
      "Epoch 40: train loss 0.07550, validation loss 0.03466\n",
      "Epoch 41: train loss 0.06665, validation loss 0.03055\n",
      "Epoch 42: train loss 0.05900, validation loss 0.02729\n",
      "Epoch 43: train loss 0.05286, validation loss 0.02450\n",
      "Epoch 44: train loss 0.04769, validation loss 0.02210\n",
      "Epoch 45: train loss 0.04316, validation loss 0.02010\n",
      "Epoch 46: train loss 0.03932, validation loss 0.01838\n",
      "Epoch 47: train loss 0.03604, validation loss 0.01685\n",
      "Epoch 48: train loss 0.03312, validation loss 0.01553\n",
      "Epoch 49: train loss 0.03059, validation loss 0.01434\n"
     ]
    },
    {
     "data": {
      "image/png": "[encoded data removed]",
      "text/plain": [
       "<Figure size 432x288 with 2 Axes>"
      ]
     },
     "metadata": {
      "needs_background": "light"
     },
     "output_type": "display_data"
    }
   ],
   "source": [
    "trainloader = torch.utils.data.DataLoader(range(400), batch_size=20, shuffle=True, num_workers=2)\n",
    "validloader = torch.utils.data.DataLoader(range(200), batch_size=20, shuffle=True, num_workers=2)\n",
    "criterion = nn.CrossEntropyLoss()\n",
    "net = SimpleNet_2in()\n",
    "train_history, valid_history = train(net)\n",
    "plot_train_val(train_history, valid_history)"
   ]
  },
  {
   "cell_type": "code",
   "execution_count": 20,
   "metadata": {},
   "outputs": [
    {
     "name": "stdout",
     "output_type": "stream",
     "text": [
      "Confusion matrix\n"
     ]
    },
    {
     "data": {
      "text/plain": [
       "<matplotlib.axes._subplots.AxesSubplot at 0x2b09b9f9340>"
      ]
     },
     "execution_count": 20,
     "metadata": {},
     "output_type": "execute_result"
    },
    {
     "data": {
      "image/png": "[encoded data removed]",
      "text/plain": [
       "<Figure size 432x288 with 2 Axes>"
      ]
     },
     "metadata": {
      "needs_background": "light"
     },
     "output_type": "display_data"
    }
   ],
   "source": [
    "y_pred = []\n",
    "outputs = net(Xtest_decoded)\n",
    "for i in range(100):\n",
    "    y_pred.append(np.argmax(outputs[i,:].detach().numpy()))\n",
    "\n",
    "print(\"Confusion matrix\")\n",
    "cf_matrix = confusion_matrix(ytest, y_pred)\n",
    "sns.heatmap(cf_matrix, annot=True)"
   ]
  },
  {
   "cell_type": "markdown",
   "metadata": {},
   "source": [
    "As expected, the decoded dataset perfoms better than the raw one, being able to mitigate the noise influence on the classification. However, we have cheated on this analysis, since we knew the decoding algorithm prior to making the data classification. In real life, the data decoding may not be known, so we should be able to find a way to learn it."
   ]
  },
  {
   "cell_type": "markdown",
   "metadata": {},
   "source": [
    "# Genetic Programming"
   ]
  },
  {
   "cell_type": "code",
   "execution_count": 21,
   "metadata": {},
   "outputs": [
    {
     "name": "stdout",
     "output_type": "stream",
     "text": [
      "[1, 1, 4, '/', 1, 3, '+', 0, '*', '*', 3, '*']\n"
     ]
    }
   ],
   "source": [
    "import random\n",
    "\n",
    "x = np.array([[1, 2, 3, 4, 5], [1, 2, 3, 4, 5]])\n",
    "data_len = x.shape[1]\n",
    "\n",
    "def program_generator(data_len):\n",
    "    program_len = random.randint(2,20)\n",
    "    \n",
    "    program = []\n",
    "    \n",
    "    \n",
    "    values = [i for i in range(data_len)]\n",
    "    \n",
    "    program.append(random.choice(values))\n",
    "    program.append(random.choice(values))\n",
    "\n",
    "    values.append('+')\n",
    "    values.append('-')\n",
    "    values.append('*')\n",
    "    values.append('/')\n",
    "    \n",
    "    for i in range(2,program_len):\n",
    "        program.append(random.choice(values))\n",
    "    \n",
    "    return program\n",
    "\n",
    "program = program_generator(data_len)\n",
    "print(program)   \n",
    "\n"
   ]
  },
  {
   "cell_type": "markdown",
   "metadata": {},
   "source": [
    "program = $[0, 2, '*', 1, 3, '*', '-', 0, 3, '*', 1, 2, '*', '+']$"
   ]
  },
  {
   "cell_type": "code",
   "execution_count": 22,
   "metadata": {},
   "outputs": [],
   "source": [
    "def program_reader(program, x):\n",
    "    output = []\n",
    "    for ele in program:\n",
    "        if type(ele) == int:\n",
    "            output.append(x[:,ele])\n",
    "        else:\n",
    "            try:\n",
    "                b = output.pop()\n",
    "                a = output.pop()\n",
    "                if ele == '+':\n",
    "                    output.append(a+b)\n",
    "                elif ele == '-':\n",
    "                    output.append(a-b)\n",
    "                elif ele == '*':\n",
    "                    output.append(a*b)\n",
    "                elif ele == '/' and b != 0:\n",
    "                    output.append(a/b)\n",
    "                else:\n",
    "                    raise\n",
    "            except:\n",
    "                output = 'Error'\n",
    "                break\n",
    "           \n",
    "    if output == 'Error':\n",
    "        outmat = 'Error'\n",
    "    else:\n",
    "        newdim = len(output)\n",
    "    \n",
    "        outmat = np.zeros((x.shape[0],newdim))\n",
    "        for ele in range(newdim):\n",
    "            outmat[:,ele] = output[ele]\n",
    "        \n",
    "    return outmat "
   ]
  },
  {
   "cell_type": "code",
   "execution_count": null,
   "metadata": {},
   "outputs": [],
   "source": []
  },
  {
   "cell_type": "code",
   "execution_count": null,
   "metadata": {},
   "outputs": [],
   "source": []
  },
  {
   "cell_type": "code",
   "execution_count": 23,
   "metadata": {},
   "outputs": [],
   "source": [
    "population_size = 50\n",
    "population = []\n",
    "errors = []\n",
    "\n",
    "x = np.array([[1, 2, 3, 4, 5], [1, 2, 3, 4, 5]])\n",
    "\n",
    "for i in range(population_size):\n",
    "    population.append(program_generator(data_len))"
   ]
  },
  {
   "cell_type": "code",
   "execution_count": 24,
   "metadata": {},
   "outputs": [],
   "source": [
    "output = []\n",
    "for i in range(population_size):\n",
    "    output.append(program_reader(population[i], x))\n",
    "    if type(output[-1]) == str:\n",
    "        errors.append(i)\n",
    "\n",
    "errors.reverse()        \n",
    "\n",
    "for err in errors:\n",
    "    output.pop(err)\n",
    "    population.pop(err)"
   ]
  },
  {
   "cell_type": "code",
   "execution_count": 25,
   "metadata": {},
   "outputs": [
    {
     "data": {
      "text/plain": [
       "[[0, 0, '+'],\n",
       " [3, 4],\n",
       " [0, 3, 0, 3, '+', 2, '+', 0, 2],\n",
       " [4, 2, 1, '*', '*', 3, 1, 1],\n",
       " [4, 1],\n",
       " [1, 3, '+'],\n",
       " [0, 4, 1, '-'],\n",
       " [3, 3, 2, '*', 4, 4, 2, '+', 1],\n",
       " [1, 4, 1, 4, 2, 1, '+', 1, '+', '+'],\n",
       " [4, 2, 1, '+', 1, 1, '*', 2, '+', '*', 4, '-', 0, '*', 2, 3, '-', '*', 4],\n",
       " [3, 4, 0, '+', 1],\n",
       " [4, 4, 1, 0, '+'],\n",
       " [0, 0, 4, '+', 4, 2, '-', '-', 1, 1, 0, 1, 4, 0, 2],\n",
       " [3, 0, 3, 0, '-'],\n",
       " [2, 1, 0, 4, 2, '+', 2, 2, '-'],\n",
       " [1, 2, 3, 4, 0, 2, '*', 4],\n",
       " [2, 4, 3, '-', 2, 3, 4, '+', '+', '*', 3, 4]]"
      ]
     },
     "execution_count": 25,
     "metadata": {},
     "output_type": "execute_result"
    }
   ],
   "source": [
    "population"
   ]
  },
  {
   "cell_type": "code",
   "execution_count": 26,
   "metadata": {},
   "outputs": [
    {
     "name": "stderr",
     "output_type": "stream",
     "text": [
      "100%|██████████████████████████████████████████████████████████████████████████████| 5000/5000 [15:23<00:00,  5.41it/s]"
     ]
    },
    {
     "name": "stdout",
     "output_type": "stream",
     "text": [
      "[3, 0, '*', 3, 1, '*', 2, '-', 1, 1, 2, 2, '-', 1, 1, 2, '*']\n"
     ]
    },
    {
     "name": "stderr",
     "output_type": "stream",
     "text": [
      "\n"
     ]
    }
   ],
   "source": [
    "from sklearn.neighbors import NearestCentroid\n",
    "from tqdm import tqdm\n",
    "\n",
    "max_generations = 5000\n",
    "population_size = 500\n",
    "population = []\n",
    "y = y.reshape((400,))\n",
    "\n",
    "for gen in tqdm(range(max_generations)):\n",
    "    \n",
    "    while len(population) > 0.5*population_size:\n",
    "        population.pop()\n",
    "    \n",
    "    for ind in range(len(population), population_size):\n",
    "        population.append(program_generator(X.shape[1]))\n",
    "        \n",
    "    output = []\n",
    "    errors = []\n",
    "    for i in range(population_size):\n",
    "        output.append(program_reader(population[i], X))\n",
    "        if type(output[-1]) == str:\n",
    "            errors.append(i)\n",
    "\n",
    "    errors.reverse()        \n",
    "\n",
    "    for err in errors:\n",
    "        output.pop(err)\n",
    "        population.pop(err)\n",
    "        \n",
    "    score = []\n",
    "    for i in range(len(output)):\n",
    "        clf = NearestCentroid()\n",
    "        clf.fit(output[i], y)\n",
    "#         y_pred = clf.predict(output[i])\n",
    "        score.append(clf.score(output[i],y))\n",
    "    \n",
    "    keys = sorted(range(len(score)), key=lambda k: score[k])\n",
    "    keys.reverse()\n",
    "    \n",
    "    population_ordered = []\n",
    "    for k in keys:\n",
    "        population_ordered.append(population[k])\n",
    "    population = population_ordered\n",
    "    \n",
    "print(population[0])"
   ]
  },
  {
   "cell_type": "code",
   "execution_count": 27,
   "metadata": {},
   "outputs": [
    {
     "name": "stdout",
     "output_type": "stream",
     "text": [
      "Confusion matrix\n"
     ]
    },
    {
     "data": {
      "text/plain": [
       "<matplotlib.axes._subplots.AxesSubplot at 0x2b08ec20520>"
      ]
     },
     "execution_count": 27,
     "metadata": {},
     "output_type": "execute_result"
    },
    {
     "data": {
      "image/png": "[encoded data removed]",
      "text/plain": [
       "<Figure size 432x288 with 2 Axes>"
      ]
     },
     "metadata": {
      "needs_background": "light"
     },
     "output_type": "display_data"
    }
   ],
   "source": [
    "program = population[0]\n",
    "X_trans = program_reader(program, X)\n",
    "clf = NearestCentroid()\n",
    "clf.fit(X_trans, y)\n",
    "y_pred = clf.predict(X_trans)\n",
    "print(\"Confusion matrix\")\n",
    "cf_matrix = confusion_matrix(y, y_pred)\n",
    "sns.heatmap(cf_matrix, annot=True)"
   ]
  },
  {
   "cell_type": "code",
   "execution_count": 28,
   "metadata": {},
   "outputs": [
    {
     "name": "stdout",
     "output_type": "stream",
     "text": [
      "Confusion matrix\n"
     ]
    },
    {
     "data": {
      "text/plain": [
       "<matplotlib.axes._subplots.AxesSubplot at 0x2b09bc7d730>"
      ]
     },
     "execution_count": 28,
     "metadata": {},
     "output_type": "execute_result"
    },
    {
     "data": {
      "image/png": "[encoded data removed]",
      "text/plain": [
       "<Figure size 432x288 with 2 Axes>"
      ]
     },
     "metadata": {
      "needs_background": "light"
     },
     "output_type": "display_data"
    }
   ],
   "source": [
    "Xtest_trans = program_reader(program, Xtest)\n",
    "ytest = ytest.reshape((100,))\n",
    "ytest_pred = clf.predict(Xtest_trans)\n",
    "print(\"Confusion matrix\")\n",
    "cf_matrix = confusion_matrix(ytest, ytest_pred)\n",
    "sns.heatmap(cf_matrix, annot=True)"
   ]
  },
  {
   "cell_type": "code",
   "execution_count": null,
   "metadata": {},
   "outputs": [],
   "source": []
  },
  {
   "cell_type": "code",
   "execution_count": 29,
   "metadata": {},
   "outputs": [],
   "source": [
    "# from sklearn.neural_network import MLPClassifier\n",
    "\n",
    "# y_onehot_array = y_onehot.numpy()\n",
    "# y_onehot_array\n",
    "\n",
    "# myNN = MLPClassifier(hidden_layer_sizes=(8,16,8))\n",
    "# myNN.fit(X, y_onehot_array)"
   ]
  },
  {
   "cell_type": "code",
   "execution_count": 30,
   "metadata": {},
   "outputs": [],
   "source": [
    "# trainloader = torch.utils.data.DataLoader(range(200), batch_size=20, shuffle=True, num_workers=2)\n",
    "# criterion = nn.CrossEntropyLoss()\n",
    "# optimizer = torch.optim.SGD(net.parameters(), lr=0.001, momentum=0.9)\n",
    "# train_loss = 0.0\n",
    "# for i, data in enumerate(trainloader, 0):\n",
    "#     # get the inputs; data is a list of [inputs, labels]\n",
    "#     inputs = X_tensor[data, :]\n",
    "#     print(inputs)\n",
    "#     labels = y_tensor[data, :].resize(20)\n",
    "#     print(labels)\n",
    "#     # zero the parameter gradients\n",
    "#     optimizer.zero_grad()\n",
    "#     # forward + backward + optimize\n",
    "#     outputs = net(inputs)\n",
    "#     print(outputs)\n",
    "#     loss = criterion(outputs, labels)\n",
    "#     print(loss)\n",
    "#     print(type(loss))\n",
    "#     loss.backward()\n",
    "#     optimizer.step()\n",
    "#     train_loss += loss.item()"
   ]
  }
 ],
 "metadata": {
  "kernelspec": {
   "display_name": "Python 3",
   "language": "python",
   "name": "python3"
  },
  "language_info": {
   "codemirror_mode": {
    "name": "ipython",
    "version": 3
   },
   "file_extension": ".py",
   "mimetype": "text/x-python",
   "name": "python",
   "nbconvert_exporter": "python",
   "pygments_lexer": "ipython3",
   "version": "3.8.3"
  }
 },
 "nbformat": 4,
 "nbformat_minor": 4
}
