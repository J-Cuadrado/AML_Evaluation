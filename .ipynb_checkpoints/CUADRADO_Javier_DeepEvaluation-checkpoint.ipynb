{
 "cells": [
  {
   "cell_type": "markdown",
   "metadata": {},
   "source": [
    "# Algorithms in Machine Learning\n",
    "## Student: Javier CUADRADO ANÍBARRO\n",
    "\n",
    "The present notebook can be also found in https://github.com/J-Cuadrado/AML_Evaluation"
   ]
  },
  {
   "cell_type": "markdown",
   "metadata": {},
   "source": [
    "# Prerequisites\n",
    "\n",
    "Please run the following line of code if the packages are not already installed in your computer, or if you are running this notebook on Google Colab."
   ]
  },
  {
   "cell_type": "code",
   "execution_count": 1,
   "metadata": {},
   "outputs": [],
   "source": [
    "# !pip install numpy sklearn torch torchvision matplotlib seaborn tqdm"
   ]
  },
  {
   "cell_type": "markdown",
   "metadata": {},
   "source": [
    "<div class=\"alert alert-block alert-warning\"><b>Advice:</b> \n",
    "    \n",
    "Due to the amount of time stochastic algorithms can take, as well of the time involved in training a neural network, we suggest completely launching the notebook since the beginning, and gradually explore its content while the code is running..</div>"
   ]
  },
  {
   "cell_type": "markdown",
   "metadata": {},
   "source": [
    "# Introduction\n",
    "\n",
    "The aim of this notebook is to present the possible advantages of multidimensional genetic programming for multiclass classification, comparing it to other most common classification methods such as neural networks. The source article for this notebook can be found in the following link:\n",
    "\n",
    "https://www.sciencedirect.com/science/article/pii/S2210650217309136\n",
    "\n",
    "The main goal of this article is to present a method for feature selection and construction, which ara key componenst to classification problems in machine learning. Notably, we want to exploit the intrinsic characteristics of genetic programming, which implicitly performs feature selection and construction over the data, while also making fewer _a priori_ assumptions on the data. Let us quote the article to clarify this point in a more rigorous way:\n",
    "\n",
    "_\"A well known learning method that implicitly conducts feature selection and construction is genetic programming (GP), which has been proposed for classification. GP incorporates feature selection and construction by optimizing a population of programs constructed from a set of instructions that operate on the dataset features to produce a model. Compared to traditional ML approaches such as logistic regression and decision tree classification, GP makes fewer a priori assumptions about the data [...]\"_\n",
    "\n",
    "So, in short, we want to exploit the fact that GP algorithms can find hidden interactions among the data, to best summarize it and help the classification.\n",
    "\n",
    "We will begin by presenting the data we will use to perform the classifications, and then show the advantages and disadvantages of such an approach. Next, we will compare our simple implementation with the more advanced solutions proposed in the article. Finally, we will explore some potential applications of the algorithm presented in the paper."
   ]
  },
  {
   "cell_type": "markdown",
   "metadata": {},
   "source": [
    "# Data generation"
   ]
  },
  {
   "cell_type": "markdown",
   "metadata": {},
   "source": [
    "We are going to begin by creating the data with which we will work. Our data will consist of a set of $\\mathbb{R}^4$ points obtained the following way:\n",
    "\n",
    "$$\\left\\{\\begin{array}{ll} x_1 \\cdot x_3 - x_2 \\cdot x_4 & = A \\\\ x_1 \\cdot x_4 + x_2 \\cdot x_3 & = B\\end{array}\\right.$$\n",
    "\n",
    "Of course, the generation of the poins will be noisy, so the relationship between the values will not exactly add A or B, but something in between."
   ]
  },
  {
   "cell_type": "code",
   "execution_count": 2,
   "metadata": {},
   "outputs": [],
   "source": [
    "import numpy as np"
   ]
  },
  {
   "cell_type": "code",
   "execution_count": 3,
   "metadata": {},
   "outputs": [],
   "source": [
    "def generate_point(A,B,attenuation=10):\n",
    "    \"\"\"\n",
    "    Variables: \n",
    "    A, B: real numbers\n",
    "    attenuation: dividing factor used when adding noise from a N(0,1) distribution\n",
    "    \n",
    "    Output:\n",
    "    [x1, x2, x3, x4]: numpy ndarray of real values\n",
    "    \n",
    "    Definition:\n",
    "    This function generates a point [x1, x2, x3, x4] so that:\n",
    "    x1, x2 are randomly drawn from a uniform distribution [-5, 5]\n",
    "    x3, x4 satisfy the conditions:\n",
    "        x1*x3 - x2*x4 = A\n",
    "        x1*x4 + x2*x3 = B\n",
    "    Finally, a random noise is added to each one of the four values. The noise is drawn\n",
    "    from a N(0,1) distribution, and divided by the attenuation factor (effectively\n",
    "    modifying the standard deviation)    \n",
    "    \"\"\"\n",
    "    \n",
    "    x1 = np.random.uniform(-5,5)\n",
    "    x2 = np.random.uniform(-5,5)\n",
    "    x3 = (x1*A+x2*B)/(x1**2+x2**2)\n",
    "    x4 = (x1*B-x2*A)/(x1**2+x2**2)\n",
    "    x = [x1, x2, x3, x4] + np.random.randn(1,4)/attenuation\n",
    "    x = np.float32(x)\n",
    "    return x[0,:]"
   ]
  },
  {
   "cell_type": "code",
   "execution_count": 4,
   "metadata": {},
   "outputs": [],
   "source": [
    "def decode(x):\n",
    "    \"\"\"\n",
    "    The sole goal of this function is to verify the correct behavior of the data generation function    \n",
    "    \"\"\"\n",
    "    A = x[0]*x[2]-x[1]*x[3]\n",
    "    B = x[0]*x[3]+x[1]*x[2]\n",
    "    return [A, B]"
   ]
  },
  {
   "cell_type": "code",
   "execution_count": 5,
   "metadata": {},
   "outputs": [
    {
     "name": "stdout",
     "output_type": "stream",
     "text": [
      "Test point: [ 0.75187725 -1.0208131  -0.10547312  6.0902753 ]\n"
     ]
    }
   ],
   "source": [
    "# We generate a test point:\n",
    "x_test = generate_point(5,5)\n",
    "print(f\"Test point: {x_test}\")"
   ]
  },
  {
   "cell_type": "code",
   "execution_count": 6,
   "metadata": {},
   "outputs": [
    {
     "name": "stdout",
     "output_type": "stream",
     "text": [
      "Decoded point: [6.13773, 4.6868076]\n"
     ]
    }
   ],
   "source": [
    "# We verify that the decoded point is similar to (5,5)\n",
    "print(f\"Decoded point: {decode(x_test)}\")"
   ]
  },
  {
   "cell_type": "markdown",
   "metadata": {},
   "source": [
    "Once the functions to generate the data have been defined, we proceed to create three shuffled datasets: training (400 points), validation ( 200 points) and test (100 points). We will generate four clusters in each of the datasets: one with points centered around (0,0), another one of points generated around (0,5), a third one of points generated around (5,0), and a final one of points centered around (5,5)."
   ]
  },
  {
   "cell_type": "code",
   "execution_count": 7,
   "metadata": {},
   "outputs": [],
   "source": [
    "from sklearn.utils import shuffle\n",
    "\n",
    "def generate_data(points_per_cat):\n",
    "    \"\"\"\n",
    "    Input:\n",
    "    points_per_cat: integer, number of points in each cluster of the dataset\n",
    "   \n",
    "    Output:\n",
    "    X: dataset\n",
    "    y: labels\n",
    "    \"\"\"\n",
    "    X = np.zeros((4*points_per_cat,4))\n",
    "    y = np.zeros((4*points_per_cat,1))\n",
    "\n",
    "    for i in range(points_per_cat):\n",
    "        X[i,:] = generate_point(0,0)\n",
    "        y[i,:] = 0\n",
    "    \n",
    "    for i in range(points_per_cat, 2*points_per_cat):\n",
    "        X[i,:] = generate_point(0,5)\n",
    "        y[i,:] = 1\n",
    "\n",
    "    for i in range(2*points_per_cat, 3*points_per_cat):    \n",
    "        X[i,:] = generate_point(5,0)\n",
    "        y[i,:] = 2\n",
    "\n",
    "    for i in range(3*points_per_cat, 4*points_per_cat):\n",
    "        X[i,:] = generate_point(5,5)\n",
    "        y[i,:] = 3\n",
    "    \n",
    "    X, y = shuffle(X, y)\n",
    "    \n",
    "    return X, y\n",
    "\n",
    "# Training set\n",
    "X, y = generate_data(100)\n",
    "# Validation set\n",
    "Xval, yval = generate_data(50)\n",
    "# Test set\n",
    "Xtest, ytest = generate_data(25)"
   ]
  },
  {
   "cell_type": "markdown",
   "metadata": {},
   "source": [
    "Let us take a closer look on some of the data (fist ten points of the suffled training dataset)"
   ]
  },
  {
   "cell_type": "code",
   "execution_count": 8,
   "metadata": {},
   "outputs": [
    {
     "name": "stdout",
     "output_type": "stream",
     "text": [
      "Point #0: Values [-4.35088015  0.21503818  0.17304288 -0.0505701 ], Label 0.0\n",
      "Point #1: Values [-4.58064842 -2.23551559 -0.79729885  0.35296878], Label 2.0\n",
      "Point #2: Values [-2.07020617  4.8363843   0.12275855 -0.12997989], Label 0.0\n",
      "Point #3: Values [ 4.98609495  0.43926713  0.17080534 -0.02016615], Label 0.0\n",
      "Point #4: Values [3.90078616 1.44835675 0.09568922 0.14325106], Label 0.0\n",
      "Point #5: Values [2.02183247 0.76988733 0.81766456 2.03672218], Label 1.0\n",
      "Point #6: Values [-1.63876629  3.39544535  1.19579065 -0.42300695], Label 1.0\n",
      "Point #7: Values [ 2.92486382 -4.04970741 -0.20426165  1.42319429], Label 3.0\n",
      "Point #8: Values [ 4.06098318  2.42960906  0.93875307 -0.39124587], Label 2.0\n",
      "Point #9: Values [-1.43183553  0.88954037  1.68273234 -2.33865428], Label 1.0\n"
     ]
    }
   ],
   "source": [
    "for i in range(10):\n",
    "    print(f\"Point #{i}: Values {X[i,:]}, Label {y[i][0]}\")"
   ]
  },
  {
   "cell_type": "markdown",
   "metadata": {},
   "source": [
    "<div class=\"alert alert-block alert-danger\"> <b>Obs.-</b> It is clear that no conclusions can be extracted at first glance from the dataset as far as the predicted labels: a performing algorithm is needed to classify these data.</div>\n"
   ]
  },
  {
   "cell_type": "markdown",
   "metadata": {},
   "source": [
    "## Data to tensor\n",
    "\n",
    "Our first impulse is to run the data through a neural network to see if we can classify it. To build the neural networks, we will be using Pytorch. In order to work with Pytorch, we need to convert our numpy arrays into pytorch tensors."
   ]
  },
  {
   "cell_type": "code",
   "execution_count": 9,
   "metadata": {},
   "outputs": [],
   "source": [
    "import torch\n",
    "import torchvision\n",
    "\n",
    "%matplotlib inline\n",
    "import matplotlib.pyplot as plt"
   ]
  },
  {
   "cell_type": "code",
   "execution_count": 10,
   "metadata": {},
   "outputs": [],
   "source": [
    "def data_to_tensor(X,y):\n",
    "    \"\"\"\n",
    "    Inputs:\n",
    "    X, y: numpy arrays\n",
    "    \n",
    "    Output:\n",
    "    X_tensor, y_tensor: pytorch tensors containing the same information as the input arrays\n",
    "    \"\"\"\n",
    "    \n",
    "    X_tensor = torch.from_numpy(X).float()\n",
    "    y_tensor = torch.from_numpy(y).long()\n",
    "    \n",
    "    return X_tensor, y_tensor\n",
    "\n",
    "X_tensor, y_tensor = data_to_tensor(X,y)\n",
    "Xval_tensor, yval_tensor = data_to_tensor(Xval, yval)\n",
    "Xtest_tensor, ytest_tensor = data_to_tensor(Xtest, ytest)\n"
   ]
  },
  {
   "cell_type": "markdown",
   "metadata": {},
   "source": [
    "# Neural network on raw data"
   ]
  },
  {
   "cell_type": "markdown",
   "metadata": {},
   "source": [
    "## Architecture \n",
    "\n",
    "We proceed now to the classification of the generated data with our neural network. We have defined a 3-hidden-layer architecture, each of the hidden layers with 10 neurons and a ReLU activation.\n",
    "\n",
    "- Since the interactions beween the data are fairly simple, we have decided to limit our neural network to a rather small architecture, in an effort to try to avoid overfitting of the values.\n",
    "- Several activations were tested during the development of this code, and notable efforts were dedicated towards making the algorithm work with sigmoid functions. However, ReLU activation has proven to be the most performing activation  to meet our goals, so it has been chosen as our activation i the hidden layers.\n",
    "- Poits are classed according to the output neuron which yields the higher value among the possible four categories."
   ]
  },
  {
   "cell_type": "code",
   "execution_count": 11,
   "metadata": {},
   "outputs": [],
   "source": [
    "from torch import nn\n",
    "import torch.nn.functional as F\n",
    "\n",
    "class SimpleNet(nn.Module):\n",
    "    def __init__(self, input_neurons = 4):\n",
    "        super(SimpleNet, self).__init__()\n",
    "        self.input_neurons = input_neurons\n",
    "        self.fc1 = nn.Linear(self.input_neurons, 10)\n",
    "        self.fc2 = nn.Linear(10, 10)\n",
    "        self.fc3 = nn.Linear(10, 10)\n",
    "        self.fc4 = nn.Linear(10, 4)\n",
    "\n",
    "    def forward(self, x):\n",
    "        x = x.view(-1, self.input_neurons)\n",
    "        x = self.fc1(x)\n",
    "        x = F.relu(x)\n",
    "        x = self.fc2(x)\n",
    "        x = F.relu(x)\n",
    "        x = self.fc3(x)\n",
    "        x = F.relu(x)\n",
    "        x = self.fc4(x)\n",
    "        return x\n",
    "    \n",
    "net = SimpleNet()"
   ]
  },
  {
   "cell_type": "markdown",
   "metadata": {},
   "source": [
    "## Training\n",
    "\n",
    "For the training process of the NN, we will begin by defining the Early Stopping criterion, wich will have a patience of 5 epochs. This has been done to further prevent the overfitting of the data."
   ]
  },
  {
   "cell_type": "code",
   "execution_count": 12,
   "metadata": {},
   "outputs": [],
   "source": [
    "class EarlyStopping:\n",
    "    \n",
    "    def __init__(self, patience=5, delta=0):\n",
    "        self.patience = patience\n",
    "        self.counter = 0\n",
    "        self.best_score = None\n",
    "        self.delta = delta\n",
    "        self.early_stop = False\n",
    "\n",
    "    def step(self, val_loss):\n",
    "        score = -val_loss\n",
    "        if self.best_score is None:\n",
    "            self.best_score = score\n",
    "        elif score < self.best_score + self.delta:\n",
    "            self.counter += 1\n",
    "            print('EarlyStopping counter: %d / %d' % (self.counter, self.patience))\n",
    "            if self.counter >= self.patience:\n",
    "                self.early_stop = True\n",
    "        else:\n",
    "            self.best_score = score\n",
    "            self.counter = 0"
   ]
  },
  {
   "cell_type": "markdown",
   "metadata": {},
   "source": [
    "In addition, a maximum of 50 epochs will be allowed in the training process. As for the optimizer, Adam has been found more performing, so it has been the chosen algorithm (it also allows us to not have to define the optimization hyperparameters)."
   ]
  },
  {
   "cell_type": "code",
   "execution_count": 13,
   "metadata": {},
   "outputs": [],
   "source": [
    "def validation(net, Xval_tensor, yval_tensor):\n",
    "    valid_loss = 0\n",
    "    with torch.no_grad():\n",
    "        for data in validloader:\n",
    "            inputs = Xval_tensor[data, :]\n",
    "            labels = yval_tensor[data, :].resize(20)\n",
    "            outputs = net(inputs)\n",
    "            loss = criterion(outputs, labels)\n",
    "            valid_loss += loss.item()\n",
    "    return valid_loss\n",
    "\n",
    "def train(net,X_tensor, y_tensor, X_validation, y_validation, earlystopping=True):\n",
    "    optimizer = torch.optim.Adam(net.parameters())\n",
    "    train_history = []\n",
    "    valid_history = []\n",
    "    estop = EarlyStopping(patience=5)\n",
    "    for epoch in range(50):\n",
    "        train_loss = 0.0\n",
    "        for i, data in enumerate(trainloader, 0):\n",
    "            # get the inputs; data is a list of [inputs, labels]\n",
    "            inputs = X_tensor[data, :]\n",
    "            labels = y_tensor[data, :].resize(20)\n",
    "            # zero the parameter gradients\n",
    "            optimizer.zero_grad()\n",
    "            # forward + backward + optimize\n",
    "            outputs = net(inputs)\n",
    "            loss = criterion(outputs, labels)\n",
    "            loss.backward()\n",
    "            optimizer.step()\n",
    "            train_loss += loss.item()\n",
    "        valid_loss = validation(net, X_validation, y_validation)\n",
    "        train_history.append(train_loss)\n",
    "        valid_history.append(valid_loss)\n",
    "        print('Epoch %02d: train loss %0.5f, validation loss %0.5f' % (epoch, train_loss, valid_loss))\n",
    "        estop.step(valid_loss)\n",
    "        if earlystopping and estop.early_stop:\n",
    "            break\n",
    "    return train_history, valid_history"
   ]
  },
  {
   "cell_type": "markdown",
   "metadata": {},
   "source": [
    "Next, a function has been created to plot the evolution of the train and validation loss over the training period."
   ]
  },
  {
   "cell_type": "code",
   "execution_count": 14,
   "metadata": {},
   "outputs": [],
   "source": [
    "def plot_train_val(train, valid):\n",
    "    \"\"\"\n",
    "    Plotter function to represent the evolution of the train and validation loss over the training period.\n",
    "    \"\"\"\n",
    "    fig, ax1 = plt.subplots()\n",
    "    color = 'tab:red'\n",
    "    ax1.set_ylabel('Training', color=color)\n",
    "    ax1.plot(train, color=color)\n",
    "    ax2 = ax1.twinx()\n",
    "    color = 'tab:blue'\n",
    "    ax2.set_ylabel('Validation', color=color)\n",
    "    ax2.plot(valid, color=color)\n",
    "    fig.tight_layout()"
   ]
  },
  {
   "cell_type": "markdown",
   "metadata": {},
   "source": [
    "Finally, we will use a batch size of 20 both for the training and the validation sets. By using small batches, we make the training process slightly less performing, but we also get a faster algorithm, wich in turn allows more epochs to be processed in the same amount of time. For the criterion, we have chosen the Cross Entropy. Having defined all these functions and parameters, we proceed to the training of the neural network:"
   ]
  },
  {
   "cell_type": "code",
   "execution_count": 15,
   "metadata": {},
   "outputs": [
    {
     "name": "stderr",
     "output_type": "stream",
     "text": [
      "C:\\Users\\javie\\anaconda3\\lib\\site-packages\\torch\\tensor.py:447: UserWarning: non-inplace resize is deprecated\n",
      "  warnings.warn(\"non-inplace resize is deprecated\")\n"
     ]
    },
    {
     "name": "stdout",
     "output_type": "stream",
     "text": [
      "Epoch 00: train loss 27.82337, validation loss 14.00286\n",
      "Epoch 01: train loss 27.70271, validation loss 13.95895\n",
      "Epoch 02: train loss 27.60905, validation loss 13.92222\n",
      "Epoch 03: train loss 27.49723, validation loss 13.84730\n",
      "Epoch 04: train loss 27.37091, validation loss 13.77822\n",
      "Epoch 05: train loss 27.23720, validation loss 13.71556\n",
      "Epoch 06: train loss 27.08632, validation loss 13.67323\n",
      "Epoch 07: train loss 26.91767, validation loss 13.59024\n",
      "Epoch 08: train loss 26.70611, validation loss 13.48863\n",
      "Epoch 09: train loss 26.46261, validation loss 13.37209\n",
      "Epoch 10: train loss 26.21328, validation loss 13.25910\n",
      "Epoch 11: train loss 25.90418, validation loss 13.15202\n",
      "Epoch 12: train loss 25.51656, validation loss 13.00574\n",
      "Epoch 13: train loss 25.12713, validation loss 12.79732\n",
      "Epoch 14: train loss 24.69358, validation loss 12.64726\n",
      "Epoch 15: train loss 24.16684, validation loss 12.37819\n",
      "Epoch 16: train loss 23.58904, validation loss 12.16903\n",
      "Epoch 17: train loss 22.89173, validation loss 11.87284\n",
      "Epoch 18: train loss 22.11043, validation loss 11.54422\n",
      "Epoch 19: train loss 21.28186, validation loss 11.37334\n",
      "Epoch 20: train loss 20.26345, validation loss 11.16818\n",
      "Epoch 21: train loss 19.29929, validation loss 10.96697\n",
      "Epoch 22: train loss 18.29890, validation loss 10.50097\n",
      "Epoch 23: train loss 17.34856, validation loss 10.36613\n",
      "Epoch 24: train loss 16.40490, validation loss 9.96468\n",
      "Epoch 25: train loss 15.62801, validation loss 9.71223\n",
      "Epoch 26: train loss 14.92131, validation loss 9.35766\n",
      "Epoch 27: train loss 14.25376, validation loss 9.32809\n",
      "Epoch 28: train loss 13.75456, validation loss 9.00375\n",
      "Epoch 29: train loss 13.20231, validation loss 8.94874\n",
      "Epoch 30: train loss 12.69660, validation loss 8.76868\n",
      "Epoch 31: train loss 12.27806, validation loss 9.05055\n",
      "EarlyStopping counter: 1 / 5\n",
      "Epoch 32: train loss 11.84190, validation loss 8.60425\n",
      "Epoch 33: train loss 11.50166, validation loss 8.52324\n",
      "Epoch 34: train loss 11.17919, validation loss 8.43574\n",
      "Epoch 35: train loss 10.82273, validation loss 8.24828\n",
      "Epoch 36: train loss 10.46058, validation loss 8.24551\n",
      "Epoch 37: train loss 10.10467, validation loss 8.39783\n",
      "EarlyStopping counter: 1 / 5\n",
      "Epoch 38: train loss 9.78429, validation loss 7.92874\n",
      "Epoch 39: train loss 9.45653, validation loss 7.89321\n",
      "Epoch 40: train loss 9.17146, validation loss 7.82565\n",
      "Epoch 41: train loss 8.94442, validation loss 7.84317\n",
      "EarlyStopping counter: 1 / 5\n",
      "Epoch 42: train loss 8.60568, validation loss 7.50171\n",
      "Epoch 43: train loss 8.42165, validation loss 7.90138\n",
      "EarlyStopping counter: 1 / 5\n",
      "Epoch 44: train loss 8.15872, validation loss 7.62607\n",
      "EarlyStopping counter: 2 / 5\n",
      "Epoch 45: train loss 7.88528, validation loss 7.48529\n",
      "Epoch 46: train loss 7.61405, validation loss 7.16608\n",
      "Epoch 47: train loss 7.38985, validation loss 7.10567\n",
      "Epoch 48: train loss 7.14769, validation loss 7.14722\n",
      "EarlyStopping counter: 1 / 5\n",
      "Epoch 49: train loss 6.93516, validation loss 6.79737\n"
     ]
    },
    {
     "data": {
      "image/png": "[encoded data removed]",
      "text/plain": [
       "<Figure size 432x288 with 2 Axes>"
      ]
     },
     "metadata": {
      "needs_background": "light"
     },
     "output_type": "display_data"
    }
   ],
   "source": [
    "trainloader = torch.utils.data.DataLoader(range(400), batch_size=20, shuffle=True, num_workers=2)\n",
    "validloader = torch.utils.data.DataLoader(range(200), batch_size=20, shuffle=True, num_workers=2)\n",
    "criterion = nn.CrossEntropyLoss()\n",
    "net = SimpleNet()\n",
    "train_history, valid_history = train(net, X_tensor, y_tensor, Xval_tensor, yval_tensor)\n",
    "plot_train_val(train_history, valid_history)"
   ]
  },
  {
   "cell_type": "markdown",
   "metadata": {},
   "source": [
    "A nice, visual metric of the accuracy of our classifier can be obtained through the confusion matrix on the test data."
   ]
  },
  {
   "cell_type": "code",
   "execution_count": 16,
   "metadata": {},
   "outputs": [
    {
     "name": "stdout",
     "output_type": "stream",
     "text": [
      "Confusion matrix\n"
     ]
    },
    {
     "data": {
      "text/plain": [
       "<matplotlib.axes._subplots.AxesSubplot at 0x1e138574160>"
      ]
     },
     "execution_count": 16,
     "metadata": {},
     "output_type": "execute_result"
    },
    {
     "data": {
      "image/png": "[encoded data removed]",
      "text/plain": [
       "<Figure size 432x288 with 2 Axes>"
      ]
     },
     "metadata": {
      "needs_background": "light"
     },
     "output_type": "display_data"
    }
   ],
   "source": [
    "from sklearn.metrics import confusion_matrix\n",
    "import seaborn as sns\n",
    "\n",
    "y_pred = []\n",
    "outputs = net(Xtest_tensor)\n",
    "for i in range(100):\n",
    "    y_pred.append(np.argmax(outputs[i,:].detach().numpy()))\n",
    "\n",
    "print(\"Confusion matrix\")\n",
    "cf_matrix = confusion_matrix(ytest, y_pred)\n",
    "sns.heatmap(cf_matrix, annot=True)"
   ]
  },
  {
   "cell_type": "markdown",
   "metadata": {},
   "source": [
    "We can see that our NN is reasonably accurate. The discrepancies between the true data and the predicted values come from the noise introduced in data generation (lower noise yields higher accuracies), as well as the low number of epochs. However, a longer training may lead to overfitting, since the neural network may simply end up by learning the noise as a value, a detrimental feature for our intended goal.\n",
    "\n",
    "Nonetheless, this accuracy can be improved, and the following sections will try to present a method to achieve higher accuracies."
   ]
  },
  {
   "cell_type": "markdown",
   "metadata": {},
   "source": [
    "# Neural network on transformed data\n",
    "\n",
    "We proceed now to perform the same analysis on the decoded dataset, that is, on the (A,B) noisy pairs)"
   ]
  },
  {
   "cell_type": "code",
   "execution_count": 17,
   "metadata": {},
   "outputs": [],
   "source": [
    "X_decoded = torch.zeros([400, 2], dtype=torch.float)\n",
    "for i in range(400):\n",
    "    X_decoded[i,:] = torch.FloatTensor(decode(X_tensor[i,:]))\n",
    "    \n",
    "Xval_decoded = torch.zeros([200, 2], dtype=torch.float)\n",
    "for i in range(200):\n",
    "    Xval_decoded[i,:] = torch.FloatTensor(decode(Xval_tensor[i,:]))\n",
    "    \n",
    "Xtest_decoded = torch.zeros([100, 2], dtype=torch.float)\n",
    "for i in range(100):\n",
    "    Xtest_decoded[i,:] = torch.FloatTensor(decode(Xtest_tensor[i,:]))"
   ]
  },
  {
   "cell_type": "markdown",
   "metadata": {},
   "source": [
    "The goal of this section is to demonstrate that, by performing the same classification on the decoded dataset, higher accuracies can in fact be obrained without overfitting of the data."
   ]
  },
  {
   "cell_type": "code",
   "execution_count": 18,
   "metadata": {},
   "outputs": [
    {
     "name": "stderr",
     "output_type": "stream",
     "text": [
      "C:\\Users\\javie\\anaconda3\\lib\\site-packages\\torch\\tensor.py:447: UserWarning: non-inplace resize is deprecated\n",
      "  warnings.warn(\"non-inplace resize is deprecated\")\n"
     ]
    },
    {
     "name": "stdout",
     "output_type": "stream",
     "text": [
      "Epoch 00: train loss 26.37517, validation loss 12.73085\n",
      "Epoch 01: train loss 24.48542, validation loss 11.62197\n",
      "Epoch 02: train loss 22.05547, validation loss 10.32436\n",
      "Epoch 03: train loss 19.40773, validation loss 9.01537\n",
      "Epoch 04: train loss 16.85875, validation loss 7.78551\n",
      "Epoch 05: train loss 14.41060, validation loss 6.58641\n",
      "Epoch 06: train loss 12.03678, validation loss 5.48301\n",
      "Epoch 07: train loss 9.98632, validation loss 4.59245\n",
      "Epoch 08: train loss 8.34034, validation loss 3.92221\n",
      "Epoch 09: train loss 7.07412, validation loss 3.43421\n",
      "Epoch 10: train loss 6.11705, validation loss 3.07820\n",
      "Epoch 11: train loss 5.37520, validation loss 2.80189\n",
      "Epoch 12: train loss 4.75075, validation loss 2.55467\n",
      "Epoch 13: train loss 4.20166, validation loss 2.32715\n",
      "Epoch 14: train loss 3.68790, validation loss 2.09092\n",
      "Epoch 15: train loss 3.18249, validation loss 1.87922\n",
      "Epoch 16: train loss 2.71406, validation loss 1.67159\n",
      "Epoch 17: train loss 2.27754, validation loss 1.48262\n",
      "Epoch 18: train loss 1.90037, validation loss 1.29780\n",
      "Epoch 19: train loss 1.54863, validation loss 1.15751\n",
      "Epoch 20: train loss 1.26531, validation loss 1.03640\n",
      "Epoch 21: train loss 1.03758, validation loss 0.95261\n",
      "Epoch 22: train loss 0.84052, validation loss 0.86119\n",
      "Epoch 23: train loss 0.68434, validation loss 0.79698\n",
      "Epoch 24: train loss 0.55098, validation loss 0.75136\n",
      "Epoch 25: train loss 0.44743, validation loss 0.71874\n",
      "Epoch 26: train loss 0.37240, validation loss 0.69814\n",
      "Epoch 27: train loss 0.31336, validation loss 0.67845\n",
      "Epoch 28: train loss 0.26778, validation loss 0.65890\n",
      "Epoch 29: train loss 0.23073, validation loss 0.66445\n",
      "EarlyStopping counter: 1 / 5\n",
      "Epoch 30: train loss 0.20116, validation loss 0.65868\n",
      "Epoch 31: train loss 0.17701, validation loss 0.65358\n",
      "Epoch 32: train loss 0.15620, validation loss 0.65929\n",
      "EarlyStopping counter: 1 / 5\n",
      "Epoch 33: train loss 0.14004, validation loss 0.66272\n",
      "EarlyStopping counter: 2 / 5\n",
      "Epoch 34: train loss 0.12577, validation loss 0.65799\n",
      "EarlyStopping counter: 3 / 5\n",
      "Epoch 35: train loss 0.11379, validation loss 0.66486\n",
      "EarlyStopping counter: 4 / 5\n",
      "Epoch 36: train loss 0.10310, validation loss 0.66808\n",
      "EarlyStopping counter: 5 / 5\n"
     ]
    },
    {
     "data": {
      "image/png": "[encoded data removed]",
      "text/plain": [
       "<Figure size 432x288 with 2 Axes>"
      ]
     },
     "metadata": {
      "needs_background": "light"
     },
     "output_type": "display_data"
    }
   ],
   "source": [
    "trainloader = torch.utils.data.DataLoader(range(400), batch_size=20, shuffle=True, num_workers=2)\n",
    "validloader = torch.utils.data.DataLoader(range(200), batch_size=20, shuffle=True, num_workers=2)\n",
    "criterion = nn.CrossEntropyLoss()\n",
    "net = SimpleNet(input_neurons = 2)\n",
    "train_history, valid_history = train(net, X_decoded, y_tensor, Xval_decoded, yval_tensor)\n",
    "plot_train_val(train_history, valid_history)"
   ]
  },
  {
   "cell_type": "code",
   "execution_count": 19,
   "metadata": {},
   "outputs": [
    {
     "name": "stdout",
     "output_type": "stream",
     "text": [
      "Confusion matrix\n"
     ]
    },
    {
     "data": {
      "text/plain": [
       "<matplotlib.axes._subplots.AxesSubplot at 0x1e1306cebe0>"
      ]
     },
     "execution_count": 19,
     "metadata": {},
     "output_type": "execute_result"
    },
    {
     "data": {
      "image/png": "[encoded data removed]",
      "text/plain": [
       "<Figure size 432x288 with 2 Axes>"
      ]
     },
     "metadata": {
      "needs_background": "light"
     },
     "output_type": "display_data"
    }
   ],
   "source": [
    "y_pred = []\n",
    "outputs = net(Xtest_decoded)\n",
    "for i in range(100):\n",
    "    y_pred.append(np.argmax(outputs[i,:].detach().numpy()))\n",
    "\n",
    "print(\"Confusion matrix\")\n",
    "cf_matrix = confusion_matrix(ytest, y_pred)\n",
    "sns.heatmap(cf_matrix, annot=True)"
   ]
  },
  {
   "cell_type": "markdown",
   "metadata": {},
   "source": [
    "As expected, the decoded dataset perfoms better than the raw one, being able to mitigate the noise influence on the classification. However, we have cheated on this analysis, since we knew the decoding algorithm prior to making the data classification. In real life, the data decoding may not be known, so we should be able to find a way to learn it."
   ]
  },
  {
   "cell_type": "markdown",
   "metadata": {},
   "source": [
    "<div class=\"alert alert-block alert-info\"><b>The following sections will explore how to improve the classification accuracy when the interactons between the data are unknown.</b>"
   ]
  },
  {
   "cell_type": "markdown",
   "metadata": {},
   "source": [
    "# Genetic Programming\n",
    "\n",
    "We now seek to classify the data using an stochastic method. We will follow the philosophy presented on the paper, using stack-based programs, but with slight modifications to get a faster and easier to understand code."
   ]
  },
  {
   "cell_type": "markdown",
   "metadata": {},
   "source": [
    "<div class=\"alert alert-block alert-warning\"><b>Even if we will try our best to explain the M4GP algorithm presented in the paper, the reader is strongly encouraged to consult it for further information.</b>"
   ]
  },
  {
   "cell_type": "markdown",
   "metadata": {},
   "source": [
    "First of all, we will present the stack-based programs presented in the paper. Basically, these programs consist of a vector of possible opperations to be performed on the data, in order to transform it into another state. In order to best explain these programs, we will take the following one as an example:\n",
    "\n",
    "program = $[0, 2, *, 1, 3, *, -, 0, 3, *, 1, 2, *, +]$\n",
    "\n",
    "This program performs the following tasks, in order, adding the result of each operation to an output array:\n",
    "\n",
    "- 0 -> Access x[0] and store it in the output array -> output = [x0]\n",
    "- 2 -> Access x[2] and store it in the output array -> output = [x0, x2]\n",
    "- \\* -> Access the last two components of the output array, multiply them, and add the result to the output array -> output = [x0\\*x2]\n",
    "- 1 -> Access x[1] and store it in the output array -> output = [x0\\*x2, x1]\n",
    "- 3 -> Access x[3] and store it in the output array -> output = [x0\\*x2, x1, x3]\n",
    "- \\* -> Access the last two components of the output array, multiply them, and add the result to the output array -> output = [x0\\*x2, x1\\*x3]\n",
    "- \\- -> Access the last two components of the output array, substract them, and add the result to the output array -> output = [x0\\*x2 - x1\\*x3]\n",
    "- ...\n",
    "\n",
    "So, in the end, we will obtain an output vector which, in this case, will consist of **[x0\\*x2 - x1\\*x3, x0\\*x3 + x1\\*x2]**. How fitting, it is exactly the operations we followed to decode de data!\n",
    "\n",
    "We proceed then to create a code able to generate such a sequence/program."
   ]
  },
  {
   "cell_type": "code",
   "execution_count": 20,
   "metadata": {},
   "outputs": [
    {
     "name": "stdout",
     "output_type": "stream",
     "text": [
      "[2, 0, '/', 4, 0, 2, 3, '-', 1, 4, 2, 1, 1]\n"
     ]
    }
   ],
   "source": [
    "import random\n",
    "\n",
    "def program_generator(data_len):\n",
    "    \"\"\"\n",
    "    Input:\n",
    "    data_len: number of components of the data (in each line)\n",
    "    \n",
    "    Output:\n",
    "    program: a stack-based program (list) to be performed on the data\n",
    "    \"\"\"\n",
    "    program_len = random.randint(2,20)\n",
    "    \n",
    "    program = []\n",
    "    \n",
    "    \n",
    "    values = [i for i in range(data_len)]\n",
    "    \n",
    "    program.append(random.choice(values))\n",
    "    program.append(random.choice(values))\n",
    "\n",
    "    values.append('+')\n",
    "    values.append('-')\n",
    "    values.append('*')\n",
    "    values.append('/')\n",
    "    \n",
    "    for i in range(2,program_len):\n",
    "        program.append(random.choice(values))\n",
    "    \n",
    "    return program\n",
    "\n",
    "# sample data\n",
    "x_test = np.array([[1, 2, 3, 4, 5], [6, 7, 8, 9, 10]])\n",
    "data_len = x_test.shape[1]\n",
    "# obtention of a random program\n",
    "program_test = program_generator(data_len)\n",
    "print(program_test)   "
   ]
  },
  {
   "cell_type": "markdown",
   "metadata": {},
   "source": [
    "<div class=\"alert alert-block alert-danger\"><b>Not all of the programs can be run.</b> Some of them will, for example, consist of operations on the third and four elements of the list, which will lead to an error because there won't be enough arguments on the output stack to pop. This problem will be solved in the genetic optimization section."
   ]
  },
  {
   "cell_type": "markdown",
   "metadata": {},
   "source": [
    "Next, we define a function able of running the different programs on the data, which returns an array with the transformed dataset"
   ]
  },
  {
   "cell_type": "code",
   "execution_count": 21,
   "metadata": {},
   "outputs": [
    {
     "name": "stdout",
     "output_type": "stream",
     "text": [
      "Error\n"
     ]
    }
   ],
   "source": [
    "def program_reader(program, x):\n",
    "    \"\"\"\n",
    "    Input:\n",
    "    program: list of operations to perform on the data\n",
    "    x: array of raw data\n",
    "    \n",
    "    Output:\n",
    "    outmat: it can either be an array with the transformed data, or an string \"Error\" is the program cannot be run\n",
    "    \"\"\"\n",
    "    output = []\n",
    "    for ele in program:\n",
    "        if type(ele) == int:\n",
    "            output.append(x[:,ele])\n",
    "        else:\n",
    "            try:\n",
    "                b = output.pop()\n",
    "                a = output.pop()\n",
    "                if ele == '+':\n",
    "                    output.append(a+b)\n",
    "                elif ele == '-':\n",
    "                    output.append(a-b)\n",
    "                elif ele == '*':\n",
    "                    output.append(a*b)\n",
    "                elif ele == '/' and b != 0:\n",
    "                    output.append(a/b)\n",
    "                else:\n",
    "                    raise\n",
    "            except:\n",
    "                output = 'Error'\n",
    "                break\n",
    "           \n",
    "    if output == 'Error':\n",
    "        outmat = 'Error'\n",
    "    else:\n",
    "        newdim = len(output)\n",
    "    \n",
    "        outmat = np.zeros((x.shape[0],newdim))\n",
    "        for ele in range(newdim):\n",
    "            outmat[:,ele] = output[ele]\n",
    "        \n",
    "    return outmat \n",
    "\n",
    "out_test = program_reader(program_test, x_test)\n",
    "print(out_test)"
   ]
  },
  {
   "cell_type": "markdown",
   "metadata": {},
   "source": [
    "We will now proceed to optimize the programs generated, trying to achieve the best possible classification. After having defined the parameters of the optimization, we follow the next steps:\n",
    "\n",
    "- We remove the \"worst\" individuals of the population, so we only keep the top 250 ones\n",
    "- We generate individuals until we obtain a complete population\n",
    "- We verify which of the programs are erroneous, and remove them from the population\n",
    "- We class each program according to its score with a Nearest Centroid classifier\n",
    "- We check if the maximum number of stall generations has been reached"
   ]
  },
  {
   "cell_type": "code",
   "execution_count": 22,
   "metadata": {},
   "outputs": [
    {
     "name": "stderr",
     "output_type": "stream",
     "text": [
      " 25%|███████████████████▍                                                          | 1244/5000 [03:54<11:47,  5.31it/s]"
     ]
    },
    {
     "name": "stdout",
     "output_type": "stream",
     "text": [
      "Reached max. number of stall generations\n",
      "Best program found: [2, 1, '*', 3, 0, '*', 0, 2, '*']\n"
     ]
    },
    {
     "name": "stderr",
     "output_type": "stream",
     "text": [
      "\n"
     ]
    }
   ],
   "source": [
    "from sklearn.neighbors import NearestCentroid\n",
    "from tqdm import tqdm\n",
    "\n",
    "max_generations = 2000\n",
    "population_size = 500\n",
    "population = []\n",
    "y = y.reshape((400,))\n",
    "\n",
    "stall = 0\n",
    "max_stall = 500\n",
    "last_best = []\n",
    "\n",
    "for gen in tqdm(range(max_generations)):\n",
    "    \n",
    "    # In each generation, we only retain the best 250 individuals\n",
    "    while len(population) > 0.5*population_size:\n",
    "        population.pop()\n",
    "    \n",
    "    # We complete the population up to 500 individuals\n",
    "    for ind in range(len(population), population_size):\n",
    "        population.append(program_generator(X.shape[1]))\n",
    "    \n",
    "    # We generate the output of each program, and identify wheteher or not it is an error\n",
    "    output = []\n",
    "    errors = []\n",
    "    for i in range(population_size):\n",
    "        output.append(program_reader(population[i], X))\n",
    "        if type(output[-1]) == str:\n",
    "            errors.append(i)\n",
    "\n",
    "    errors.reverse()        \n",
    "    \n",
    "    # We remove the erroneous programs from the population\n",
    "    for err in errors:\n",
    "        output.pop(err)\n",
    "        population.pop(err)\n",
    "        \n",
    "    # We use a Nearest-Centroid clasification to rank the programs    \n",
    "    score = []\n",
    "    for i in range(len(output)):\n",
    "        clf = NearestCentroid()\n",
    "        clf.fit(output[i], y)\n",
    "        score.append(clf.score(output[i],y))\n",
    "    \n",
    "    # We sort the programs according to their score\n",
    "    keys = sorted(range(len(score)), key=lambda k: score[k])\n",
    "    keys.reverse()\n",
    "    \n",
    "    population_ordered = []\n",
    "    for k in keys:\n",
    "        population_ordered.append(population[k])\n",
    "    population = population_ordered\n",
    "    \n",
    "    # We check if we have achieved the maximum number of stall generations\n",
    "    if population[0] == last_best:\n",
    "        stall += 1 \n",
    "        if stall == max_stall:\n",
    "            print(\"Reached max. number of stall generations\")\n",
    "            break\n",
    "    else:\n",
    "        last_best = population[0]\n",
    "        stall = 0\n",
    "    \n",
    "print(f\"Best program found: {population[0]}\")"
   ]
  },
  {
   "cell_type": "markdown",
   "metadata": {},
   "source": [
    "We have not obtained the program we would have expected. Nevertheless, this transformation may be good enough, since there may even be hidden interactions between the data we had not accounted for. In fact, if we check this classifier with the test data, we obtain the following confusion matrix:"
   ]
  },
  {
   "cell_type": "code",
   "execution_count": 24,
   "metadata": {},
   "outputs": [
    {
     "name": "stdout",
     "output_type": "stream",
     "text": [
      "Confusion matrix\n"
     ]
    },
    {
     "data": {
      "text/plain": [
       "<matplotlib.axes._subplots.AxesSubplot at 0x1e138a6e580>"
      ]
     },
     "execution_count": 24,
     "metadata": {},
     "output_type": "execute_result"
    },
    {
     "data": {
      "image/png": "[encoded data removed]",
      "text/plain": [
       "<Figure size 432x288 with 2 Axes>"
      ]
     },
     "metadata": {
      "needs_background": "light"
     },
     "output_type": "display_data"
    }
   ],
   "source": [
    "program = population[0]\n",
    "Xtest_trans = program_reader(program, Xtest)\n",
    "ytest = ytest.reshape((100,))\n",
    "ytest_pred = clf.predict(Xtest_trans)\n",
    "print(\"Confusion matrix\")\n",
    "cf_matrix = confusion_matrix(ytest, ytest_pred)\n",
    "sns.heatmap(cf_matrix, annot=True)"
   ]
  },
  {
   "cell_type": "markdown",
   "metadata": {},
   "source": [
    "Seeing these results, we may think that this classifier is worse than our neural network, but we must bear in mind that the performin NN was developped on the converted data. In order to compare the efficacity of the GA, we will run the transformed data over a NN, and see its performance."
   ]
  },
  {
   "cell_type": "code",
   "execution_count": 25,
   "metadata": {},
   "outputs": [],
   "source": [
    "transformation = population[0]"
   ]
  },
  {
   "cell_type": "code",
   "execution_count": 26,
   "metadata": {},
   "outputs": [],
   "source": [
    "X_decoded2 = X_trans\n",
    "Xval_decoded2 = program_reader(transformation, Xval)\n",
    "Xtest_decoded2 = program_reader(transformation, Xtest)"
   ]
  },
  {
   "cell_type": "code",
   "execution_count": 27,
   "metadata": {},
   "outputs": [],
   "source": [
    "X_decoded2_tensor, _ = data_to_tensor(X_decoded2,y)\n",
    "Xval_decoded2_tensor, _ = data_to_tensor(Xval_decoded2, yval)\n",
    "Xtest_decoded2_tensor, _ = data_to_tensor(Xtest_decoded2, ytest)"
   ]
  },
  {
   "cell_type": "code",
   "execution_count": 28,
   "metadata": {},
   "outputs": [
    {
     "name": "stderr",
     "output_type": "stream",
     "text": [
      "C:\\Users\\javie\\anaconda3\\lib\\site-packages\\torch\\tensor.py:447: UserWarning: non-inplace resize is deprecated\n",
      "  warnings.warn(\"non-inplace resize is deprecated\")\n"
     ]
    },
    {
     "name": "stdout",
     "output_type": "stream",
     "text": [
      "Epoch 00: train loss 27.83216, validation loss 13.72920\n",
      "Epoch 01: train loss 27.29847, validation loss 13.41602\n",
      "Epoch 02: train loss 26.75785, validation loss 13.08720\n",
      "Epoch 03: train loss 26.11572, validation loss 12.67835\n",
      "Epoch 04: train loss 25.23177, validation loss 12.15973\n",
      "Epoch 05: train loss 23.99309, validation loss 11.46396\n",
      "Epoch 06: train loss 22.28422, validation loss 10.51468\n",
      "Epoch 07: train loss 20.05694, validation loss 9.41738\n",
      "Epoch 08: train loss 17.63268, validation loss 8.32148\n",
      "Epoch 09: train loss 15.52175, validation loss 7.46687\n",
      "Epoch 10: train loss 13.95032, validation loss 6.79181\n",
      "Epoch 11: train loss 12.67846, validation loss 6.26090\n",
      "Epoch 12: train loss 11.64452, validation loss 5.76341\n",
      "Epoch 13: train loss 10.74911, validation loss 5.32533\n",
      "Epoch 14: train loss 9.91718, validation loss 4.96652\n",
      "Epoch 15: train loss 9.23527, validation loss 4.58652\n",
      "Epoch 16: train loss 8.62575, validation loss 4.31472\n",
      "Epoch 17: train loss 8.08903, validation loss 4.08464\n",
      "Epoch 18: train loss 7.71934, validation loss 3.85769\n",
      "Epoch 19: train loss 7.29104, validation loss 3.69129\n",
      "Epoch 20: train loss 6.99264, validation loss 3.57761\n",
      "Epoch 21: train loss 6.74099, validation loss 3.45781\n",
      "Epoch 22: train loss 6.53068, validation loss 3.35016\n",
      "Epoch 23: train loss 6.36004, validation loss 3.29029\n",
      "Epoch 24: train loss 6.19599, validation loss 3.22854\n",
      "Epoch 25: train loss 6.07778, validation loss 3.17375\n",
      "Epoch 26: train loss 5.96829, validation loss 3.15598\n",
      "Epoch 27: train loss 5.88545, validation loss 3.11497\n",
      "Epoch 28: train loss 5.81913, validation loss 3.08680\n",
      "Epoch 29: train loss 5.69318, validation loss 3.12067\n",
      "EarlyStopping counter: 1 / 5\n",
      "Epoch 30: train loss 5.64699, validation loss 3.02150\n",
      "Epoch 31: train loss 5.57572, validation loss 3.04989\n",
      "EarlyStopping counter: 1 / 5\n",
      "Epoch 32: train loss 5.50625, validation loss 2.98743\n",
      "Epoch 33: train loss 5.44031, validation loss 3.02504\n",
      "EarlyStopping counter: 1 / 5\n",
      "Epoch 34: train loss 5.42328, validation loss 2.94177\n",
      "Epoch 35: train loss 5.34694, validation loss 2.97459\n",
      "EarlyStopping counter: 1 / 5\n",
      "Epoch 36: train loss 5.28126, validation loss 2.98417\n",
      "EarlyStopping counter: 2 / 5\n",
      "Epoch 37: train loss 5.25004, validation loss 2.92627\n",
      "Epoch 38: train loss 5.23764, validation loss 2.93849\n",
      "EarlyStopping counter: 1 / 5\n",
      "Epoch 39: train loss 5.25226, validation loss 2.99134\n",
      "EarlyStopping counter: 2 / 5\n",
      "Epoch 40: train loss 5.19234, validation loss 2.91196\n",
      "Epoch 41: train loss 5.10356, validation loss 2.98497\n",
      "EarlyStopping counter: 1 / 5\n",
      "Epoch 42: train loss 5.08468, validation loss 2.90511\n",
      "Epoch 43: train loss 5.06308, validation loss 2.92750\n",
      "EarlyStopping counter: 1 / 5\n",
      "Epoch 44: train loss 5.03630, validation loss 2.87031\n",
      "Epoch 45: train loss 5.07288, validation loss 2.91661\n",
      "EarlyStopping counter: 1 / 5\n",
      "Epoch 46: train loss 4.96803, validation loss 2.85969\n",
      "Epoch 47: train loss 4.94916, validation loss 2.89957\n",
      "EarlyStopping counter: 1 / 5\n",
      "Epoch 48: train loss 4.92712, validation loss 2.93855\n",
      "EarlyStopping counter: 2 / 5\n",
      "Epoch 49: train loss 4.89931, validation loss 2.87694\n",
      "EarlyStopping counter: 3 / 5\n"
     ]
    },
    {
     "data": {
      "image/png": "[encoded data removed]",
      "text/plain": [
       "<Figure size 432x288 with 2 Axes>"
      ]
     },
     "metadata": {
      "needs_background": "light"
     },
     "output_type": "display_data"
    }
   ],
   "source": [
    "trainloader = torch.utils.data.DataLoader(range(400), batch_size=20, shuffle=True, num_workers=2)\n",
    "validloader = torch.utils.data.DataLoader(range(200), batch_size=20, shuffle=True, num_workers=2)\n",
    "criterion = nn.CrossEntropyLoss()\n",
    "net = SimpleNet(input_neurons = X_decoded2.shape[1])\n",
    "train_history, valid_history = train(net, X_decoded2_tensor, y_tensor, Xval_decoded2_tensor, yval_tensor)\n",
    "plot_train_val(train_history, valid_history)"
   ]
  },
  {
   "cell_type": "code",
   "execution_count": 29,
   "metadata": {},
   "outputs": [
    {
     "name": "stdout",
     "output_type": "stream",
     "text": [
      "Confusion matrix\n"
     ]
    },
    {
     "data": {
      "text/plain": [
       "<matplotlib.axes._subplots.AxesSubplot at 0x1e13065b1c0>"
      ]
     },
     "execution_count": 29,
     "metadata": {},
     "output_type": "execute_result"
    },
    {
     "data": {
      "image/png": "[encoded data removed]",
      "text/plain": [
       "<Figure size 432x288 with 2 Axes>"
      ]
     },
     "metadata": {
      "needs_background": "light"
     },
     "output_type": "display_data"
    }
   ],
   "source": [
    "y_pred = []\n",
    "outputs = net(Xtest_decoded2_tensor)\n",
    "for i in range(100):\n",
    "    y_pred.append(np.argmax(outputs[i,:].detach().numpy()))\n",
    "\n",
    "print(\"Confusion matrix\")\n",
    "cf_matrix = confusion_matrix(ytest, y_pred)\n",
    "sns.heatmap(cf_matrix, annot=True)"
   ]
  },
  {
   "cell_type": "markdown",
   "metadata": {},
   "source": [
    "We can easily see that we have improved the accuracy over the first NN classification. It may be true that the time spent to obtain these results can be higher than when simply using a neural network to classify the data, but is is also true that, after having transoformed the data, it becomes much easier to be learnt, hence reducing the risk the NN has to simply \"memorize\" the training data and not really learn the proper classification."
   ]
  },
  {
   "cell_type": "markdown",
   "metadata": {},
   "source": [
    "# Differences with the source article"
   ]
  },
  {
   "cell_type": "code",
   "execution_count": null,
   "metadata": {},
   "outputs": [],
   "source": []
  },
  {
   "cell_type": "markdown",
   "metadata": {},
   "source": [
    "# Possible applications"
   ]
  },
  {
   "cell_type": "code",
   "execution_count": null,
   "metadata": {},
   "outputs": [],
   "source": []
  },
  {
   "cell_type": "code",
   "execution_count": null,
   "metadata": {},
   "outputs": [],
   "source": []
  },
  {
   "cell_type": "code",
   "execution_count": 30,
   "metadata": {},
   "outputs": [],
   "source": [
    "# from sklearn.neural_network import MLPClassifier\n",
    "\n",
    "# y_onehot_array = y_onehot.numpy()\n",
    "# y_onehot_array\n",
    "\n",
    "# myNN = MLPClassifier(hidden_layer_sizes=(8,16,8))\n",
    "# myNN.fit(X, y_onehot_array)"
   ]
  },
  {
   "cell_type": "raw",
   "metadata": {},
   "source": [
    "# trainloader = torch.utils.data.DataLoader(range(200), batch_size=20, shuffle=True, num_workers=2)\n",
    "# criterion = nn.CrossEntropyLoss()\n",
    "# optimizer = torch.optim.SGD(net.parameters(), lr=0.001, momentum=0.9)\n",
    "# train_loss = 0.0\n",
    "# for i, data in enumerate(trainloader, 0):\n",
    "#     # get the inputs; data is a list of [inputs, labels]\n",
    "#     inputs = X_tensor[data, :]\n",
    "#     print(inputs)\n",
    "#     labels = y_tensor[data, :].resize(20)\n",
    "#     print(labels)\n",
    "#     # zero the parameter gradients\n",
    "#     optimizer.zero_grad()\n",
    "#     # forward + backward + optimize\n",
    "#     outputs = net(inputs)\n",
    "#     print(outputs)\n",
    "#     loss = criterion(outputs, labels)\n",
    "#     print(loss)\n",
    "#     print(type(loss))\n",
    "#     loss.backward()\n",
    "#     optimizer.step()\n",
    "#     train_loss += loss.item()"
   ]
  },
  {
   "cell_type": "code",
   "execution_count": null,
   "metadata": {},
   "outputs": [],
   "source": []
  }
 ],
 "metadata": {
  "kernelspec": {
   "display_name": "Python 3",
   "language": "python",
   "name": "python3"
  },
  "language_info": {
   "codemirror_mode": {
    "name": "ipython",
    "version": 3
   },
   "file_extension": ".py",
   "mimetype": "text/x-python",
   "name": "python",
   "nbconvert_exporter": "python",
   "pygments_lexer": "ipython3",
   "version": "3.8.3"
  }
 },
 "nbformat": 4,
 "nbformat_minor": 4
}
