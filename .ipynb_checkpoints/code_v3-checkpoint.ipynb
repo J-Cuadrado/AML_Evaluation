{
 "cells": [
  {
   "cell_type": "markdown",
   "metadata": {},
   "source": [
    "# Algorithms in Machine Learning\n",
    "## Student: Javier CUADRADO ANÍBARRO\n",
    "\n",
    "The present notebook can be also found in https://github.com/J-Cuadrado/AML_Evaluation"
   ]
  },
  {
   "cell_type": "markdown",
   "metadata": {},
   "source": [
    "# Introduction\n",
    "\n",
    "The aim of this notebook is to present the possible advantages of multidimensional genetic programming for multiclass classification, comparing it to other most common classification methods such as neural networks. The source article for this notebook can be found in the following link:\n",
    "\n",
    "https://www.sciencedirect.com/science/article/pii/S2210650217309136"
   ]
  },
  {
   "cell_type": "markdown",
   "metadata": {},
   "source": [
    "# Data generation"
   ]
  },
  {
   "cell_type": "markdown",
   "metadata": {},
   "source": [
    "We are going to begin by creating the data with which we will work. Our data will consist of a set of $\\mathbb{R}^4$ points obtained the following way:\n",
    "\n",
    "$$\\left\\{\\begin{array}{ll} x_1 \\cdot x_3 - x_2 \\cdot x_4 & = A \\\\ x_1 \\cdot x_4 - x_2 \\cdot x_3 & = B\\end{array}\\right.$$\n",
    "\n",
    "Of course, the generation of the poins will be noisy, so the relationship between the values will not exactly add A or B, but something in between."
   ]
  },
  {
   "cell_type": "code",
   "execution_count": 1,
   "metadata": {},
   "outputs": [],
   "source": [
    "import numpy as np"
   ]
  },
  {
   "cell_type": "code",
   "execution_count": 2,
   "metadata": {},
   "outputs": [],
   "source": [
    "def generate_point(A,B,attenuation=10):\n",
    "    x1 = np.random.uniform(-5,5)\n",
    "    x2 = np.random.uniform(-5,5)\n",
    "    x3 = (x1*A+x2*B)/(x1**2+x2**2)\n",
    "    x4 = (x1*B-x2*A)/(x1**2+x2**2)\n",
    "    x = [x1, x2, x3, x4] + np.random.randn(1,4)/attenuation\n",
    "    x = np.float32(x)\n",
    "    return x[0,:]"
   ]
  },
  {
   "cell_type": "code",
   "execution_count": 3,
   "metadata": {},
   "outputs": [],
   "source": [
    "def decode(x):\n",
    "    A = x[0]*x[2]-x[1]*x[3]\n",
    "    B = x[0]*x[3]+x[1]*x[2]\n",
    "    return [A, B]"
   ]
  },
  {
   "cell_type": "code",
   "execution_count": 4,
   "metadata": {},
   "outputs": [
    {
     "name": "stdout",
     "output_type": "stream",
     "text": [
      "[-1.7738336 -0.4528562 -3.4244022 -2.1933873]\n"
     ]
    }
   ],
   "source": [
    "x_test = generate_point(5,5)\n",
    "print(x_test)"
   ]
  },
  {
   "cell_type": "code",
   "execution_count": 5,
   "metadata": {},
   "outputs": [
    {
     "data": {
      "text/plain": [
       "[5.081031, 5.441466]"
      ]
     },
     "execution_count": 5,
     "metadata": {},
     "output_type": "execute_result"
    }
   ],
   "source": [
    "decode(x_test)"
   ]
  },
  {
   "cell_type": "code",
   "execution_count": 6,
   "metadata": {},
   "outputs": [],
   "source": [
    "from sklearn.utils import shuffle\n",
    "\n",
    "def generate_data(points_per_cat):\n",
    "    X = np.zeros((4*points_per_cat,4))\n",
    "    y = np.zeros((4*points_per_cat,1))\n",
    "\n",
    "    for i in range(points_per_cat):\n",
    "        X[i,:] = generate_point(0,0)\n",
    "        y[i,:] = 0\n",
    "    \n",
    "    for i in range(points_per_cat, 2*points_per_cat):\n",
    "        X[i,:] = generate_point(0,5)\n",
    "        y[i,:] = 1\n",
    "\n",
    "    for i in range(2*points_per_cat, 3*points_per_cat):    \n",
    "        X[i,:] = generate_point(5,0)\n",
    "        y[i,:] = 2\n",
    "\n",
    "    for i in range(3*points_per_cat, 4*points_per_cat):\n",
    "        X[i,:] = generate_point(5,5)\n",
    "        y[i,:] = 3\n",
    "    \n",
    "    X, y = shuffle(X, y)\n",
    "    \n",
    "    return X, y\n",
    "\n",
    "X, y = generate_data(100)\n",
    "Xval, yval = generate_data(50)\n",
    "Xtest, ytest = generate_data(25)"
   ]
  },
  {
   "cell_type": "markdown",
   "metadata": {},
   "source": [
    "## Data to tensor\n",
    "\n",
    "In order to work with pytorch, we convert our numpy arrays into pytorch tensors."
   ]
  },
  {
   "cell_type": "code",
   "execution_count": 7,
   "metadata": {},
   "outputs": [],
   "source": [
    "import torch\n",
    "import torchvision\n",
    "\n",
    "%matplotlib inline\n",
    "import matplotlib.pyplot as plt"
   ]
  },
  {
   "cell_type": "code",
   "execution_count": 8,
   "metadata": {},
   "outputs": [],
   "source": [
    "def data_to_tensor(X,y):\n",
    "    X_tensor = torch.from_numpy(X).float()\n",
    "    y_tensor = torch.from_numpy(y).long()\n",
    "    \n",
    "    return X_tensor, y_tensor\n",
    "\n",
    "X_tensor, y_tensor = data_to_tensor(X,y)\n",
    "Xval_tensor, yval_tensor = data_to_tensor(Xval, yval)\n",
    "Xtest_tensor, ytest_tensor = data_to_tensor(Xtest, ytest)\n"
   ]
  },
  {
   "cell_type": "markdown",
   "metadata": {},
   "source": [
    "# Neural network on raw data"
   ]
  },
  {
   "cell_type": "markdown",
   "metadata": {},
   "source": [
    "## Architecture \n",
    "\n",
    "We proceed now to the classification of the generated data with our neural network. We have defined a 3-hidden-layer architecture, each of the hidden layers with 10 neurons and a ReLU activation"
   ]
  },
  {
   "cell_type": "code",
   "execution_count": 9,
   "metadata": {},
   "outputs": [],
   "source": [
    "from torch import nn\n",
    "import torch.nn.functional as F\n",
    "\n",
    "class SimpleNet(nn.Module):\n",
    "    def __init__(self, input_neurons = 4):\n",
    "        super(SimpleNet, self).__init__()\n",
    "        self.input_neurons = input_neurons\n",
    "        self.fc1 = nn.Linear(self.input_neurons, 10)\n",
    "        self.fc2 = nn.Linear(10, 10)\n",
    "        self.fc3 = nn.Linear(10, 10)\n",
    "        self.fc4 = nn.Linear(10, 4)\n",
    "\n",
    "    def forward(self, x):\n",
    "        x = x.view(-1, self.input_neurons)\n",
    "        x = self.fc1(x)\n",
    "        x = F.relu(x)\n",
    "        x = self.fc2(x)\n",
    "        x = F.relu(x)\n",
    "        x = self.fc3(x)\n",
    "        x = F.relu(x)\n",
    "        x = self.fc4(x)\n",
    "        return x\n",
    "    \n",
    "net = SimpleNet()"
   ]
  },
  {
   "cell_type": "markdown",
   "metadata": {},
   "source": [
    "## Training\n",
    "\n",
    "For the training of the NN, we will use a batch size of 20 both for the training and the validation sets. Furthermore, a maximum of 50 epochs will be allowed, with an ealy stopping patience of 5 epochs."
   ]
  },
  {
   "cell_type": "code",
   "execution_count": 10,
   "metadata": {},
   "outputs": [],
   "source": [
    "class EarlyStopping:\n",
    "    \n",
    "    def __init__(self, patience=5, delta=0):\n",
    "        self.patience = patience\n",
    "        self.counter = 0\n",
    "        self.best_score = None\n",
    "        self.delta = delta\n",
    "        self.early_stop = False\n",
    "\n",
    "    def step(self, val_loss):\n",
    "        score = -val_loss\n",
    "        if self.best_score is None:\n",
    "            self.best_score = score\n",
    "        elif score < self.best_score + self.delta:\n",
    "            self.counter += 1\n",
    "            print('EarlyStopping counter: %d / %d' % (self.counter, self.patience))\n",
    "            if self.counter >= self.patience:\n",
    "                self.early_stop = True\n",
    "        else:\n",
    "            self.best_score = score\n",
    "            self.counter = 0"
   ]
  },
  {
   "cell_type": "code",
   "execution_count": 11,
   "metadata": {},
   "outputs": [],
   "source": [
    "def validation(net, Xval_tensor, yval_tensor):\n",
    "    valid_loss = 0\n",
    "    with torch.no_grad():\n",
    "        for data in validloader:\n",
    "            inputs = Xval_tensor[data, :]\n",
    "            labels = yval_tensor[data, :].resize(20)\n",
    "            outputs = net(inputs)\n",
    "            loss = criterion(outputs, labels)\n",
    "            valid_loss += loss.item()\n",
    "    return valid_loss\n",
    "\n",
    "def train(net,X_tensor, y_tensor, X_validation, y_validation, earlystopping=True):\n",
    "#     optimizer = torch.optim.SGD(net.parameters(), lr=0.1, momentum=0.9)\n",
    "    optimizer = torch.optim.Adam(net.parameters())\n",
    "    train_history = []\n",
    "    valid_history = []\n",
    "    estop = EarlyStopping(patience=5)\n",
    "    for epoch in range(50):\n",
    "        train_loss = 0.0\n",
    "        for i, data in enumerate(trainloader, 0):\n",
    "            # get the inputs; data is a list of [inputs, labels]\n",
    "            inputs = X_tensor[data, :]\n",
    "            labels = y_tensor[data, :].resize(20)\n",
    "            # zero the parameter gradients\n",
    "            optimizer.zero_grad()\n",
    "            # forward + backward + optimize\n",
    "            outputs = net(inputs)\n",
    "            loss = criterion(outputs, labels)\n",
    "            loss.backward()\n",
    "            optimizer.step()\n",
    "            train_loss += loss.item()\n",
    "        valid_loss = validation(net, X_validation, y_validation)\n",
    "        train_history.append(train_loss)\n",
    "        valid_history.append(valid_loss)\n",
    "        print('Epoch %02d: train loss %0.5f, validation loss %0.5f' % (epoch, train_loss, valid_loss))\n",
    "        estop.step(valid_loss)\n",
    "        if earlystopping and estop.early_stop:\n",
    "            break\n",
    "    return train_history, valid_history"
   ]
  },
  {
   "cell_type": "code",
   "execution_count": 12,
   "metadata": {},
   "outputs": [],
   "source": [
    "def plot_train_val(train, valid):\n",
    "    fig, ax1 = plt.subplots()\n",
    "    color = 'tab:red'\n",
    "    ax1.set_ylabel('Training', color=color)\n",
    "    ax1.plot(train, color=color)\n",
    "    ax2 = ax1.twinx()\n",
    "    color = 'tab:blue'\n",
    "    ax2.set_ylabel('Validation', color=color)\n",
    "    ax2.plot(valid, color=color)\n",
    "    fig.tight_layout()"
   ]
  },
  {
   "cell_type": "code",
   "execution_count": 13,
   "metadata": {},
   "outputs": [
    {
     "name": "stderr",
     "output_type": "stream",
     "text": [
      "C:\\Users\\javie\\anaconda3\\lib\\site-packages\\torch\\tensor.py:447: UserWarning: non-inplace resize is deprecated\n",
      "  warnings.warn(\"non-inplace resize is deprecated\")\n"
     ]
    },
    {
     "name": "stdout",
     "output_type": "stream",
     "text": [
      "Epoch 00: train loss 28.15775, validation loss 14.05657\n",
      "Epoch 01: train loss 28.03668, validation loss 14.03267\n",
      "Epoch 02: train loss 27.92943, validation loss 14.01750\n",
      "Epoch 03: train loss 27.83650, validation loss 13.99076\n",
      "Epoch 04: train loss 27.71853, validation loss 13.97128\n",
      "Epoch 05: train loss 27.56875, validation loss 13.93193\n",
      "Epoch 06: train loss 27.39722, validation loss 13.88355\n",
      "Epoch 07: train loss 27.20585, validation loss 13.82705\n",
      "Epoch 08: train loss 27.00915, validation loss 13.76923\n",
      "Epoch 09: train loss 26.80912, validation loss 13.71129\n",
      "Epoch 10: train loss 26.58676, validation loss 13.63705\n",
      "Epoch 11: train loss 26.36917, validation loss 13.56358\n",
      "Epoch 12: train loss 26.11937, validation loss 13.44738\n",
      "Epoch 13: train loss 25.82313, validation loss 13.31882\n",
      "Epoch 14: train loss 25.53315, validation loss 13.15664\n",
      "Epoch 15: train loss 25.21062, validation loss 13.01052\n",
      "Epoch 16: train loss 24.83180, validation loss 12.85722\n",
      "Epoch 17: train loss 24.42167, validation loss 12.63573\n",
      "Epoch 18: train loss 24.01577, validation loss 12.43421\n",
      "Epoch 19: train loss 23.59332, validation loss 12.23508\n",
      "Epoch 20: train loss 23.16319, validation loss 12.03593\n",
      "Epoch 21: train loss 22.71758, validation loss 11.82194\n",
      "Epoch 22: train loss 22.31692, validation loss 11.67108\n",
      "Epoch 23: train loss 21.91842, validation loss 11.45470\n",
      "Epoch 24: train loss 21.48756, validation loss 11.25848\n",
      "Epoch 25: train loss 21.07295, validation loss 11.04413\n",
      "Epoch 26: train loss 20.56476, validation loss 10.80647\n",
      "Epoch 27: train loss 19.98026, validation loss 10.54903\n",
      "Epoch 28: train loss 19.53514, validation loss 10.32052\n",
      "Epoch 29: train loss 18.93464, validation loss 9.98657\n",
      "Epoch 30: train loss 18.43480, validation loss 9.74705\n",
      "Epoch 31: train loss 18.02360, validation loss 9.51838\n",
      "Epoch 32: train loss 17.53557, validation loss 9.43009\n",
      "Epoch 33: train loss 17.08992, validation loss 8.96977\n",
      "Epoch 34: train loss 16.66951, validation loss 8.81748\n",
      "Epoch 35: train loss 16.13240, validation loss 8.51045\n",
      "Epoch 36: train loss 15.70856, validation loss 8.36974\n",
      "Epoch 37: train loss 15.34519, validation loss 8.12086\n",
      "Epoch 38: train loss 14.84467, validation loss 7.83186\n",
      "Epoch 39: train loss 14.44588, validation loss 7.55555\n",
      "Epoch 40: train loss 14.02080, validation loss 7.38740\n",
      "Epoch 41: train loss 13.72160, validation loss 7.21792\n",
      "Epoch 42: train loss 13.32807, validation loss 6.88257\n",
      "Epoch 43: train loss 12.90295, validation loss 6.79302\n",
      "Epoch 44: train loss 12.69525, validation loss 6.61447\n",
      "Epoch 45: train loss 12.26129, validation loss 6.39095\n",
      "Epoch 46: train loss 12.00731, validation loss 6.15589\n",
      "Epoch 47: train loss 11.73242, validation loss 6.14224\n",
      "Epoch 48: train loss 11.32978, validation loss 5.84946\n",
      "Epoch 49: train loss 10.87440, validation loss 5.70981\n"
     ]
    },
    {
     "data": {
      "image/png": "[encoded data removed]",
      "text/plain": [
       "<Figure size 432x288 with 2 Axes>"
      ]
     },
     "metadata": {
      "needs_background": "light"
     },
     "output_type": "display_data"
    }
   ],
   "source": [
    "trainloader = torch.utils.data.DataLoader(range(400), batch_size=20, shuffle=True, num_workers=2)\n",
    "validloader = torch.utils.data.DataLoader(range(200), batch_size=20, shuffle=True, num_workers=2)\n",
    "criterion = nn.CrossEntropyLoss()\n",
    "net = SimpleNet()\n",
    "train_history, valid_history = train(net, X_tensor, y_tensor, Xval_tensor, yval_tensor)\n",
    "plot_train_val(train_history, valid_history)"
   ]
  },
  {
   "cell_type": "code",
   "execution_count": 14,
   "metadata": {},
   "outputs": [
    {
     "name": "stdout",
     "output_type": "stream",
     "text": [
      "Confusion matrix\n"
     ]
    },
    {
     "data": {
      "text/plain": [
       "<matplotlib.axes._subplots.AxesSubplot at 0x1f5a13af910>"
      ]
     },
     "execution_count": 14,
     "metadata": {},
     "output_type": "execute_result"
    },
    {
     "data": {
      "image/png": "[encoded data removed]",
      "text/plain": [
       "<Figure size 432x288 with 2 Axes>"
      ]
     },
     "metadata": {
      "needs_background": "light"
     },
     "output_type": "display_data"
    }
   ],
   "source": [
    "from sklearn.metrics import confusion_matrix\n",
    "import seaborn as sns\n",
    "\n",
    "y_pred = []\n",
    "outputs = net(Xtest_tensor)\n",
    "for i in range(100):\n",
    "    y_pred.append(np.argmax(outputs[i,:].detach().numpy()))\n",
    "\n",
    "print(\"Confusion matrix\")\n",
    "cf_matrix = confusion_matrix(ytest, y_pred)\n",
    "sns.heatmap(cf_matrix, annot=True)"
   ]
  },
  {
   "cell_type": "markdown",
   "metadata": {},
   "source": [
    "We can see that our NN is reasonably accurate. The discrepancies between the true data and the predicted values come from the noise introduced in data generation (lower noise yields higher accuracies), as well as the low number of epochs. However, a longer training may lead to overfitting, since the neural network may simply end up by learning the noise as a value, a detrimental feature for our intended goal."
   ]
  },
  {
   "cell_type": "markdown",
   "metadata": {},
   "source": [
    "# Neural network on transformed data\n",
    "\n",
    "We proceed now to perform the same analysis on the decoded dataset"
   ]
  },
  {
   "cell_type": "code",
   "execution_count": 15,
   "metadata": {},
   "outputs": [],
   "source": [
    "X_decoded = torch.zeros([400, 2], dtype=torch.float)\n",
    "for i in range(400):\n",
    "    X_decoded[i,:] = torch.FloatTensor(decode(X_tensor[i,:]))\n",
    "    \n",
    "Xval_decoded = torch.zeros([200, 2], dtype=torch.float)\n",
    "for i in range(200):\n",
    "    Xval_decoded[i,:] = torch.FloatTensor(decode(Xval_tensor[i,:]))\n",
    "    \n",
    "Xtest_decoded = torch.zeros([100, 2], dtype=torch.float)\n",
    "for i in range(100):\n",
    "    Xtest_decoded[i,:] = torch.FloatTensor(decode(Xtest_tensor[i,:]))"
   ]
  },
  {
   "cell_type": "code",
   "execution_count": 16,
   "metadata": {},
   "outputs": [
    {
     "name": "stderr",
     "output_type": "stream",
     "text": [
      "C:\\Users\\javie\\anaconda3\\lib\\site-packages\\torch\\tensor.py:447: UserWarning: non-inplace resize is deprecated\n",
      "  warnings.warn(\"non-inplace resize is deprecated\")\n"
     ]
    },
    {
     "name": "stdout",
     "output_type": "stream",
     "text": [
      "Epoch 00: train loss 28.19034, validation loss 13.68203\n",
      "Epoch 01: train loss 26.66126, validation loss 12.84823\n",
      "Epoch 02: train loss 24.76710, validation loss 11.80764\n",
      "Epoch 03: train loss 22.37277, validation loss 10.45559\n",
      "Epoch 04: train loss 19.44628, validation loss 8.87686\n",
      "Epoch 05: train loss 16.29326, validation loss 7.30902\n",
      "Epoch 06: train loss 13.33362, validation loss 6.05179\n",
      "Epoch 07: train loss 11.14188, validation loss 5.09491\n",
      "Epoch 08: train loss 9.49212, validation loss 4.39535\n",
      "Epoch 09: train loss 8.29105, validation loss 3.87942\n",
      "Epoch 10: train loss 7.40424, validation loss 3.49618\n",
      "Epoch 11: train loss 6.74522, validation loss 3.20516\n",
      "Epoch 12: train loss 6.24008, validation loss 2.97451\n",
      "Epoch 13: train loss 5.82428, validation loss 2.78220\n",
      "Epoch 14: train loss 5.46516, validation loss 2.60938\n",
      "Epoch 15: train loss 5.14182, validation loss 2.45121\n",
      "Epoch 16: train loss 4.83998, validation loss 2.30136\n",
      "Epoch 17: train loss 4.54456, validation loss 2.15459\n",
      "Epoch 18: train loss 4.25531, validation loss 2.00583\n",
      "Epoch 19: train loss 3.95130, validation loss 1.86252\n",
      "Epoch 20: train loss 3.65339, validation loss 1.70470\n",
      "Epoch 21: train loss 3.33379, validation loss 1.54911\n",
      "Epoch 22: train loss 3.01741, validation loss 1.38171\n",
      "Epoch 23: train loss 2.69008, validation loss 1.21189\n",
      "Epoch 24: train loss 2.35156, validation loss 1.05499\n",
      "Epoch 25: train loss 2.02867, validation loss 0.89784\n",
      "Epoch 26: train loss 1.72859, validation loss 0.74734\n",
      "Epoch 27: train loss 1.43731, validation loss 0.61690\n",
      "Epoch 28: train loss 1.18878, validation loss 0.50639\n",
      "Epoch 29: train loss 0.98476, validation loss 0.41333\n",
      "Epoch 30: train loss 0.80627, validation loss 0.33430\n",
      "Epoch 31: train loss 0.66169, validation loss 0.27698\n",
      "Epoch 32: train loss 0.54814, validation loss 0.22781\n",
      "Epoch 33: train loss 0.45988, validation loss 0.18902\n",
      "Epoch 34: train loss 0.39360, validation loss 0.16154\n",
      "Epoch 35: train loss 0.33353, validation loss 0.13528\n",
      "Epoch 36: train loss 0.29338, validation loss 0.11412\n",
      "Epoch 37: train loss 0.25326, validation loss 0.10444\n",
      "Epoch 38: train loss 0.22752, validation loss 0.09081\n",
      "Epoch 39: train loss 0.20228, validation loss 0.08168\n",
      "Epoch 40: train loss 0.18203, validation loss 0.07368\n",
      "Epoch 41: train loss 0.16973, validation loss 0.06314\n",
      "Epoch 42: train loss 0.15201, validation loss 0.05940\n",
      "Epoch 43: train loss 0.14008, validation loss 0.05433\n",
      "Epoch 44: train loss 0.13049, validation loss 0.05227\n",
      "Epoch 45: train loss 0.12111, validation loss 0.04614\n",
      "Epoch 46: train loss 0.11605, validation loss 0.04477\n",
      "Epoch 47: train loss 0.10620, validation loss 0.03999\n",
      "Epoch 48: train loss 0.09890, validation loss 0.03682\n",
      "Epoch 49: train loss 0.09255, validation loss 0.03521\n"
     ]
    },
    {
     "data": {
      "image/png": "[encoded data removed]",
      "text/plain": [
       "<Figure size 432x288 with 2 Axes>"
      ]
     },
     "metadata": {
      "needs_background": "light"
     },
     "output_type": "display_data"
    }
   ],
   "source": [
    "trainloader = torch.utils.data.DataLoader(range(400), batch_size=20, shuffle=True, num_workers=2)\n",
    "validloader = torch.utils.data.DataLoader(range(200), batch_size=20, shuffle=True, num_workers=2)\n",
    "criterion = nn.CrossEntropyLoss()\n",
    "net = SimpleNet(input_neurons = 2)\n",
    "train_history, valid_history = train(net, X_decoded, y_tensor, Xval_decoded, yval_tensor)\n",
    "plot_train_val(train_history, valid_history)"
   ]
  },
  {
   "cell_type": "code",
   "execution_count": 17,
   "metadata": {},
   "outputs": [
    {
     "name": "stdout",
     "output_type": "stream",
     "text": [
      "Confusion matrix\n"
     ]
    },
    {
     "data": {
      "text/plain": [
       "<matplotlib.axes._subplots.AxesSubplot at 0x1f5a1621190>"
      ]
     },
     "execution_count": 17,
     "metadata": {},
     "output_type": "execute_result"
    },
    {
     "data": {
      "image/png": "[encoded data removed]",
      "text/plain": [
       "<Figure size 432x288 with 2 Axes>"
      ]
     },
     "metadata": {
      "needs_background": "light"
     },
     "output_type": "display_data"
    }
   ],
   "source": [
    "y_pred = []\n",
    "outputs = net(Xtest_decoded)\n",
    "for i in range(100):\n",
    "    y_pred.append(np.argmax(outputs[i,:].detach().numpy()))\n",
    "\n",
    "print(\"Confusion matrix\")\n",
    "cf_matrix = confusion_matrix(ytest, y_pred)\n",
    "sns.heatmap(cf_matrix, annot=True)"
   ]
  },
  {
   "cell_type": "markdown",
   "metadata": {},
   "source": [
    "As expected, the decoded dataset perfoms better than the raw one, being able to mitigate the noise influence on the classification. However, we have cheated on this analysis, since we knew the decoding algorithm prior to making the data classification. In real life, the data decoding may not be known, so we should be able to find a way to learn it."
   ]
  },
  {
   "cell_type": "markdown",
   "metadata": {},
   "source": [
    "# Genetic Programming"
   ]
  },
  {
   "cell_type": "code",
   "execution_count": 18,
   "metadata": {},
   "outputs": [
    {
     "name": "stdout",
     "output_type": "stream",
     "text": [
      "[0, 3, '-']\n"
     ]
    }
   ],
   "source": [
    "import random\n",
    "\n",
    "x = np.array([[1, 2, 3, 4, 5], [1, 2, 3, 4, 5]])\n",
    "data_len = x.shape[1]\n",
    "\n",
    "def program_generator(data_len):\n",
    "    program_len = random.randint(2,20)\n",
    "    \n",
    "    program = []\n",
    "    \n",
    "    \n",
    "    values = [i for i in range(data_len)]\n",
    "    \n",
    "    program.append(random.choice(values))\n",
    "    program.append(random.choice(values))\n",
    "\n",
    "    values.append('+')\n",
    "    values.append('-')\n",
    "    values.append('*')\n",
    "    values.append('/')\n",
    "    \n",
    "    for i in range(2,program_len):\n",
    "        program.append(random.choice(values))\n",
    "    \n",
    "    return program\n",
    "\n",
    "program = program_generator(data_len)\n",
    "print(program)   \n",
    "\n"
   ]
  },
  {
   "cell_type": "markdown",
   "metadata": {},
   "source": [
    "program = $[0, 2, '*', 1, 3, '*', '-', 0, 3, '*', 1, 2, '*', '+']$"
   ]
  },
  {
   "cell_type": "code",
   "execution_count": 19,
   "metadata": {},
   "outputs": [],
   "source": [
    "def program_reader(program, x):\n",
    "    output = []\n",
    "    for ele in program:\n",
    "        if type(ele) == int:\n",
    "            output.append(x[:,ele])\n",
    "        else:\n",
    "            try:\n",
    "                b = output.pop()\n",
    "                a = output.pop()\n",
    "                if ele == '+':\n",
    "                    output.append(a+b)\n",
    "                elif ele == '-':\n",
    "                    output.append(a-b)\n",
    "                elif ele == '*':\n",
    "                    output.append(a*b)\n",
    "                elif ele == '/' and b != 0:\n",
    "                    output.append(a/b)\n",
    "                else:\n",
    "                    raise\n",
    "            except:\n",
    "                output = 'Error'\n",
    "                break\n",
    "           \n",
    "    if output == 'Error':\n",
    "        outmat = 'Error'\n",
    "    else:\n",
    "        newdim = len(output)\n",
    "    \n",
    "        outmat = np.zeros((x.shape[0],newdim))\n",
    "        for ele in range(newdim):\n",
    "            outmat[:,ele] = output[ele]\n",
    "        \n",
    "    return outmat "
   ]
  },
  {
   "cell_type": "code",
   "execution_count": null,
   "metadata": {},
   "outputs": [],
   "source": []
  },
  {
   "cell_type": "code",
   "execution_count": null,
   "metadata": {},
   "outputs": [],
   "source": []
  },
  {
   "cell_type": "code",
   "execution_count": 20,
   "metadata": {},
   "outputs": [],
   "source": [
    "population_size = 50\n",
    "population = []\n",
    "errors = []\n",
    "\n",
    "x = np.array([[1, 2, 3, 4, 5], [1, 2, 3, 4, 5]])\n",
    "\n",
    "for i in range(population_size):\n",
    "    population.append(program_generator(data_len))"
   ]
  },
  {
   "cell_type": "code",
   "execution_count": 21,
   "metadata": {},
   "outputs": [],
   "source": [
    "output = []\n",
    "for i in range(population_size):\n",
    "    output.append(program_reader(population[i], x))\n",
    "    if type(output[-1]) == str:\n",
    "        errors.append(i)\n",
    "\n",
    "errors.reverse()        \n",
    "\n",
    "for err in errors:\n",
    "    output.pop(err)\n",
    "    population.pop(err)"
   ]
  },
  {
   "cell_type": "code",
   "execution_count": 22,
   "metadata": {},
   "outputs": [
    {
     "data": {
      "text/plain": [
       "[[2, 0],\n",
       " [4, 4, '-'],\n",
       " [4, 2, '*', 4, 2, '*', '*', 3, '+', 3],\n",
       " [0, 4],\n",
       " [4, 1],\n",
       " [4, 4, 1, 3],\n",
       " [3, 1, 0, '*', 3],\n",
       " [3, 0, 2, 0, '*', '+'],\n",
       " [0, 2, 4, '*', 3, 1, 0, 2, '+', 2, 1, 1, 1, 1, '+', 1, '-', '+', '*', '+'],\n",
       " [0, 3, '+', 1, 1, 3],\n",
       " [2, 3, 2, '*', 2, '+'],\n",
       " [4, 2, 0, '-', 2, 0, 1, '+', '+', '-', 4, '*', 3, '*', 0, 1],\n",
       " [4, 4, 4],\n",
       " [0, 3, 3, '-', 0, 4, '-', '-'],\n",
       " [4, 2, 1],\n",
       " [0, 2, 3, '+', 4, 4],\n",
       " [4, 0, '*', 3, 3, 3, 3, '+', 4, 1],\n",
       " [3, 2, '*', 0, 3, '-', '+', 0, 1, 4, 0],\n",
       " [4, 3, 2, 0, 3, '-', 2, '-', '-', '-', 3, '-'],\n",
       " [4, 4, '-', 4, 4, '-', 4, '*', 2, '+']]"
      ]
     },
     "execution_count": 22,
     "metadata": {},
     "output_type": "execute_result"
    }
   ],
   "source": [
    "population"
   ]
  },
  {
   "cell_type": "code",
   "execution_count": 23,
   "metadata": {},
   "outputs": [
    {
     "name": "stderr",
     "output_type": "stream",
     "text": [
      " 17%|█████████████▊                                                                 | 872/5000 [02:51<13:29,  5.10it/s]"
     ]
    },
    {
     "name": "stdout",
     "output_type": "stream",
     "text": [
      "Reached max. number of stall generations\n",
      "[1, 3, '*', 3, 1, 2, '*', 0, 1, 0, 2, 0, '*']\n"
     ]
    },
    {
     "name": "stderr",
     "output_type": "stream",
     "text": [
      "\n"
     ]
    }
   ],
   "source": [
    "from sklearn.neighbors import NearestCentroid\n",
    "from tqdm import tqdm\n",
    "\n",
    "max_generations = 5000\n",
    "population_size = 500\n",
    "population = []\n",
    "y = y.reshape((400,))\n",
    "\n",
    "stall = 0\n",
    "max_stall = 500\n",
    "last_best = []\n",
    "\n",
    "for gen in tqdm(range(max_generations)):\n",
    "    \n",
    "    while len(population) > 0.5*population_size:\n",
    "        population.pop()\n",
    "    \n",
    "    for ind in range(len(population), population_size):\n",
    "        population.append(program_generator(X.shape[1]))\n",
    "        \n",
    "    output = []\n",
    "    errors = []\n",
    "    for i in range(population_size):\n",
    "        output.append(program_reader(population[i], X))\n",
    "        if type(output[-1]) == str:\n",
    "            errors.append(i)\n",
    "\n",
    "    errors.reverse()        \n",
    "\n",
    "    for err in errors:\n",
    "        output.pop(err)\n",
    "        population.pop(err)\n",
    "        \n",
    "    score = []\n",
    "    for i in range(len(output)):\n",
    "        clf = NearestCentroid()\n",
    "        clf.fit(output[i], y)\n",
    "#         y_pred = clf.predict(output[i])\n",
    "        score.append(clf.score(output[i],y))\n",
    "    \n",
    "    keys = sorted(range(len(score)), key=lambda k: score[k])\n",
    "    keys.reverse()\n",
    "    \n",
    "    population_ordered = []\n",
    "    for k in keys:\n",
    "        population_ordered.append(population[k])\n",
    "    population = population_ordered\n",
    "    \n",
    "    if population[0] == last_best:\n",
    "        stall += 1 \n",
    "        if stall == max_stall:\n",
    "            print(\"Reached max. number of stall generations\")\n",
    "            break\n",
    "    else:\n",
    "        last_best = population[0]\n",
    "        stall = 0\n",
    "    \n",
    "print(population[0])"
   ]
  },
  {
   "cell_type": "code",
   "execution_count": 24,
   "metadata": {},
   "outputs": [
    {
     "name": "stdout",
     "output_type": "stream",
     "text": [
      "Confusion matrix\n"
     ]
    },
    {
     "data": {
      "text/plain": [
       "<matplotlib.axes._subplots.AxesSubplot at 0x1f5a160ebe0>"
      ]
     },
     "execution_count": 24,
     "metadata": {},
     "output_type": "execute_result"
    },
    {
     "data": {
      "image/png": "[encoded data removed]",
      "text/plain": [
       "<Figure size 432x288 with 2 Axes>"
      ]
     },
     "metadata": {
      "needs_background": "light"
     },
     "output_type": "display_data"
    }
   ],
   "source": [
    "program = population[0]\n",
    "X_trans = program_reader(program, X)\n",
    "clf = NearestCentroid()\n",
    "clf.fit(X_trans, y)\n",
    "y_pred = clf.predict(X_trans)\n",
    "print(\"Confusion matrix\")\n",
    "cf_matrix = confusion_matrix(y, y_pred)\n",
    "sns.heatmap(cf_matrix, annot=True)"
   ]
  },
  {
   "cell_type": "code",
   "execution_count": 25,
   "metadata": {},
   "outputs": [
    {
     "name": "stdout",
     "output_type": "stream",
     "text": [
      "Confusion matrix\n"
     ]
    },
    {
     "data": {
      "text/plain": [
       "<matplotlib.axes._subplots.AxesSubplot at 0x1f5a18aa1f0>"
      ]
     },
     "execution_count": 25,
     "metadata": {},
     "output_type": "execute_result"
    },
    {
     "data": {
      "image/png": "[encoded data removed]",
      "text/plain": [
       "<Figure size 432x288 with 2 Axes>"
      ]
     },
     "metadata": {
      "needs_background": "light"
     },
     "output_type": "display_data"
    }
   ],
   "source": [
    "Xtest_trans = program_reader(program, Xtest)\n",
    "ytest = ytest.reshape((100,))\n",
    "ytest_pred = clf.predict(Xtest_trans)\n",
    "print(\"Confusion matrix\")\n",
    "cf_matrix = confusion_matrix(ytest, ytest_pred)\n",
    "sns.heatmap(cf_matrix, annot=True)"
   ]
  },
  {
   "cell_type": "markdown",
   "metadata": {},
   "source": [
    "Seeing these results, we may think that this classifier is worse than our neural network, but we must bear in mind that the NN was developped on the converted data. In order to compare the efficacity of the GA, we will run the transformed data over a NN, and see its performance."
   ]
  },
  {
   "cell_type": "code",
   "execution_count": 26,
   "metadata": {},
   "outputs": [],
   "source": [
    "transformation = population[0]"
   ]
  },
  {
   "cell_type": "code",
   "execution_count": 27,
   "metadata": {},
   "outputs": [],
   "source": [
    "X_decoded2 = X_trans\n",
    "Xval_decoded2 = program_reader(transformation, Xval)\n",
    "Xtest_decoded2 = program_reader(transformation, Xtest)"
   ]
  },
  {
   "cell_type": "code",
   "execution_count": 28,
   "metadata": {},
   "outputs": [],
   "source": [
    "X_decoded2_tensor, _ = data_to_tensor(X_decoded2,y)\n",
    "Xval_decoded2_tensor, _ = data_to_tensor(Xval_decoded2, yval)\n",
    "Xtest_decoded2_tensor, _ = data_to_tensor(Xtest_decoded2, ytest)"
   ]
  },
  {
   "cell_type": "code",
   "execution_count": 29,
   "metadata": {},
   "outputs": [
    {
     "name": "stderr",
     "output_type": "stream",
     "text": [
      "C:\\Users\\javie\\anaconda3\\lib\\site-packages\\torch\\tensor.py:447: UserWarning: non-inplace resize is deprecated\n",
      "  warnings.warn(\"non-inplace resize is deprecated\")\n"
     ]
    },
    {
     "name": "stdout",
     "output_type": "stream",
     "text": [
      "Epoch 00: train loss 27.89458, validation loss 13.92324\n",
      "Epoch 01: train loss 27.68491, validation loss 13.84199\n",
      "Epoch 02: train loss 27.49491, validation loss 13.72883\n",
      "Epoch 03: train loss 27.23620, validation loss 13.57884\n",
      "Epoch 04: train loss 26.81802, validation loss 13.34588\n",
      "Epoch 05: train loss 26.15631, validation loss 12.96712\n",
      "Epoch 06: train loss 25.19855, validation loss 12.42782\n",
      "Epoch 07: train loss 23.85695, validation loss 11.62761\n",
      "Epoch 08: train loss 22.00786, validation loss 10.63072\n",
      "Epoch 09: train loss 19.96046, validation loss 9.56595\n",
      "Epoch 10: train loss 17.97898, validation loss 8.63210\n",
      "Epoch 11: train loss 16.30221, validation loss 7.82466\n",
      "Epoch 12: train loss 14.95892, validation loss 7.23815\n",
      "Epoch 13: train loss 13.91410, validation loss 6.74646\n",
      "Epoch 14: train loss 12.97198, validation loss 6.33151\n",
      "Epoch 15: train loss 12.24056, validation loss 5.94700\n",
      "Epoch 16: train loss 11.41650, validation loss 5.56430\n",
      "Epoch 17: train loss 10.64902, validation loss 5.19774\n",
      "Epoch 18: train loss 9.87499, validation loss 4.85787\n",
      "Epoch 19: train loss 9.13485, validation loss 4.55137\n",
      "Epoch 20: train loss 8.43591, validation loss 4.24590\n",
      "Epoch 21: train loss 7.83384, validation loss 4.03431\n",
      "Epoch 22: train loss 7.28090, validation loss 3.83654\n",
      "Epoch 23: train loss 6.88121, validation loss 3.60730\n",
      "Epoch 24: train loss 6.40588, validation loss 3.55543\n",
      "Epoch 25: train loss 6.02785, validation loss 3.36686\n",
      "Epoch 26: train loss 5.70956, validation loss 3.15734\n",
      "Epoch 27: train loss 5.42995, validation loss 3.15020\n",
      "Epoch 28: train loss 5.13871, validation loss 2.99916\n",
      "Epoch 29: train loss 4.93201, validation loss 2.93361\n",
      "Epoch 30: train loss 4.69673, validation loss 2.79920\n",
      "Epoch 31: train loss 4.54843, validation loss 2.64142\n",
      "Epoch 32: train loss 4.30940, validation loss 2.68041\n",
      "EarlyStopping counter: 1 / 5\n",
      "Epoch 33: train loss 4.16407, validation loss 2.49077\n",
      "Epoch 34: train loss 3.99193, validation loss 2.43365\n",
      "Epoch 35: train loss 3.87383, validation loss 2.40675\n",
      "Epoch 36: train loss 3.68859, validation loss 2.25231\n",
      "Epoch 37: train loss 3.50269, validation loss 2.23275\n",
      "Epoch 38: train loss 3.37004, validation loss 2.16597\n",
      "Epoch 39: train loss 3.22395, validation loss 2.09116\n",
      "Epoch 40: train loss 3.12348, validation loss 2.05779\n",
      "Epoch 41: train loss 3.07262, validation loss 1.97221\n",
      "Epoch 42: train loss 2.90378, validation loss 1.92162\n",
      "Epoch 43: train loss 2.84059, validation loss 1.88083\n",
      "Epoch 44: train loss 2.76423, validation loss 1.82949\n",
      "Epoch 45: train loss 2.69216, validation loss 1.76215\n",
      "Epoch 46: train loss 2.59598, validation loss 1.75890\n",
      "Epoch 47: train loss 2.49356, validation loss 1.71218\n",
      "Epoch 48: train loss 2.45396, validation loss 1.64960\n",
      "Epoch 49: train loss 2.41346, validation loss 1.67039\n",
      "EarlyStopping counter: 1 / 5\n"
     ]
    },
    {
     "data": {
      "image/png": "[encoded data removed]",
      "text/plain": [
       "<Figure size 432x288 with 2 Axes>"
      ]
     },
     "metadata": {
      "needs_background": "light"
     },
     "output_type": "display_data"
    }
   ],
   "source": [
    "trainloader = torch.utils.data.DataLoader(range(400), batch_size=20, shuffle=True, num_workers=2)\n",
    "validloader = torch.utils.data.DataLoader(range(200), batch_size=20, shuffle=True, num_workers=2)\n",
    "criterion = nn.CrossEntropyLoss()\n",
    "net = SimpleNet(input_neurons = X_decoded2.shape[1])\n",
    "train_history, valid_history = train(net, X_decoded2_tensor, y_tensor, Xval_decoded2_tensor, yval_tensor)\n",
    "plot_train_val(train_history, valid_history)"
   ]
  },
  {
   "cell_type": "code",
   "execution_count": 30,
   "metadata": {},
   "outputs": [
    {
     "name": "stdout",
     "output_type": "stream",
     "text": [
      "Confusion matrix\n"
     ]
    },
    {
     "data": {
      "text/plain": [
       "<matplotlib.axes._subplots.AxesSubplot at 0x1f5a19eb550>"
      ]
     },
     "execution_count": 30,
     "metadata": {},
     "output_type": "execute_result"
    },
    {
     "data": {
      "image/png": "[encoded data removed]",
      "text/plain": [
       "<Figure size 432x288 with 2 Axes>"
      ]
     },
     "metadata": {
      "needs_background": "light"
     },
     "output_type": "display_data"
    }
   ],
   "source": [
    "y_pred = []\n",
    "outputs = net(Xtest_decoded2_tensor)\n",
    "for i in range(100):\n",
    "    y_pred.append(np.argmax(outputs[i,:].detach().numpy()))\n",
    "\n",
    "print(\"Confusion matrix\")\n",
    "cf_matrix = confusion_matrix(ytest, y_pred)\n",
    "sns.heatmap(cf_matrix, annot=True)"
   ]
  },
  {
   "cell_type": "markdown",
   "metadata": {},
   "source": [
    "We can easily see that we have improved the accuracy over the first NN classification"
   ]
  },
  {
   "cell_type": "code",
   "execution_count": 31,
   "metadata": {},
   "outputs": [],
   "source": [
    "# from sklearn.neural_network import MLPClassifier\n",
    "\n",
    "# y_onehot_array = y_onehot.numpy()\n",
    "# y_onehot_array\n",
    "\n",
    "# myNN = MLPClassifier(hidden_layer_sizes=(8,16,8))\n",
    "# myNN.fit(X, y_onehot_array)"
   ]
  },
  {
   "cell_type": "code",
   "execution_count": 32,
   "metadata": {},
   "outputs": [],
   "source": [
    "# trainloader = torch.utils.data.DataLoader(range(200), batch_size=20, shuffle=True, num_workers=2)\n",
    "# criterion = nn.CrossEntropyLoss()\n",
    "# optimizer = torch.optim.SGD(net.parameters(), lr=0.001, momentum=0.9)\n",
    "# train_loss = 0.0\n",
    "# for i, data in enumerate(trainloader, 0):\n",
    "#     # get the inputs; data is a list of [inputs, labels]\n",
    "#     inputs = X_tensor[data, :]\n",
    "#     print(inputs)\n",
    "#     labels = y_tensor[data, :].resize(20)\n",
    "#     print(labels)\n",
    "#     # zero the parameter gradients\n",
    "#     optimizer.zero_grad()\n",
    "#     # forward + backward + optimize\n",
    "#     outputs = net(inputs)\n",
    "#     print(outputs)\n",
    "#     loss = criterion(outputs, labels)\n",
    "#     print(loss)\n",
    "#     print(type(loss))\n",
    "#     loss.backward()\n",
    "#     optimizer.step()\n",
    "#     train_loss += loss.item()"
   ]
  }
 ],
 "metadata": {
  "kernelspec": {
   "display_name": "Python 3",
   "language": "python",
   "name": "python3"
  },
  "language_info": {
   "codemirror_mode": {
    "name": "ipython",
    "version": 3
   },
   "file_extension": ".py",
   "mimetype": "text/x-python",
   "name": "python",
   "nbconvert_exporter": "python",
   "pygments_lexer": "ipython3",
   "version": "3.8.3"
  }
 },
 "nbformat": 4,
 "nbformat_minor": 4
}
