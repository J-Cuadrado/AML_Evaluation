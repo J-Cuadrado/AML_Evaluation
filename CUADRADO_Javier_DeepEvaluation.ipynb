{
 "cells": [
  {
   "cell_type": "markdown",
   "metadata": {},
   "source": [
    "# Algorithms in Machine Learning\n",
    "## Student: Javier CUADRADO ANÍBARRO\n",
    "\n",
    "The present notebook can be also found in https://github.com/J-Cuadrado/AML_Evaluation"
   ]
  },
  {
   "cell_type": "markdown",
   "metadata": {},
   "source": [
    "# Prerequisites\n",
    "\n",
    "Please run the following line of code if the packages are not already installed in your computer, or if you are running this notebook on Google Colab."
   ]
  },
  {
   "cell_type": "code",
   "execution_count": 1,
   "metadata": {},
   "outputs": [],
   "source": [
    "# !pip install numpy sklearn torch torchvision matplotlib seaborn tqdm"
   ]
  },
  {
   "cell_type": "markdown",
   "metadata": {},
   "source": [
    "<div class=\"alert alert-block alert-warning\"><b>Advice:</b> \n",
    "    \n",
    "Due to the amount of time stochastic algorithms can take, as well of the time involved in training a neural network, we suggest completely launching the notebook since the beginning, and gradually explore its content while the code is running..</div>"
   ]
  },
  {
   "cell_type": "markdown",
   "metadata": {},
   "source": [
    "# Introduction\n",
    "\n",
    "The aim of this notebook is to present the possible advantages of multidimensional genetic programming for multiclass classification, comparing it to other most common classification methods such as neural networks. The source article for this notebook can be found in the following link:\n",
    "\n",
    "https://www.sciencedirect.com/science/article/pii/S2210650217309136\n",
    "\n",
    "The main goal of this article is to present a method for feature selection and construction, which ara key componenst to classification problems in machine learning. Notably, we want to exploit the intrinsic characteristics of genetic programming, which implicitly performs feature selection and construction over the data, while also making fewer _a priori_ assumptions on the data. Let us quote the article to clarify this point in a more rigorous way:\n",
    "\n",
    "_\"A well known learning method that implicitly conducts feature selection and construction is genetic programming (GP), which has been proposed for classification. GP incorporates feature selection and construction by optimizing a population of programs constructed from a set of instructions that operate on the dataset features to produce a model. Compared to traditional ML approaches such as logistic regression and decision tree classification, GP makes fewer a priori assumptions about the data [...]\"_\n",
    "\n",
    "So, in short, we want to exploit the fact that GP algorithms can find hidden interactions among the data, to best summarize it and help the classification.\n",
    "\n",
    "We will begin by presenting the data we will use to perform the classifications, and then show the advantages and disadvantages of such an approach. Next, we will compare our simple implementation with the more advanced solutions proposed in the article. Finally, we will explore some potential applications of the algorithm presented in the paper."
   ]
  },
  {
   "cell_type": "markdown",
   "metadata": {},
   "source": [
    "# Data generation"
   ]
  },
  {
   "cell_type": "markdown",
   "metadata": {},
   "source": [
    "We are going to begin by creating the data with which we will work. Our data will consist of a set of $\\mathbb{R}^4$ points obtained the following way:\n",
    "\n",
    "$$\\left\\{\\begin{array}{ll} x_1 \\cdot x_3 - x_2 \\cdot x_4 & = A \\\\ x_1 \\cdot x_4 + x_2 \\cdot x_3 & = B\\end{array}\\right.$$\n",
    "\n",
    "Of course, the generation of the poins will be noisy, so the relationship between the values will not exactly add A or B, but something in between."
   ]
  },
  {
   "cell_type": "code",
   "execution_count": 2,
   "metadata": {},
   "outputs": [],
   "source": [
    "import numpy as np"
   ]
  },
  {
   "cell_type": "code",
   "execution_count": 3,
   "metadata": {},
   "outputs": [],
   "source": [
    "def generate_point(A,B,attenuation=10):\n",
    "    \"\"\"\n",
    "    Variables: \n",
    "    A, B: real numbers\n",
    "    attenuation: dividing factor used when adding noise from a N(0,1) distribution\n",
    "    \n",
    "    Output:\n",
    "    [x1, x2, x3, x4]: numpy ndarray of real values\n",
    "    \n",
    "    Definition:\n",
    "    This function generates a point [x1, x2, x3, x4] so that:\n",
    "    x1, x2 are randomly drawn from a uniform distribution [-5, 5]\n",
    "    x3, x4 satisfy the conditions:\n",
    "        x1*x3 - x2*x4 = A\n",
    "        x1*x4 + x2*x3 = B\n",
    "    Finally, a random noise is added to each one of the four values. The noise is drawn\n",
    "    from a N(0,1) distribution, and divided by the attenuation factor (effectively\n",
    "    modifying the standard deviation)    \n",
    "    \"\"\"\n",
    "    \n",
    "    x1 = np.random.uniform(-5,5)\n",
    "    x2 = np.random.uniform(-5,5)\n",
    "    x3 = (x1*A+x2*B)/(x1**2+x2**2)\n",
    "    x4 = (x1*B-x2*A)/(x1**2+x2**2)\n",
    "    x = [x1, x2, x3, x4] + np.random.randn(1,4)/attenuation\n",
    "    x = np.float32(x)\n",
    "    return x[0,:]"
   ]
  },
  {
   "cell_type": "code",
   "execution_count": 4,
   "metadata": {},
   "outputs": [],
   "source": [
    "def decode(x):\n",
    "    \"\"\"\n",
    "    The sole goal of this function is to verify the correct behavior of the data generation function    \n",
    "    \"\"\"\n",
    "    A = x[0]*x[2]-x[1]*x[3]\n",
    "    B = x[0]*x[3]+x[1]*x[2]\n",
    "    return [A, B]"
   ]
  },
  {
   "cell_type": "code",
   "execution_count": 5,
   "metadata": {},
   "outputs": [
    {
     "name": "stdout",
     "output_type": "stream",
     "text": [
      "Test point: [ 4.2369013  -0.13591424  1.0422133   1.1306914 ]\n"
     ]
    }
   ],
   "source": [
    "# We generate a test point:\n",
    "x_test = generate_point(5,5)\n",
    "print(f\"Test point: {x_test}\")"
   ]
  },
  {
   "cell_type": "code",
   "execution_count": 6,
   "metadata": {},
   "outputs": [
    {
     "name": "stdout",
     "output_type": "stream",
     "text": [
      "Decoded point: [4.569432, 4.6489763]\n"
     ]
    }
   ],
   "source": [
    "# We verify that the decoded point is similar to (5,5)\n",
    "print(f\"Decoded point: {decode(x_test)}\")"
   ]
  },
  {
   "cell_type": "markdown",
   "metadata": {},
   "source": [
    "Once the functions to generate the data have been defined, we proceed to create three shuffled datasets: training (400 points), validation ( 200 points) and test (100 points). We will generate four clusters in each of the datasets: one with points centered around (0,0), another one of points generated around (0,5), a third one of points generated around (5,0), and a final one of points centered around (5,5)."
   ]
  },
  {
   "cell_type": "code",
   "execution_count": 7,
   "metadata": {},
   "outputs": [],
   "source": [
    "from sklearn.utils import shuffle\n",
    "\n",
    "def generate_data(points_per_cat):\n",
    "    \"\"\"\n",
    "    Input:\n",
    "    points_per_cat: integer, number of points in each cluster of the dataset\n",
    "   \n",
    "    Output:\n",
    "    X: dataset\n",
    "    y: labels\n",
    "    \"\"\"\n",
    "    X = np.zeros((4*points_per_cat,4))\n",
    "    y = np.zeros((4*points_per_cat,1))\n",
    "\n",
    "    for i in range(points_per_cat):\n",
    "        X[i,:] = generate_point(0,0)\n",
    "        y[i,:] = 0\n",
    "    \n",
    "    for i in range(points_per_cat, 2*points_per_cat):\n",
    "        X[i,:] = generate_point(0,5)\n",
    "        y[i,:] = 1\n",
    "\n",
    "    for i in range(2*points_per_cat, 3*points_per_cat):    \n",
    "        X[i,:] = generate_point(5,0)\n",
    "        y[i,:] = 2\n",
    "\n",
    "    for i in range(3*points_per_cat, 4*points_per_cat):\n",
    "        X[i,:] = generate_point(5,5)\n",
    "        y[i,:] = 3\n",
    "    \n",
    "    X, y = shuffle(X, y)\n",
    "    \n",
    "    return X, y\n",
    "\n",
    "# Training set\n",
    "X, y = generate_data(100)\n",
    "# Validation set\n",
    "Xval, yval = generate_data(50)\n",
    "# Test set\n",
    "Xtest, ytest = generate_data(25)"
   ]
  },
  {
   "cell_type": "markdown",
   "metadata": {},
   "source": [
    "Let us take a closer look on some of the data (fist ten points of the suffled training dataset)"
   ]
  },
  {
   "cell_type": "code",
   "execution_count": 8,
   "metadata": {},
   "outputs": [
    {
     "name": "stdout",
     "output_type": "stream",
     "text": [
      "Point #0: Values [ 2.25679636  4.78226137  0.41090804 -0.85553741], Label 2.0\n",
      "Point #1: Values [ 3.66661119  0.76699221  1.35619545 -0.22465563], Label 2.0\n",
      "Point #2: Values [ 0.45743102 -1.58206296  0.02621941 -0.07344975], Label 0.0\n",
      "Point #3: Values [ 0.96945679 -1.15634012  2.38393617  3.10966229], Label 2.0\n",
      "Point #4: Values [ 0.79147243 -3.90337253  0.17650542  0.02829437], Label 0.0\n",
      "Point #5: Values [-2.4018786   0.01453168  0.05823779 -2.20622587], Label 1.0\n",
      "Point #6: Values [-1.98044777  1.27524877 -2.08084178 -0.99398714], Label 2.0\n",
      "Point #7: Values [-4.63841963  3.8475697  -0.12936741 -0.08595879], Label 0.0\n",
      "Point #8: Values [ 2.16769433 -0.58671176  1.89151216  0.45332751], Label 2.0\n",
      "Point #9: Values [4.25024605 0.95547724 0.23905511 1.13546836], Label 1.0\n"
     ]
    }
   ],
   "source": [
    "for i in range(10):\n",
    "    print(f\"Point #{i}: Values {X[i,:]}, Label {y[i][0]}\")"
   ]
  },
  {
   "cell_type": "markdown",
   "metadata": {},
   "source": [
    "<div class=\"alert alert-block alert-danger\"> <b>Obs.-</b> It is clear that no conclusions can be extracted at first glance from the dataset as far as the predicted labels: a performing algorithm is needed to classify these data.</div>\n"
   ]
  },
  {
   "cell_type": "markdown",
   "metadata": {},
   "source": [
    "## Data to tensor\n",
    "\n",
    "Our first impulse is to run the data through a neural network to see if we can classify it. To build the neural networks, we will be using Pytorch. In order to work with Pytorch, we need to convert our numpy arrays into pytorch tensors."
   ]
  },
  {
   "cell_type": "code",
   "execution_count": 9,
   "metadata": {},
   "outputs": [],
   "source": [
    "import torch\n",
    "import torchvision\n",
    "\n",
    "%matplotlib inline\n",
    "import matplotlib.pyplot as plt"
   ]
  },
  {
   "cell_type": "code",
   "execution_count": 10,
   "metadata": {},
   "outputs": [],
   "source": [
    "def data_to_tensor(X,y):\n",
    "    \"\"\"\n",
    "    Inputs:\n",
    "    X, y: numpy arrays\n",
    "    \n",
    "    Output:\n",
    "    X_tensor, y_tensor: pytorch tensors containing the same information as the input arrays\n",
    "    \"\"\"\n",
    "    \n",
    "    X_tensor = torch.from_numpy(X).float()\n",
    "    y_tensor = torch.from_numpy(y).long()\n",
    "    \n",
    "    return X_tensor, y_tensor\n",
    "\n",
    "X_tensor, y_tensor = data_to_tensor(X,y)\n",
    "Xval_tensor, yval_tensor = data_to_tensor(Xval, yval)\n",
    "Xtest_tensor, ytest_tensor = data_to_tensor(Xtest, ytest)\n"
   ]
  },
  {
   "cell_type": "markdown",
   "metadata": {},
   "source": [
    "# Neural network on raw data"
   ]
  },
  {
   "cell_type": "markdown",
   "metadata": {},
   "source": [
    "## Architecture \n",
    "\n",
    "We proceed now to the classification of the generated data with our neural network. We have defined a 3-hidden-layer architecture, each of the hidden layers with 10 neurons and a ReLU activation.\n",
    "\n",
    "- Since the interactions beween the data are fairly simple, we have decided to limit our neural network to a rather small architecture, in an effort to try to avoid overfitting of the values.\n",
    "- Several activations were tested during the development of this code, and notable efforts were dedicated towards making the algorithm work with sigmoid functions. However, ReLU activation has proven to be the most performing activation  to meet our goals, so it has been chosen as our activation i the hidden layers.\n",
    "- Poits are classed according to the output neuron which yields the higher value among the possible four categories."
   ]
  },
  {
   "cell_type": "code",
   "execution_count": 11,
   "metadata": {},
   "outputs": [],
   "source": [
    "from torch import nn\n",
    "import torch.nn.functional as F\n",
    "\n",
    "class SimpleNet(nn.Module):\n",
    "    def __init__(self, input_neurons = 4):\n",
    "        super(SimpleNet, self).__init__()\n",
    "        self.input_neurons = input_neurons\n",
    "        self.fc1 = nn.Linear(self.input_neurons, 10)\n",
    "        self.fc2 = nn.Linear(10, 10)\n",
    "        self.fc3 = nn.Linear(10, 10)\n",
    "        self.fc4 = nn.Linear(10, 4)\n",
    "\n",
    "    def forward(self, x):\n",
    "        x = x.view(-1, self.input_neurons)\n",
    "        x = self.fc1(x)\n",
    "        x = F.relu(x)\n",
    "        x = self.fc2(x)\n",
    "        x = F.relu(x)\n",
    "        x = self.fc3(x)\n",
    "        x = F.relu(x)\n",
    "        x = self.fc4(x)\n",
    "        return x\n",
    "    \n",
    "net = SimpleNet()"
   ]
  },
  {
   "cell_type": "markdown",
   "metadata": {},
   "source": [
    "## Training\n",
    "\n",
    "For the training process of the NN, we will begin by defining the Early Stopping criterion, wich will have a patience of 5 epochs. This has been done to further prevent the overfitting of the data."
   ]
  },
  {
   "cell_type": "code",
   "execution_count": 12,
   "metadata": {},
   "outputs": [],
   "source": [
    "class EarlyStopping:\n",
    "    \n",
    "    def __init__(self, patience=5, delta=0):\n",
    "        self.patience = patience\n",
    "        self.counter = 0\n",
    "        self.best_score = None\n",
    "        self.delta = delta\n",
    "        self.early_stop = False\n",
    "\n",
    "    def step(self, val_loss):\n",
    "        score = -val_loss\n",
    "        if self.best_score is None:\n",
    "            self.best_score = score\n",
    "        elif score < self.best_score + self.delta:\n",
    "            self.counter += 1\n",
    "            print('EarlyStopping counter: %d / %d' % (self.counter, self.patience))\n",
    "            if self.counter >= self.patience:\n",
    "                self.early_stop = True\n",
    "        else:\n",
    "            self.best_score = score\n",
    "            self.counter = 0"
   ]
  },
  {
   "cell_type": "markdown",
   "metadata": {},
   "source": [
    "In addition, a maximum of 50 epochs will be allowed in the training process. As for the optimizer, Adam has been found more performing, so it has been the chosen algorithm (it also allows us to not have to define the optimization hyperparameters)."
   ]
  },
  {
   "cell_type": "code",
   "execution_count": 13,
   "metadata": {},
   "outputs": [],
   "source": [
    "def validation(net, Xval_tensor, yval_tensor):\n",
    "    valid_loss = 0\n",
    "    with torch.no_grad():\n",
    "        for data in validloader:\n",
    "            inputs = Xval_tensor[data, :]\n",
    "            labels = yval_tensor[data, :].resize(20)\n",
    "            outputs = net(inputs)\n",
    "            loss = criterion(outputs, labels)\n",
    "            valid_loss += loss.item()\n",
    "    return valid_loss\n",
    "\n",
    "def train(net,X_tensor, y_tensor, X_validation, y_validation, earlystopping=True):\n",
    "    optimizer = torch.optim.Adam(net.parameters())\n",
    "    train_history = []\n",
    "    valid_history = []\n",
    "    estop = EarlyStopping(patience=5)\n",
    "    for epoch in range(50):\n",
    "        train_loss = 0.0\n",
    "        for i, data in enumerate(trainloader, 0):\n",
    "            # get the inputs; data is a list of [inputs, labels]\n",
    "            inputs = X_tensor[data, :]\n",
    "            labels = y_tensor[data, :].resize(20)\n",
    "            # zero the parameter gradients\n",
    "            optimizer.zero_grad()\n",
    "            # forward + backward + optimize\n",
    "            outputs = net(inputs)\n",
    "            loss = criterion(outputs, labels)\n",
    "            loss.backward()\n",
    "            optimizer.step()\n",
    "            train_loss += loss.item()\n",
    "        valid_loss = validation(net, X_validation, y_validation)\n",
    "        train_history.append(train_loss)\n",
    "        valid_history.append(valid_loss)\n",
    "        print('Epoch %02d: train loss %0.5f, validation loss %0.5f' % (epoch, train_loss, valid_loss))\n",
    "        estop.step(valid_loss)\n",
    "        if earlystopping and estop.early_stop:\n",
    "            break\n",
    "    return train_history, valid_history"
   ]
  },
  {
   "cell_type": "markdown",
   "metadata": {},
   "source": [
    "Next, a function has been created to plot the evolution of the train and validation loss over the training period."
   ]
  },
  {
   "cell_type": "code",
   "execution_count": 14,
   "metadata": {},
   "outputs": [],
   "source": [
    "def plot_train_val(train, valid):\n",
    "    \"\"\"\n",
    "    Plotter function to represent the evolution of the train and validation loss over the training period.\n",
    "    \"\"\"\n",
    "    fig, ax1 = plt.subplots()\n",
    "    color = 'tab:red'\n",
    "    ax1.set_ylabel('Training', color=color)\n",
    "    ax1.plot(train, color=color)\n",
    "    ax2 = ax1.twinx()\n",
    "    color = 'tab:blue'\n",
    "    ax2.set_ylabel('Validation', color=color)\n",
    "    ax2.plot(valid, color=color)\n",
    "    fig.tight_layout()"
   ]
  },
  {
   "cell_type": "markdown",
   "metadata": {},
   "source": [
    "Finally, we will use a batch size of 20 both for the training and the validation sets. By using small batches, we make the training process slightly less performing, but we also get a faster algorithm, wich in turn allows more epochs to be processed in the same amount of time. For the criterion, we have chosen the Cross Entropy. Having defined all these functions and parameters, we proceed to the training of the neural network:"
   ]
  },
  {
   "cell_type": "code",
   "execution_count": 15,
   "metadata": {},
   "outputs": [
    {
     "name": "stderr",
     "output_type": "stream",
     "text": [
      "C:\\Users\\javie\\anaconda3\\lib\\site-packages\\torch\\tensor.py:447: UserWarning: non-inplace resize is deprecated\n",
      "  warnings.warn(\"non-inplace resize is deprecated\")\n"
     ]
    },
    {
     "name": "stdout",
     "output_type": "stream",
     "text": [
      "Epoch 00: train loss 27.77624, validation loss 13.93855\n",
      "Epoch 01: train loss 27.67658, validation loss 13.89300\n",
      "Epoch 02: train loss 27.55860, validation loss 13.86143\n",
      "Epoch 03: train loss 27.46061, validation loss 13.82312\n",
      "Epoch 04: train loss 27.34815, validation loss 13.76951\n",
      "Epoch 05: train loss 27.20253, validation loss 13.72421\n",
      "Epoch 06: train loss 27.03951, validation loss 13.66659\n",
      "Epoch 07: train loss 26.87390, validation loss 13.58275\n",
      "Epoch 08: train loss 26.65940, validation loss 13.48938\n",
      "Epoch 09: train loss 26.40399, validation loss 13.35908\n",
      "Epoch 10: train loss 26.12818, validation loss 13.21378\n",
      "Epoch 11: train loss 25.81526, validation loss 13.05108\n",
      "Epoch 12: train loss 25.45974, validation loss 12.86937\n",
      "Epoch 13: train loss 25.09391, validation loss 12.70860\n",
      "Epoch 14: train loss 24.69878, validation loss 12.50981\n",
      "Epoch 15: train loss 24.31549, validation loss 12.32558\n",
      "Epoch 16: train loss 23.92272, validation loss 12.13488\n",
      "Epoch 17: train loss 23.50007, validation loss 11.89487\n",
      "Epoch 18: train loss 23.09582, validation loss 11.69553\n",
      "Epoch 19: train loss 22.57282, validation loss 11.45178\n",
      "Epoch 20: train loss 22.09695, validation loss 11.21699\n",
      "Epoch 21: train loss 21.57818, validation loss 10.98324\n",
      "Epoch 22: train loss 21.07845, validation loss 10.75435\n",
      "Epoch 23: train loss 20.53277, validation loss 10.55741\n",
      "Epoch 24: train loss 19.99207, validation loss 10.27532\n",
      "Epoch 25: train loss 19.49080, validation loss 10.04818\n",
      "Epoch 26: train loss 18.96930, validation loss 9.81872\n",
      "Epoch 27: train loss 18.47513, validation loss 9.55439\n",
      "Epoch 28: train loss 17.95749, validation loss 9.34052\n",
      "Epoch 29: train loss 17.39849, validation loss 9.08491\n",
      "Epoch 30: train loss 16.80227, validation loss 8.79844\n",
      "Epoch 31: train loss 16.19797, validation loss 8.51737\n",
      "Epoch 32: train loss 15.58476, validation loss 8.22667\n",
      "Epoch 33: train loss 14.91707, validation loss 7.93087\n",
      "Epoch 34: train loss 14.25922, validation loss 7.63314\n",
      "Epoch 35: train loss 13.51250, validation loss 7.34296\n",
      "Epoch 36: train loss 12.86878, validation loss 7.03885\n",
      "Epoch 37: train loss 12.23990, validation loss 6.76053\n",
      "Epoch 38: train loss 11.61056, validation loss 6.44925\n",
      "Epoch 39: train loss 10.99228, validation loss 6.17822\n",
      "Epoch 40: train loss 10.46896, validation loss 5.95279\n",
      "Epoch 41: train loss 9.98171, validation loss 5.66090\n",
      "Epoch 42: train loss 9.42589, validation loss 5.48416\n",
      "Epoch 43: train loss 8.93589, validation loss 5.19464\n",
      "Epoch 44: train loss 8.46666, validation loss 4.93287\n",
      "Epoch 45: train loss 8.05196, validation loss 4.76069\n",
      "Epoch 46: train loss 7.62781, validation loss 4.58914\n",
      "Epoch 47: train loss 7.17395, validation loss 4.38091\n",
      "Epoch 48: train loss 6.88594, validation loss 4.23370\n",
      "Epoch 49: train loss 6.50023, validation loss 4.06932\n"
     ]
    },
    {
     "data": {
      "image/png": "[encoded data removed]",
      "text/plain": [
       "<Figure size 432x288 with 2 Axes>"
      ]
     },
     "metadata": {
      "needs_background": "light"
     },
     "output_type": "display_data"
    }
   ],
   "source": [
    "trainloader = torch.utils.data.DataLoader(range(400), batch_size=20, shuffle=True, num_workers=2)\n",
    "validloader = torch.utils.data.DataLoader(range(200), batch_size=20, shuffle=True, num_workers=2)\n",
    "criterion = nn.CrossEntropyLoss()\n",
    "net = SimpleNet()\n",
    "train_history, valid_history = train(net, X_tensor, y_tensor, Xval_tensor, yval_tensor)\n",
    "plot_train_val(train_history, valid_history)"
   ]
  },
  {
   "cell_type": "markdown",
   "metadata": {},
   "source": [
    "A nice, visual metric of the accuracy of our classifier can be obtained through the confusion matrix on the test data."
   ]
  },
  {
   "cell_type": "code",
   "execution_count": 16,
   "metadata": {},
   "outputs": [
    {
     "name": "stdout",
     "output_type": "stream",
     "text": [
      "Confusion matrix\n"
     ]
    },
    {
     "data": {
      "text/plain": [
       "<matplotlib.axes._subplots.AxesSubplot at 0x1bf7c33b760>"
      ]
     },
     "execution_count": 16,
     "metadata": {},
     "output_type": "execute_result"
    },
    {
     "data": {
      "image/png": "[encoded data removed]",
      "text/plain": [
       "<Figure size 432x288 with 2 Axes>"
      ]
     },
     "metadata": {
      "needs_background": "light"
     },
     "output_type": "display_data"
    }
   ],
   "source": [
    "from sklearn.metrics import confusion_matrix\n",
    "import seaborn as sns\n",
    "\n",
    "y_pred = []\n",
    "outputs = net(Xtest_tensor)\n",
    "for i in range(100):\n",
    "    y_pred.append(np.argmax(outputs[i,:].detach().numpy()))\n",
    "\n",
    "print(\"Confusion matrix\")\n",
    "cf_matrix = confusion_matrix(ytest, y_pred)\n",
    "sns.heatmap(cf_matrix, annot=True)"
   ]
  },
  {
   "cell_type": "markdown",
   "metadata": {},
   "source": [
    "We can see that our NN is reasonably accurate. The discrepancies between the true data and the predicted values come from the noise introduced in data generation (lower noise yields higher accuracies), as well as the low number of epochs. However, a longer training may lead to overfitting, since the neural network may simply end up by learning the noise as a value, a detrimental feature for our intended goal.\n",
    "\n",
    "Nonetheless, this accuracy can be improved, and the following sections will try to present a method to achieve higher accuracies."
   ]
  },
  {
   "cell_type": "markdown",
   "metadata": {},
   "source": [
    "# Neural network on transformed data"
   ]
  },
  {
   "cell_type": "markdown",
   "metadata": {},
   "source": [
    "We proceed now to perform the same analysis on the decoded dataset, that is, on the (A,B) noisy pairs)"
   ]
  },
  {
   "cell_type": "code",
   "execution_count": 17,
   "metadata": {},
   "outputs": [],
   "source": [
    "X_decoded = torch.zeros([400, 2], dtype=torch.float)\n",
    "for i in range(400):\n",
    "    X_decoded[i,:] = torch.FloatTensor(decode(X_tensor[i,:]))\n",
    "    \n",
    "Xval_decoded = torch.zeros([200, 2], dtype=torch.float)\n",
    "for i in range(200):\n",
    "    Xval_decoded[i,:] = torch.FloatTensor(decode(Xval_tensor[i,:]))\n",
    "    \n",
    "Xtest_decoded = torch.zeros([100, 2], dtype=torch.float)\n",
    "for i in range(100):\n",
    "    Xtest_decoded[i,:] = torch.FloatTensor(decode(Xtest_tensor[i,:]))"
   ]
  },
  {
   "cell_type": "markdown",
   "metadata": {},
   "source": [
    "The goal of this section is to demonstrate that, by performing the same classification on the decoded dataset, higher accuracies can in fact be obrained without overfitting of the data."
   ]
  },
  {
   "cell_type": "code",
   "execution_count": 18,
   "metadata": {},
   "outputs": [
    {
     "name": "stderr",
     "output_type": "stream",
     "text": [
      "C:\\Users\\javie\\anaconda3\\lib\\site-packages\\torch\\tensor.py:447: UserWarning: non-inplace resize is deprecated\n",
      "  warnings.warn(\"non-inplace resize is deprecated\")\n"
     ]
    },
    {
     "name": "stdout",
     "output_type": "stream",
     "text": [
      "Epoch 00: train loss 28.46003, validation loss 13.91175\n",
      "Epoch 01: train loss 27.38985, validation loss 13.47496\n",
      "Epoch 02: train loss 26.49805, validation loss 12.94013\n",
      "Epoch 03: train loss 25.25611, validation loss 12.21200\n",
      "Epoch 04: train loss 23.63118, validation loss 11.32571\n",
      "Epoch 05: train loss 21.80040, validation loss 10.33686\n",
      "Epoch 06: train loss 19.80683, validation loss 9.27425\n",
      "Epoch 07: train loss 17.60279, validation loss 8.12142\n",
      "Epoch 08: train loss 15.31364, validation loss 6.96614\n",
      "Epoch 09: train loss 13.16572, validation loss 5.96225\n",
      "Epoch 10: train loss 11.41991, validation loss 5.20256\n",
      "Epoch 11: train loss 10.07804, validation loss 4.61299\n",
      "Epoch 12: train loss 9.00934, validation loss 4.14445\n",
      "Epoch 13: train loss 8.15438, validation loss 3.76811\n",
      "Epoch 14: train loss 7.44857, validation loss 3.45167\n",
      "Epoch 15: train loss 6.82708, validation loss 3.16065\n",
      "Epoch 16: train loss 6.21513, validation loss 2.86655\n",
      "Epoch 17: train loss 5.57568, validation loss 2.56192\n",
      "Epoch 18: train loss 4.91563, validation loss 2.22415\n",
      "Epoch 19: train loss 4.20072, validation loss 1.87135\n",
      "Epoch 20: train loss 3.45747, validation loss 1.50778\n",
      "Epoch 21: train loss 2.74600, validation loss 1.17074\n",
      "Epoch 22: train loss 2.11903, validation loss 0.88382\n",
      "Epoch 23: train loss 1.58297, validation loss 0.67455\n",
      "Epoch 24: train loss 1.20766, validation loss 0.50861\n",
      "Epoch 25: train loss 0.92537, validation loss 0.39058\n",
      "Epoch 26: train loss 0.72479, validation loss 0.30680\n",
      "Epoch 27: train loss 0.58125, validation loss 0.24609\n",
      "Epoch 28: train loss 0.47562, validation loss 0.20141\n",
      "Epoch 29: train loss 0.39513, validation loss 0.16926\n",
      "Epoch 30: train loss 0.33715, validation loss 0.14456\n",
      "Epoch 31: train loss 0.29073, validation loss 0.12475\n",
      "Epoch 32: train loss 0.25565, validation loss 0.10904\n",
      "Epoch 33: train loss 0.22466, validation loss 0.09642\n",
      "Epoch 34: train loss 0.20158, validation loss 0.08543\n",
      "Epoch 35: train loss 0.18219, validation loss 0.07702\n",
      "Epoch 36: train loss 0.16472, validation loss 0.06962\n",
      "Epoch 37: train loss 0.15093, validation loss 0.06331\n",
      "Epoch 38: train loss 0.13806, validation loss 0.05802\n",
      "Epoch 39: train loss 0.12662, validation loss 0.05202\n",
      "Epoch 40: train loss 0.11389, validation loss 0.04645\n",
      "Epoch 41: train loss 0.10253, validation loss 0.04275\n",
      "Epoch 42: train loss 0.09380, validation loss 0.03963\n",
      "Epoch 43: train loss 0.08750, validation loss 0.03664\n",
      "Epoch 44: train loss 0.08004, validation loss 0.03419\n",
      "Epoch 45: train loss 0.07406, validation loss 0.03177\n",
      "Epoch 46: train loss 0.06929, validation loss 0.02973\n",
      "Epoch 47: train loss 0.06507, validation loss 0.02813\n",
      "Epoch 48: train loss 0.06080, validation loss 0.02632\n",
      "Epoch 49: train loss 0.05807, validation loss 0.02477\n"
     ]
    },
    {
     "data": {
      "image/png": "[encoded data removed]",
      "text/plain": [
       "<Figure size 432x288 with 2 Axes>"
      ]
     },
     "metadata": {
      "needs_background": "light"
     },
     "output_type": "display_data"
    }
   ],
   "source": [
    "trainloader = torch.utils.data.DataLoader(range(400), batch_size=20, shuffle=True, num_workers=2)\n",
    "validloader = torch.utils.data.DataLoader(range(200), batch_size=20, shuffle=True, num_workers=2)\n",
    "criterion = nn.CrossEntropyLoss()\n",
    "net = SimpleNet(input_neurons = 2)\n",
    "train_history, valid_history = train(net, X_decoded, y_tensor, Xval_decoded, yval_tensor)\n",
    "plot_train_val(train_history, valid_history)"
   ]
  },
  {
   "cell_type": "code",
   "execution_count": 19,
   "metadata": {},
   "outputs": [
    {
     "name": "stdout",
     "output_type": "stream",
     "text": [
      "Confusion matrix\n"
     ]
    },
    {
     "data": {
      "text/plain": [
       "<matplotlib.axes._subplots.AxesSubplot at 0x1bf7a429430>"
      ]
     },
     "execution_count": 19,
     "metadata": {},
     "output_type": "execute_result"
    },
    {
     "data": {
      "image/png": "[encoded data removed]",
      "text/plain": [
       "<Figure size 432x288 with 2 Axes>"
      ]
     },
     "metadata": {
      "needs_background": "light"
     },
     "output_type": "display_data"
    }
   ],
   "source": [
    "y_pred = []\n",
    "outputs = net(Xtest_decoded)\n",
    "for i in range(100):\n",
    "    y_pred.append(np.argmax(outputs[i,:].detach().numpy()))\n",
    "\n",
    "print(\"Confusion matrix\")\n",
    "cf_matrix = confusion_matrix(ytest, y_pred)\n",
    "sns.heatmap(cf_matrix, annot=True)"
   ]
  },
  {
   "cell_type": "markdown",
   "metadata": {},
   "source": [
    "As expected, the decoded dataset perfoms better than the raw one, being able to mitigate the noise influence on the classification. However, we have cheated on this analysis, since we knew the decoding algorithm prior to making the data classification. In real life, the data decoding may not be known, so we should be able to find a way to learn it."
   ]
  },
  {
   "cell_type": "markdown",
   "metadata": {},
   "source": [
    "<div class=\"alert alert-block alert-info\"><b>The following sections will explore how to improve the classification accuracy when the interactons between the data are unknown.</b>"
   ]
  },
  {
   "cell_type": "markdown",
   "metadata": {},
   "source": [
    "# Genetic Programming"
   ]
  },
  {
   "cell_type": "markdown",
   "metadata": {},
   "source": [
    "We now seek to classify the data using an stochastic method. We will follow the philosophy presented on the paper, using stack-based programs, but with slight modifications to get a faster and easier to understand code. The algorithm developped in the paper is called M4GP, and will later be presented in more depth."
   ]
  },
  {
   "cell_type": "markdown",
   "metadata": {},
   "source": [
    "<div class=\"alert alert-block alert-warning\"><b>Even if we will try our best to explain the M4GP algorithm presented in the paper, the reader is strongly encouraged to consult it for further information.</b>"
   ]
  },
  {
   "cell_type": "markdown",
   "metadata": {},
   "source": [
    "First of all, we will present the stack-based programs presented in the paper. Basically, these programs consist of a vector of possible opperations to be performed on the data, in order to transform it into another state. In order to best explain these programs, we will take the following one as an example:\n",
    "\n",
    "program = $[0, 2, *, 1, 3, *, -, 0, 3, *, 1, 2, *, +]$\n",
    "\n",
    "This program performs the following tasks, in order, adding the result of each operation to an output array:\n",
    "\n",
    "- 0 -> Access x[0] and store it in the output array -> output = [x0]\n",
    "- 2 -> Access x[2] and store it in the output array -> output = [x0, x2]\n",
    "- \\* -> Access the last two components of the output array, multiply them, and add the result to the output array -> output = [x0\\*x2]\n",
    "- 1 -> Access x[1] and store it in the output array -> output = [x0\\*x2, x1]\n",
    "- 3 -> Access x[3] and store it in the output array -> output = [x0\\*x2, x1, x3]\n",
    "- \\* -> Access the last two components of the output array, multiply them, and add the result to the output array -> output = [x0\\*x2, x1\\*x3]\n",
    "- \\- -> Access the last two components of the output array, substract them, and add the result to the output array -> output = [x0\\*x2 - x1\\*x3]\n",
    "- ...\n",
    "\n",
    "So, in the end, we will obtain an output vector which, in this case, will consist of **[x0\\*x2 - x1\\*x3, x0\\*x3 + x1\\*x2]**. How fitting, it is exactly the operations we followed to decode de data!\n",
    "\n",
    "We proceed then to create a code able to generate such a sequence/program."
   ]
  },
  {
   "cell_type": "code",
   "execution_count": 20,
   "metadata": {},
   "outputs": [
    {
     "name": "stdout",
     "output_type": "stream",
     "text": [
      "[4, 4, '/', 2, 0, 1]\n"
     ]
    }
   ],
   "source": [
    "import random\n",
    "\n",
    "def program_generator(data_len):\n",
    "    \"\"\"\n",
    "    Input:\n",
    "    data_len: number of components of the data (in each line)\n",
    "    \n",
    "    Output:\n",
    "    program: a stack-based program (list) to be performed on the data\n",
    "    \"\"\"\n",
    "    program_len = random.randint(2,20)\n",
    "    \n",
    "    program = []\n",
    "    \n",
    "    \n",
    "    values = [i for i in range(data_len)]\n",
    "    \n",
    "    program.append(random.choice(values))\n",
    "    program.append(random.choice(values))\n",
    "\n",
    "    values.append('+')\n",
    "    values.append('-')\n",
    "    values.append('*')\n",
    "    values.append('/')\n",
    "    \n",
    "    for i in range(2,program_len):\n",
    "        program.append(random.choice(values))\n",
    "    \n",
    "    return program\n",
    "\n",
    "# sample data\n",
    "x_test = np.array([[1, 2, 3, 4, 5], [6, 7, 8, 9, 10]])\n",
    "data_len = x_test.shape[1]\n",
    "# obtention of a random program\n",
    "program_test = program_generator(data_len)\n",
    "print(program_test)   "
   ]
  },
  {
   "cell_type": "markdown",
   "metadata": {},
   "source": [
    "<div class=\"alert alert-block alert-danger\"><b>Not all of the programs can be run.</b> Some of them will, for example, consist of operations on the third and four elements of the list, which will lead to an error because there won't be enough arguments on the output stack to pop. This problem will be solved in the genetic optimization section."
   ]
  },
  {
   "cell_type": "markdown",
   "metadata": {},
   "source": [
    "Next, we define a function able of running the different programs on the data, which returns an array with the transformed dataset"
   ]
  },
  {
   "cell_type": "code",
   "execution_count": 21,
   "metadata": {},
   "outputs": [
    {
     "name": "stdout",
     "output_type": "stream",
     "text": [
      "Error\n"
     ]
    }
   ],
   "source": [
    "def program_reader(program, x):\n",
    "    \"\"\"\n",
    "    Input:\n",
    "    program: list of operations to perform on the data\n",
    "    x: array of raw data\n",
    "    \n",
    "    Output:\n",
    "    outmat: it can either be an array with the transformed data, or an string \"Error\" is the program cannot be run\n",
    "    \"\"\"\n",
    "    output = []\n",
    "    for ele in program:\n",
    "        if type(ele) == int:\n",
    "            output.append(x[:,ele])\n",
    "        else:\n",
    "            try:\n",
    "                b = output.pop()\n",
    "                a = output.pop()\n",
    "                if ele == '+':\n",
    "                    output.append(a+b)\n",
    "                elif ele == '-':\n",
    "                    output.append(a-b)\n",
    "                elif ele == '*':\n",
    "                    output.append(a*b)\n",
    "                elif ele == '/' and b != 0:\n",
    "                    output.append(a/b)\n",
    "                else:\n",
    "                    raise\n",
    "            except:\n",
    "                output = 'Error'\n",
    "                break\n",
    "           \n",
    "    if output == 'Error':\n",
    "        outmat = 'Error'\n",
    "    else:\n",
    "        newdim = len(output)\n",
    "    \n",
    "        outmat = np.zeros((x.shape[0],newdim))\n",
    "        for ele in range(newdim):\n",
    "            outmat[:,ele] = output[ele]\n",
    "        \n",
    "    return outmat \n",
    "\n",
    "out_test = program_reader(program_test, x_test)\n",
    "print(out_test)"
   ]
  },
  {
   "cell_type": "markdown",
   "metadata": {},
   "source": [
    "We will now proceed to optimize the programs generated, trying to achieve the best possible classification. After having defined the parameters of the optimization, we follow the next steps:\n",
    "\n",
    "- We remove the \"worst\" individuals of the population, so we only keep the top 250 ones\n",
    "- We generate individuals until we obtain a complete population\n",
    "- We verify which of the programs are erroneous, and remove them from the population\n",
    "- We class each program according to its score with a Nearest Centroid classifier\n",
    "- We check if the maximum number of stall generations has been reached"
   ]
  },
  {
   "cell_type": "markdown",
   "metadata": {},
   "source": [
    "<div class=\"alert alert-block alert-warning\"><b>Obs.-</b> The score is evaluated on the predictions done on the training set. To further improve performances, we could have analyzed the score of the validation  dataset, but that would mean performing the transformation also on it, which would increase the number of operations to perform."
   ]
  },
  {
   "cell_type": "code",
   "execution_count": 22,
   "metadata": {},
   "outputs": [
    {
     "name": "stderr",
     "output_type": "stream",
     "text": [
      "100%|██████████████████████████████████████████████████████████████████████████████| 2000/2000 [06:22<00:00,  5.23it/s]"
     ]
    },
    {
     "name": "stdout",
     "output_type": "stream",
     "text": [
      "Best program found: [2, 0, '*', 3, 0, 1, '+', '*', 3, 0, '+', 2, 1, '*']\n"
     ]
    },
    {
     "name": "stderr",
     "output_type": "stream",
     "text": [
      "\n"
     ]
    }
   ],
   "source": [
    "from sklearn.neighbors import NearestCentroid\n",
    "from tqdm import tqdm\n",
    "\n",
    "max_generations = 2000\n",
    "population_size = 500\n",
    "population = []\n",
    "y = y.reshape((400,))\n",
    "\n",
    "stall = 0\n",
    "max_stall = 500\n",
    "last_best = []\n",
    "\n",
    "for gen in tqdm(range(max_generations)):\n",
    "    \n",
    "    # In each generation, we only retain the best 250 individuals\n",
    "    while len(population) > 0.5*population_size:\n",
    "        population.pop()\n",
    "    \n",
    "    # We complete the population up to 500 individuals\n",
    "    for ind in range(len(population), population_size):\n",
    "        population.append(program_generator(X.shape[1]))\n",
    "    \n",
    "    # We generate the output of each program, and identify wheteher or not it is an error\n",
    "    output = []\n",
    "    errors = []\n",
    "    for i in range(population_size):\n",
    "        output.append(program_reader(population[i], X))\n",
    "        if type(output[-1]) == str:\n",
    "            errors.append(i)\n",
    "\n",
    "    errors.reverse()        \n",
    "    \n",
    "    # We remove the erroneous programs from the population\n",
    "    for err in errors:\n",
    "        output.pop(err)\n",
    "        population.pop(err)\n",
    "        \n",
    "    # We use a Nearest-Centroid clasification to rank the programs    \n",
    "    score = []\n",
    "    for i in range(len(output)):\n",
    "        clf = NearestCentroid()\n",
    "        clf.fit(output[i], y)\n",
    "        score.append(clf.score(output[i],y))\n",
    "    \n",
    "    # We sort the programs according to their score\n",
    "    keys = sorted(range(len(score)), key=lambda k: score[k])\n",
    "    keys.reverse()\n",
    "    \n",
    "    population_ordered = []\n",
    "    for k in keys:\n",
    "        population_ordered.append(population[k])\n",
    "    population = population_ordered\n",
    "    \n",
    "    # We check if we have achieved the maximum number of stall generations\n",
    "    if population[0] == last_best:\n",
    "        stall += 1 \n",
    "        if stall == max_stall:\n",
    "            print(\"Reached max. number of stall generations\")\n",
    "            break\n",
    "    else:\n",
    "        last_best = population[0]\n",
    "        stall = 0\n",
    "    \n",
    "print(f\"Best program found: {population[0]}\")"
   ]
  },
  {
   "cell_type": "markdown",
   "metadata": {},
   "source": [
    "We have not obtained the program we would have expected. Nevertheless, this transformation may be good enough, since there may even be hidden interactions between the data we had not accounted for. In fact, if we check this classifier with the test data, we obtain the following confusion matrix:"
   ]
  },
  {
   "cell_type": "code",
   "execution_count": 23,
   "metadata": {},
   "outputs": [
    {
     "name": "stdout",
     "output_type": "stream",
     "text": [
      "Confusion matrix\n"
     ]
    },
    {
     "data": {
      "text/plain": [
       "<matplotlib.axes._subplots.AxesSubplot at 0x1bf7a448190>"
      ]
     },
     "execution_count": 23,
     "metadata": {},
     "output_type": "execute_result"
    },
    {
     "data": {
      "image/png": "[encoded data removed]",
      "text/plain": [
       "<Figure size 432x288 with 2 Axes>"
      ]
     },
     "metadata": {
      "needs_background": "light"
     },
     "output_type": "display_data"
    }
   ],
   "source": [
    "program_best = population[0]\n",
    "\n",
    "X_trans = program_reader(program_best, X)\n",
    "clf = NearestCentroid()\n",
    "clf.fit(X_trans, y)\n",
    "\n",
    "Xtest_trans = program_reader(program_best, Xtest)\n",
    "ytest = ytest.reshape((100,))\n",
    "ytest_pred = clf.predict(Xtest_trans)\n",
    "\n",
    "print(\"Confusion matrix\")\n",
    "cf_matrix = confusion_matrix(ytest, ytest_pred)\n",
    "sns.heatmap(cf_matrix, annot=True)"
   ]
  },
  {
   "cell_type": "markdown",
   "metadata": {},
   "source": [
    "Seeing these results, we may think that this classifier is worse than our neural network, but we must bear in mind that the performin NN was developped on the converted data. In order to compare the efficacity of the GA, we will run the transformed data over a NN, and see its performance."
   ]
  },
  {
   "cell_type": "code",
   "execution_count": 24,
   "metadata": {},
   "outputs": [],
   "source": [
    "X_decoded2 = program_reader(program_best, X)\n",
    "Xval_decoded2 = program_reader(program_best, Xval)\n",
    "Xtest_decoded2 = program_reader(program_best, Xtest)"
   ]
  },
  {
   "cell_type": "code",
   "execution_count": 25,
   "metadata": {},
   "outputs": [],
   "source": [
    "X_decoded2_tensor, _ = data_to_tensor(X_decoded2,y)\n",
    "Xval_decoded2_tensor, _ = data_to_tensor(Xval_decoded2, yval)\n",
    "Xtest_decoded2_tensor, _ = data_to_tensor(Xtest_decoded2, ytest)"
   ]
  },
  {
   "cell_type": "code",
   "execution_count": 26,
   "metadata": {},
   "outputs": [
    {
     "name": "stderr",
     "output_type": "stream",
     "text": [
      "C:\\Users\\javie\\anaconda3\\lib\\site-packages\\torch\\tensor.py:447: UserWarning: non-inplace resize is deprecated\n",
      "  warnings.warn(\"non-inplace resize is deprecated\")\n"
     ]
    },
    {
     "name": "stdout",
     "output_type": "stream",
     "text": [
      "Epoch 00: train loss 28.26996, validation loss 13.98904\n",
      "Epoch 01: train loss 27.76279, validation loss 13.75263\n",
      "Epoch 02: train loss 27.21430, validation loss 13.47728\n",
      "Epoch 03: train loss 26.53807, validation loss 13.11617\n",
      "Epoch 04: train loss 25.63413, validation loss 12.63734\n",
      "Epoch 05: train loss 24.47792, validation loss 12.05500\n",
      "Epoch 06: train loss 23.11692, validation loss 11.37190\n",
      "Epoch 07: train loss 21.54880, validation loss 10.61755\n",
      "Epoch 08: train loss 19.83608, validation loss 9.78597\n",
      "Epoch 09: train loss 18.20629, validation loss 8.89807\n",
      "Epoch 10: train loss 16.47344, validation loss 8.07883\n",
      "Epoch 11: train loss 15.08820, validation loss 7.32140\n",
      "Epoch 12: train loss 13.76221, validation loss 6.66985\n",
      "Epoch 13: train loss 12.49767, validation loss 5.93911\n",
      "Epoch 14: train loss 11.22226, validation loss 5.24219\n",
      "Epoch 15: train loss 9.90724, validation loss 4.53215\n",
      "Epoch 16: train loss 8.60464, validation loss 3.91342\n",
      "Epoch 17: train loss 7.38681, validation loss 3.31073\n",
      "Epoch 18: train loss 6.32275, validation loss 2.81152\n",
      "Epoch 19: train loss 5.44486, validation loss 2.42964\n",
      "Epoch 20: train loss 4.80113, validation loss 2.12633\n",
      "Epoch 21: train loss 4.31117, validation loss 1.83673\n",
      "Epoch 22: train loss 3.87771, validation loss 1.69264\n",
      "Epoch 23: train loss 3.55814, validation loss 1.59118\n",
      "Epoch 24: train loss 3.31746, validation loss 1.42314\n",
      "Epoch 25: train loss 3.06100, validation loss 1.32172\n",
      "Epoch 26: train loss 2.88405, validation loss 1.28939\n",
      "Epoch 27: train loss 2.72265, validation loss 1.15847\n",
      "Epoch 28: train loss 2.62771, validation loss 1.13618\n",
      "Epoch 29: train loss 2.48543, validation loss 1.04778\n",
      "Epoch 30: train loss 2.38923, validation loss 1.00578\n",
      "Epoch 31: train loss 2.27266, validation loss 0.98554\n",
      "Epoch 32: train loss 2.19785, validation loss 0.95625\n",
      "Epoch 33: train loss 2.08647, validation loss 0.96739\n",
      "EarlyStopping counter: 1 / 5\n",
      "Epoch 34: train loss 2.00289, validation loss 0.89010\n",
      "Epoch 35: train loss 1.97268, validation loss 0.84815\n",
      "Epoch 36: train loss 1.89993, validation loss 0.88463\n",
      "EarlyStopping counter: 1 / 5\n",
      "Epoch 37: train loss 1.87595, validation loss 0.81796\n",
      "Epoch 38: train loss 1.79593, validation loss 0.82632\n",
      "EarlyStopping counter: 1 / 5\n",
      "Epoch 39: train loss 1.75278, validation loss 0.82357\n",
      "EarlyStopping counter: 2 / 5\n",
      "Epoch 40: train loss 1.71282, validation loss 0.76097\n",
      "Epoch 41: train loss 1.67132, validation loss 0.78571\n",
      "EarlyStopping counter: 1 / 5\n",
      "Epoch 42: train loss 1.64919, validation loss 0.74577\n",
      "Epoch 43: train loss 1.59026, validation loss 0.74042\n",
      "Epoch 44: train loss 1.56315, validation loss 0.72294\n",
      "Epoch 45: train loss 1.58745, validation loss 0.67956\n",
      "Epoch 46: train loss 1.50007, validation loss 0.73011\n",
      "EarlyStopping counter: 1 / 5\n",
      "Epoch 47: train loss 1.47519, validation loss 0.69192\n",
      "EarlyStopping counter: 2 / 5\n",
      "Epoch 48: train loss 1.43314, validation loss 0.65972\n",
      "Epoch 49: train loss 1.42487, validation loss 0.64288\n"
     ]
    },
    {
     "data": {
      "image/png": "[encoded data removed]",
      "text/plain": [
       "<Figure size 432x288 with 2 Axes>"
      ]
     },
     "metadata": {
      "needs_background": "light"
     },
     "output_type": "display_data"
    }
   ],
   "source": [
    "trainloader = torch.utils.data.DataLoader(range(400), batch_size=20, shuffle=True, num_workers=2)\n",
    "validloader = torch.utils.data.DataLoader(range(200), batch_size=20, shuffle=True, num_workers=2)\n",
    "criterion = nn.CrossEntropyLoss()\n",
    "net = SimpleNet(input_neurons = X_decoded2.shape[1])\n",
    "train_history, valid_history = train(net, X_decoded2_tensor, y_tensor, Xval_decoded2_tensor, yval_tensor)\n",
    "plot_train_val(train_history, valid_history)"
   ]
  },
  {
   "cell_type": "code",
   "execution_count": 27,
   "metadata": {},
   "outputs": [
    {
     "name": "stdout",
     "output_type": "stream",
     "text": [
      "Confusion matrix\n"
     ]
    },
    {
     "data": {
      "text/plain": [
       "<matplotlib.axes._subplots.AxesSubplot at 0x1bf7c8de250>"
      ]
     },
     "execution_count": 27,
     "metadata": {},
     "output_type": "execute_result"
    },
    {
     "data": {
      "image/png": "[encoded data removed]",
      "text/plain": [
       "<Figure size 432x288 with 2 Axes>"
      ]
     },
     "metadata": {
      "needs_background": "light"
     },
     "output_type": "display_data"
    }
   ],
   "source": [
    "y_pred = []\n",
    "outputs = net(Xtest_decoded2_tensor)\n",
    "for i in range(100):\n",
    "    y_pred.append(np.argmax(outputs[i,:].detach().numpy()))\n",
    "\n",
    "print(\"Confusion matrix\")\n",
    "cf_matrix = confusion_matrix(ytest, y_pred)\n",
    "sns.heatmap(cf_matrix, annot=True)"
   ]
  },
  {
   "cell_type": "markdown",
   "metadata": {},
   "source": [
    "We can easily see that we have improved the accuracy over the first NN classification. It may be true that the time spent to obtain these results can be higher than when simply using a neural network to classify the data, but is is also true that, after having transoformed the data, it becomes much easier to be learnt, hence reducing the risk the NN has to simply \"memorize\" the training data and not really learn the proper classification."
   ]
  },
  {
   "cell_type": "markdown",
   "metadata": {},
   "source": [
    "# Differences with the source article"
   ]
  },
  {
   "cell_type": "markdown",
   "metadata": {},
   "source": [
    "While the philosophy behind our code and the M4GP algorithm presented in the article are mostly the same, several simplifications have been done for the sake of clarity. In this section, we will explain these differences, which are in part responsible for the enhanced performances of the M4GP algorithm.\n",
    "\n",
    "We will begin by succintly presenting the M4GP algorithm:\n",
    "\n",
    "- It uses a stack-based program representation, exactly as the code we have developped\n",
    "- It incorporates a multi-objective parent selection and survival technique\n",
    "- It introduces an archiving strategy that maintains a set of optimal trade-off solutions based on complexity and accuracy\n",
    "\n",
    "The idea of the algorithm is to find a set of transformations (programs) $\\Phi(x): \\mathbb{R}^p \\to \\mathbb{R}^d$ that projects the data into an space where they are more easily classified by a nearest centroid method. However, the M4GP algorithm uses the Mahalanobis distance instead of the Euclidean distance when assigning the points to the different centrois, since it has found that it is more appropriate for the classification problem."
   ]
  },
  {
   "cell_type": "markdown",
   "metadata": {},
   "source": [
    "<div class=\"alert alert-block alert-danger\"><b>Obs.-</b> The Mahalanobis distance is defined as:\n",
    "    \n",
    "$D_M(x',X_k) = \\sqrt{(x'-\\mu_k)\\Sigma_k^{-1}(x'-\\mu_k)^T}$\n",
    "    \n",
    "where $\\mu_k$ is the centroid of $X_k$ and $\\Sigma_k \\in \\mathbb{R}^{p*p}$ is the within-class covariance matrix. We therefore see that, for each classification, one matrix has to be inverted, which can sometimes be computationally expensive."
   ]
  },
  {
   "cell_type": "markdown",
   "metadata": {},
   "source": [
    "Another difference between our code and the M4GP algorithm is that it works with subtrees and leaves, wich can cosist of either a component of the data (ex.- [2]) or two components and an operation (ex.- [2 2 \\*]). This approach guarantees that the programs are always valid, but avoid certain interactions, such as the product of sums.\n",
    "\n",
    "So far, we have not greatly differed from the source material. However, the M4GP algorithm performs the selection and variation process differently. These differences will be presented in the following lines."
   ]
  },
  {
   "cell_type": "markdown",
   "metadata": {},
   "source": [
    "## Selection\n",
    "\n",
    "In order to select the programs to keep, we have simply retained the ones with the highest score when comparing the methods. However, the M4GP algorithm has been tested with three different selection methods:\n",
    "\n",
    "- **Tournament selection**: This method consists on selecting a set of individuals (it can be any number, but M4GP uses two) and keeping the one which is bet suited as a parent for the next generations. This way, genetic diversity is preserved, since a tournament between several of the worst-scoring parents will guarantee that one of them is kept as a parent for the next generation. In a way, we have followed a similar approach, but our tournament has been performed with the whole population, and the top 250 individuals have been retained. However, since we have not implemented mutations or crossover of individuals (since our easy problem did not require it), it was not crucial to keep genetic diversity, and we thus decided to not follow this approach. This method is explained in depth in the book \"A fiel guide to genetic programming\" by Riccardo Poli (http://www0.cs.ucl.ac.uk/staff/W.Langdon/ftp/papers/poli08_fieldguide.pdf)\n",
    "\n",
    "- **Lexicase selection**: This approach consists on selecting the individuas which best perform on certainly test cases. The method runs several test cases on the population, and then randomly orders these cases. Next, it elliminates every individual which has not the best performance in the first test case (the test is often binary: either an individual satisgyes the test case or it does not). It continues with the remaining individuals analyzing the second test case, and so on until only one individual remains, which will be kept as a parent for the next generation. The process is done until the desired number of parents is achieved. This method can therefore often keep \"specialist\" individuals: for example, if the first test case is only satisfied by one individual, it will automatically be kept as a parent for the next generation, even if it is the only test case the individual is able to succeed in. Lexicase selection is further explained in the article \"Solving Uncompromising Problems WithLexicase Selection\" by Thomas Helmuth and Lee Spector (https://ieeexplore.ieee.org/stamp/stamp.jsp?tp=&arnumber=6920034)\n",
    "\n",
    "- **Age-fitness Pareto selection**: This algorithm assigns each individual an age, corresponding to the number of generations since its first ancestor appeared. After each generation, a random individual is added, and then a number of offspring equal to the total population size is generated. The algorithm then keeps the individuals based on a combination of the \"strength\" of each one of them (whether it dominates or is dominated by a lot of individuals) and density estimate (wether the individual is in a highly-populated region or a rather empty one). More information on this method can be found on chapter eight of the book \"Genetic Programming Theory and Practice VIII\", by Michael Schmidt and Hod Lipson (https://link.springer.com/chapter/10.1007%2F978-1-4419-7747-2_8)\n",
    "\n",
    "A final difference between the M4GP algorithm and our simple example, is that M4GP keeps an archive of the best solbutions obtained during the optimization process (similar to a Pareto front, with a complexity-accuracy tradeoff). To choose the final solution, they are all evaluated over a validation set, and then only the one with the highest score is kept as the optimal solution."
   ]
  },
  {
   "cell_type": "markdown",
   "metadata": {},
   "source": [
    "## Variation\n",
    "\n",
    "As far as variation is concerned, the M4GP algorithm, like almost every other genetic algorithm, incorporates crossover and mutation with a given likelyhood on random individuals. Since the problem we have analyzed did not require such a diverse genetic pool, these methods have not been implemented, but they could easily be incorporated in the algorithm to further improve its performances.\n",
    "\n",
    "Since the M4GP program works with leaves and subtrees (as previously explained), these processes are very simple to perform (in our code, they may easily lead to erroneous programs):\n",
    "\n",
    "- For the mutation, either a sub-tree is replaced with a randomly generated one, either a randomly-generated sub-tree is added to the program, either a root sub-tree is removed (operator plus components affected).\n",
    "- For the crossover, standard corssover is done either between root (operators) or non-root (component) nodes of two parents"
   ]
  },
  {
   "cell_type": "markdown",
   "metadata": {},
   "source": [
    "# Possible applications"
   ]
  },
  {
   "cell_type": "markdown",
   "metadata": {},
   "source": [
    "Among the experimental analysis presented in the paper, perhaps the most interesting and promising one is the application of M4GP to disease prediction fromm genome-wide association studies (https://dl.acm.org/doi/pdf/10.1145/3071178.3071212). The idea is to use the algorithm to identify nonlinear interactions in simulated genome-wide association studies, that is to say, to identify epistatic interactions of genes from noisy datasets."
   ]
  },
  {
   "cell_type": "markdown",
   "metadata": {},
   "source": [
    "<div class=\"alert alert-block alert-info\"><b>Obs.-</b> Epistasis is the phenomenon of some genes hiding the effect of other genes: for example, if a person has blond-hair, but has also the baldness gene, the baldness gene will hide their hair color. In other words, it is impossible to know the hair color of a bald person, since the baldness gene hides it.\n",
    "    \n",
    "However, that gene is there, and in some cases epistatic genes can lead to illnesses. We therefore need to be able to identify those hidden genes and their interactions in order to best diagnose and treat said diseases.\n",
    "    \n",
    "More information on the epistasis phenomenon can be found in https://en.wikipedia.org/wiki/Epistasis"
   ]
  },
  {
   "cell_type": "markdown",
   "metadata": {},
   "source": [
    "The algorithm has been tested with a series of GAMETES (https://biodatamining.biomedcentral.com/articles/10.1186/1756-0381-5-16) datasets. GAMETES is a software capable of generating noisy datasets with epistatic interactions among the genes, so it is an interesting ressource to use for this problem. The software used to generate these datasets, as well as the User's Guide, can be found in https://sourceforge.net/projects/gametes/files/\n",
    "\n",
    "After having analysed the results, it was concluded that the M4GP algorithm can compete with other state-of-the-art classification techniques in terms of speed (sometimes being even faster) and accuracy, specially when parallellizing the computations. "
   ]
  },
  {
   "cell_type": "markdown",
   "metadata": {},
   "source": [
    "# Limitations of the algorithm"
   ]
  },
  {
   "cell_type": "markdown",
   "metadata": {},
   "source": [
    "As previously stated above, the fact of hafing to invert a matrix for the calculations of the Mahalanobis distance can make the code slow, since it is an expensive computation.  One possible solution would be to maintain a single model $\\Phi$ and evolve a population corresonding to the dimensions of $\\Phi$, hence making only a matrix inversion per generation. However, this approach would also limit the exploration of the functions space, so in the end we will have to choose a trade-off exploration vs. speed.\n",
    "\n",
    "Another improvement, as also shown in our code, would be to pair the M4GP algorithm with other classification techniques. M4GP simply uses a Nearest Centroid classification (using Mahalanobis instead of Euclidean distance) once the optimal transformation has been found. However, other classifications could be done, such as a neural network (as we proposed). Nevertheless, even if we obtained promising results in our simple test example, it is not trivial to find the classifier which best pairs with the GP, so it should be chosen on a case-by-case basis."
   ]
  },
  {
   "cell_type": "markdown",
   "metadata": {},
   "source": [
    "# Summary"
   ]
  },
  {
   "cell_type": "markdown",
   "metadata": {},
   "source": [
    "We have begun this notebook by presenting the generation of a dataset with hidden interactions. We have then tried to classify the data before and after its decoding, showing that a transformation (in this case, dimensionality reduction) can help in the process without risking to overfit the data. Next, we have introduced a stochastic method to try to find the hidden interactions in the data.\n",
    "\n",
    "Afterwards, we have presented the M4GP algorithm, an algorithm aimed at finding these hidden interactions with stack-based programs. We have shown its differences with our code, as well as its applications and limitations.\n",
    "\n",
    "We hope you have found this notebook illustrative and interesting (the goal of this code was never to replicate the M4GP algorithm, but rather to illustrate its philosophy and performances via simple examples). We are open to any suggestions to further improve the notebook, and will more than gladly listen to any input given regarding this."
   ]
  }
 ],
 "metadata": {
  "kernelspec": {
   "display_name": "Python 3",
   "language": "python",
   "name": "python3"
  },
  "language_info": {
   "codemirror_mode": {
    "name": "ipython",
    "version": 3
   },
   "file_extension": ".py",
   "mimetype": "text/x-python",
   "name": "python",
   "nbconvert_exporter": "python",
   "pygments_lexer": "ipython3",
   "version": "3.8.3"
  }
 },
 "nbformat": 4,
 "nbformat_minor": 4
}
